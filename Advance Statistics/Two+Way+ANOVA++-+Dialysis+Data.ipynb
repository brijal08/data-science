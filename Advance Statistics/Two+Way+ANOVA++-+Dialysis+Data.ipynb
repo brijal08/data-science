{
 "cells": [
  {
   "cell_type": "markdown",
   "metadata": {},
   "source": [
    "<img src=\"https://d1vwxdpzbgdqj.cloudfront.net/s3-public-images/learning-partners/greatlearning-brand.png\" style=\"float:right;\" width=25%></img>"
   ]
  },
  {
   "cell_type": "markdown",
   "metadata": {},
   "source": [
    "### The following is the description of the dataset that we are going to use for Two Way ANOVA."
   ]
  },
  {
   "cell_type": "markdown",
   "metadata": {},
   "source": [
    "\n",
    "<img src=\"https://albertapressleader.ca/wp-content/uploads/2020/12/kidney-dialysis.jpg\" width = 45%></img>\n",
    "\n",
    "### Problem Statement:\n",
    "\n",
    "The dose for effective dialysis depends on duration of treatment and weight gain between treatments. To study the effects of these two factors on the number of days hospitalized attributable to kidney failure, a random sample of 10 patients per group undergone treatment in a large dialysis facility was obtained. Treatment duration was at 3 levels: short, mid and long. Average weight gain between treatments during the year was categorized into three levels: mild, moderate and severe."
   ]
  },
  {
   "cell_type": "code",
   "execution_count": 1,
   "metadata": {
    "ExecuteTime": {
     "end_time": "2020-05-11T12:38:58.371363Z",
     "start_time": "2020-05-11T12:38:58.335459Z"
    }
   },
   "outputs": [],
   "source": [
    "import numpy as np\n",
    "import pandas as pd\n",
    "import matplotlib.pyplot as plt\n",
    "import seaborn as sns\n",
    "from statsmodels.formula.api import ols      \n",
    "from statsmodels.stats.anova import anova_lm "
   ]
  },
  {
   "cell_type": "code",
   "execution_count": 2,
   "metadata": {
    "ExecuteTime": {
     "end_time": "2020-05-11T12:38:58.508708Z",
     "start_time": "2020-05-11T12:38:58.374356Z"
    }
   },
   "outputs": [],
   "source": [
    "df = pd.read_csv('Dialysis1.csv')"
   ]
  },
  {
   "cell_type": "code",
   "execution_count": 3,
   "metadata": {
    "ExecuteTime": {
     "end_time": "2020-05-11T12:38:58.683241Z",
     "start_time": "2020-05-11T12:38:58.511701Z"
    }
   },
   "outputs": [
    {
     "data": {
      "text/html": [
       "<div>\n",
       "<style scoped>\n",
       "    .dataframe tbody tr th:only-of-type {\n",
       "        vertical-align: middle;\n",
       "    }\n",
       "\n",
       "    .dataframe tbody tr th {\n",
       "        vertical-align: top;\n",
       "    }\n",
       "\n",
       "    .dataframe thead th {\n",
       "        text-align: right;\n",
       "    }\n",
       "</style>\n",
       "<table border=\"1\" class=\"dataframe\">\n",
       "  <thead>\n",
       "    <tr style=\"text-align: right;\">\n",
       "      <th></th>\n",
       "      <th>Duration</th>\n",
       "      <th>Weight_Gain</th>\n",
       "      <th>Patient</th>\n",
       "      <th>Days</th>\n",
       "    </tr>\n",
       "  </thead>\n",
       "  <tbody>\n",
       "    <tr>\n",
       "      <th>0</th>\n",
       "      <td>1</td>\n",
       "      <td>1</td>\n",
       "      <td>1</td>\n",
       "      <td>5</td>\n",
       "    </tr>\n",
       "    <tr>\n",
       "      <th>1</th>\n",
       "      <td>1</td>\n",
       "      <td>1</td>\n",
       "      <td>2</td>\n",
       "      <td>2</td>\n",
       "    </tr>\n",
       "    <tr>\n",
       "      <th>2</th>\n",
       "      <td>1</td>\n",
       "      <td>1</td>\n",
       "      <td>3</td>\n",
       "      <td>2</td>\n",
       "    </tr>\n",
       "    <tr>\n",
       "      <th>3</th>\n",
       "      <td>1</td>\n",
       "      <td>1</td>\n",
       "      <td>4</td>\n",
       "      <td>3</td>\n",
       "    </tr>\n",
       "    <tr>\n",
       "      <th>4</th>\n",
       "      <td>1</td>\n",
       "      <td>1</td>\n",
       "      <td>5</td>\n",
       "      <td>4</td>\n",
       "    </tr>\n",
       "  </tbody>\n",
       "</table>\n",
       "</div>"
      ],
      "text/plain": [
       "   Duration  Weight_Gain  Patient  Days\n",
       "0         1            1        1     5\n",
       "1         1            1        2     2\n",
       "2         1            1        3     2\n",
       "3         1            1        4     3\n",
       "4         1            1        5     4"
      ]
     },
     "execution_count": 3,
     "metadata": {},
     "output_type": "execute_result"
    }
   ],
   "source": [
    "df.head()"
   ]
  },
  {
   "cell_type": "code",
   "execution_count": 4,
   "metadata": {
    "ExecuteTime": {
     "end_time": "2020-05-11T12:38:59.059721Z",
     "start_time": "2020-05-11T12:38:58.944030Z"
    }
   },
   "outputs": [
    {
     "name": "stdout",
     "output_type": "stream",
     "text": [
      "<class 'pandas.core.frame.DataFrame'>\n",
      "RangeIndex: 90 entries, 0 to 89\n",
      "Data columns (total 4 columns):\n",
      " #   Column       Non-Null Count  Dtype\n",
      "---  ------       --------------  -----\n",
      " 0   Duration     90 non-null     int64\n",
      " 1   Weight_Gain  90 non-null     int64\n",
      " 2   Patient      90 non-null     int64\n",
      " 3   Days         90 non-null     int64\n",
      "dtypes: int64(4)\n",
      "memory usage: 2.9 KB\n"
     ]
    }
   ],
   "source": [
    "df.info()"
   ]
  },
  {
   "cell_type": "code",
   "execution_count": 5,
   "metadata": {},
   "outputs": [
    {
     "data": {
      "text/plain": [
       "1    30\n",
       "2    30\n",
       "3    30\n",
       "Name: Weight_Gain, dtype: int64"
      ]
     },
     "execution_count": 5,
     "metadata": {},
     "output_type": "execute_result"
    }
   ],
   "source": [
    "df['Weight_Gain'].value_counts()"
   ]
  },
  {
   "cell_type": "code",
   "execution_count": 6,
   "metadata": {},
   "outputs": [],
   "source": [
    "df['Weight_Gain'].replace(to_replace=1, value='mild', inplace=True)\n",
    "df['Weight_Gain'].replace(to_replace=2, value='moderate', inplace=True)\n",
    "df['Weight_Gain'].replace(to_replace=3, value='severe', inplace=True)"
   ]
  },
  {
   "cell_type": "code",
   "execution_count": 7,
   "metadata": {},
   "outputs": [],
   "source": [
    "df['Duration'].replace(to_replace=1, value='short', inplace=True)\n",
    "df['Duration'].replace(to_replace=2, value='mid', inplace=True)\n",
    "df['Duration'].replace(to_replace=3, value='long', inplace=True)"
   ]
  },
  {
   "cell_type": "code",
   "execution_count": 8,
   "metadata": {},
   "outputs": [
    {
     "data": {
      "text/plain": [
       "mid      30\n",
       "long     30\n",
       "short    30\n",
       "Name: Duration, dtype: int64"
      ]
     },
     "execution_count": 8,
     "metadata": {},
     "output_type": "execute_result"
    }
   ],
   "source": [
    "df['Duration'].value_counts()"
   ]
  },
  {
   "cell_type": "code",
   "execution_count": 9,
   "metadata": {},
   "outputs": [
    {
     "data": {
      "text/plain": [
       "count    90.000000\n",
       "mean      9.077778\n",
       "std       4.248537\n",
       "min       1.000000\n",
       "25%       6.000000\n",
       "50%       8.000000\n",
       "75%      13.000000\n",
       "max      18.000000\n",
       "Name: Days, dtype: float64"
      ]
     },
     "execution_count": 9,
     "metadata": {},
     "output_type": "execute_result"
    }
   ],
   "source": [
    "df.Days.describe()"
   ]
  },
  {
   "cell_type": "code",
   "execution_count": 10,
   "metadata": {},
   "outputs": [
    {
     "data": {
      "text/plain": [
       "Weight_Gain\n",
       "mild         8.366667\n",
       "moderate     8.433333\n",
       "severe      10.433333\n",
       "Name: Days, dtype: float64"
      ]
     },
     "execution_count": 10,
     "metadata": {},
     "output_type": "execute_result"
    }
   ],
   "source": [
    "df.groupby('Weight_Gain')['Days'].mean()"
   ]
  },
  {
   "cell_type": "code",
   "execution_count": 11,
   "metadata": {},
   "outputs": [
    {
     "data": {
      "text/plain": [
       "<AxesSubplot:xlabel='Days', ylabel='Count'>"
      ]
     },
     "execution_count": 11,
     "metadata": {},
     "output_type": "execute_result"
    },
    {
     "data": {
      "image/png": "[encoded data removed]",
      "text/plain": [
       "<Figure size 576x432 with 1 Axes>"
      ]
     },
     "metadata": {
      "needs_background": "light"
     },
     "output_type": "display_data"
    }
   ],
   "source": [
    "plt.subplots(figsize=(8,6))\n",
    "sns.histplot(x='Days', hue='Weight_Gain', kde=True, data=df)"
   ]
  },
  {
   "cell_type": "code",
   "execution_count": 12,
   "metadata": {},
   "outputs": [
    {
     "data": {
      "text/plain": [
       "Duration\n",
       "long     14.266667\n",
       "mid       8.066667\n",
       "short     4.900000\n",
       "Name: Days, dtype: float64"
      ]
     },
     "execution_count": 12,
     "metadata": {},
     "output_type": "execute_result"
    }
   ],
   "source": [
    "df.groupby('Duration')['Days'].mean()"
   ]
  },
  {
   "cell_type": "code",
   "execution_count": 13,
   "metadata": {},
   "outputs": [
    {
     "data": {
      "text/plain": [
       "<AxesSubplot:xlabel='Days', ylabel='Count'>"
      ]
     },
     "execution_count": 13,
     "metadata": {},
     "output_type": "execute_result"
    },
    {
     "data": {
      "image/png": "[encoded data removed]",
      "text/plain": [
       "<Figure size 576x432 with 1 Axes>"
      ]
     },
     "metadata": {
      "needs_background": "light"
     },
     "output_type": "display_data"
    }
   ],
   "source": [
    "plt.subplots(figsize=(8,6))\n",
    "sns.histplot(x='Days', hue='Duration', kde=True, data=df)"
   ]
  },
  {
   "cell_type": "code",
   "execution_count": 14,
   "metadata": {},
   "outputs": [
    {
     "data": {
      "text/html": [
       "<div>\n",
       "<style scoped>\n",
       "    .dataframe tbody tr th:only-of-type {\n",
       "        vertical-align: middle;\n",
       "    }\n",
       "\n",
       "    .dataframe tbody tr th {\n",
       "        vertical-align: top;\n",
       "    }\n",
       "\n",
       "    .dataframe thead th {\n",
       "        text-align: right;\n",
       "    }\n",
       "</style>\n",
       "<table border=\"1\" class=\"dataframe\">\n",
       "  <thead>\n",
       "    <tr style=\"text-align: right;\">\n",
       "      <th>Duration</th>\n",
       "      <th>long</th>\n",
       "      <th>mid</th>\n",
       "      <th>short</th>\n",
       "    </tr>\n",
       "    <tr>\n",
       "      <th>Weight_Gain</th>\n",
       "      <th></th>\n",
       "      <th></th>\n",
       "      <th></th>\n",
       "    </tr>\n",
       "  </thead>\n",
       "  <tbody>\n",
       "    <tr>\n",
       "      <th>mild</th>\n",
       "      <td>14.1</td>\n",
       "      <td>7.8</td>\n",
       "      <td>3.2</td>\n",
       "    </tr>\n",
       "    <tr>\n",
       "      <th>moderate</th>\n",
       "      <td>13.4</td>\n",
       "      <td>6.9</td>\n",
       "      <td>5.0</td>\n",
       "    </tr>\n",
       "    <tr>\n",
       "      <th>severe</th>\n",
       "      <td>15.3</td>\n",
       "      <td>9.5</td>\n",
       "      <td>6.5</td>\n",
       "    </tr>\n",
       "  </tbody>\n",
       "</table>\n",
       "</div>"
      ],
      "text/plain": [
       "Duration     long  mid  short\n",
       "Weight_Gain                  \n",
       "mild         14.1  7.8    3.2\n",
       "moderate     13.4  6.9    5.0\n",
       "severe       15.3  9.5    6.5"
      ]
     },
     "execution_count": 14,
     "metadata": {},
     "output_type": "execute_result"
    }
   ],
   "source": [
    "pd.crosstab(df['Weight_Gain'],df['Duration'],values=df['Days'], aggfunc='mean' )"
   ]
  },
  {
   "cell_type": "code",
   "execution_count": 15,
   "metadata": {},
   "outputs": [
    {
     "data": {
      "text/plain": [
       "<AxesSubplot:xlabel='Weight_Gain', ylabel='Days'>"
      ]
     },
     "execution_count": 15,
     "metadata": {},
     "output_type": "execute_result"
    },
    {
     "data": {
      "image/png": "[encoded data removed]",
      "text/plain": [
       "<Figure size 720x576 with 1 Axes>"
      ]
     },
     "metadata": {
      "needs_background": "light"
     },
     "output_type": "display_data"
    }
   ],
   "source": [
    "plt.subplots(figsize=(10,8))\n",
    "sns.boxplot(x='Weight_Gain', y='Days', hue='Duration', data=df)"
   ]
  },
  {
   "cell_type": "markdown",
   "metadata": {},
   "source": [
    "### Check Assumptions"
   ]
  },
  {
   "cell_type": "code",
   "execution_count": 16,
   "metadata": {},
   "outputs": [],
   "source": [
    "df1 = df[(df['Weight_Gain'] == 'mild') & (df['Duration'] == 'long')]\n",
    "df2 = df[(df['Weight_Gain'] == 'moderate') & (df['Duration'] == 'long')]\n",
    "df3 = df[(df['Weight_Gain'] == 'severe') & (df['Duration'] == 'long')]\n",
    "df4 = df[(df['Weight_Gain'] == 'mild') & (df['Duration'] == 'mid')]\n",
    "df5 = df[(df['Weight_Gain'] == 'moderate') & (df['Duration'] == 'mid')]\n",
    "df6 = df[(df['Weight_Gain'] == 'severe') & (df['Duration'] == 'mid')]\n",
    "df7 = df[(df['Weight_Gain'] == 'mild') & (df['Duration'] == 'short')]\n",
    "df8 = df[(df['Weight_Gain'] == 'moderate') & (df['Duration'] == 'short')]\n",
    "df9 = df[(df['Weight_Gain'] == 'severe') & (df['Duration'] == 'short')]"
   ]
  },
  {
   "cell_type": "code",
   "execution_count": 17,
   "metadata": {},
   "outputs": [],
   "source": [
    "import scipy.stats as stats"
   ]
  },
  {
   "cell_type": "code",
   "execution_count": 18,
   "metadata": {
    "scrolled": true
   },
   "outputs": [
    {
     "name": "stdout",
     "output_type": "stream",
     "text": [
      "ShapiroResult(statistic=0.9256626963615417, pvalue=0.40660929679870605)\n",
      "ShapiroResult(statistic=0.8916546702384949, pvalue=0.17699755728244781)\n",
      "ShapiroResult(statistic=0.9271933436393738, pvalue=0.42086061835289)\n",
      "ShapiroResult(statistic=0.8946099281311035, pvalue=0.19098953902721405)\n",
      "ShapiroResult(statistic=0.8553236126899719, pvalue=0.06718955934047699)\n",
      "ShapiroResult(statistic=0.8647897243499756, pvalue=0.08687927573919296)\n",
      "ShapiroResult(statistic=0.9419143199920654, pvalue=0.5745048522949219)\n",
      "ShapiroResult(statistic=0.918366551399231, pvalue=0.34353265166282654)\n",
      "ShapiroResult(statistic=0.8647897243499756, pvalue=0.08687927573919296)\n"
     ]
    }
   ],
   "source": [
    "#  The Shapiro-Wilk normality test carried out within each group\n",
    "print(stats.shapiro(df1['Days']))\n",
    "print(stats.shapiro(df2['Days']))\n",
    "print(stats.shapiro(df3['Days']))\n",
    "print(stats.shapiro(df4['Days']))\n",
    "print(stats.shapiro(df5['Days']))\n",
    "print(stats.shapiro(df6['Days']))\n",
    "print(stats.shapiro(df7['Days']))\n",
    "print(stats.shapiro(df8['Days']))\n",
    "print(stats.shapiro(df9['Days'])) # Check this for all subset dataframes"
   ]
  },
  {
   "cell_type": "markdown",
   "metadata": {},
   "source": [
    "As p value for all groups is > 0.05, we fail to reject null hypothesis. Hence, each group follows a normal distribution"
   ]
  },
  {
   "cell_type": "code",
   "execution_count": 19,
   "metadata": {},
   "outputs": [
    {
     "data": {
      "text/plain": [
       "LeveneResult(statistic=0.81423982869379, pvalue=0.5921296097101791)"
      ]
     },
     "execution_count": 19,
     "metadata": {},
     "output_type": "execute_result"
    }
   ],
   "source": [
    "#The Levene test tests the null hypothesis that all input samples are from populations with equal variances.\n",
    "#alpha = 0.05\n",
    "stats.levene(df1['Days'], df2['Days'], df3['Days'], df4['Days'], df5['Days'], \n",
    "             df6['Days'], df6['Days'], df8['Days'], df9['Days'])"
   ]
  },
  {
   "cell_type": "markdown",
   "metadata": {},
   "source": [
    "As p value > 0.05 we fail to reject null hypothesis, i.e. each group has equal variances"
   ]
  },
  {
   "cell_type": "markdown",
   "metadata": {},
   "source": [
    "**Let us now perform the Two Way ANOVA. We will now analyse the effect of both the treatments on the 'Days' variable.**"
   ]
  },
  {
   "cell_type": "markdown",
   "metadata": {},
   "source": [
    "One Way ANOVA with Weight Gain"
   ]
  },
  {
   "cell_type": "code",
   "execution_count": 20,
   "metadata": {},
   "outputs": [
    {
     "data": {
      "text/html": [
       "<div>\n",
       "<style scoped>\n",
       "    .dataframe tbody tr th:only-of-type {\n",
       "        vertical-align: middle;\n",
       "    }\n",
       "\n",
       "    .dataframe tbody tr th {\n",
       "        vertical-align: top;\n",
       "    }\n",
       "\n",
       "    .dataframe thead th {\n",
       "        text-align: right;\n",
       "    }\n",
       "</style>\n",
       "<table border=\"1\" class=\"dataframe\">\n",
       "  <thead>\n",
       "    <tr style=\"text-align: right;\">\n",
       "      <th></th>\n",
       "      <th>df</th>\n",
       "      <th>sum_sq</th>\n",
       "      <th>mean_sq</th>\n",
       "      <th>F</th>\n",
       "      <th>PR(&gt;F)</th>\n",
       "    </tr>\n",
       "  </thead>\n",
       "  <tbody>\n",
       "    <tr>\n",
       "      <th>C(Weight_Gain)</th>\n",
       "      <td>2.0</td>\n",
       "      <td>82.755556</td>\n",
       "      <td>41.377778</td>\n",
       "      <td>2.362582</td>\n",
       "      <td>0.100193</td>\n",
       "    </tr>\n",
       "    <tr>\n",
       "      <th>Residual</th>\n",
       "      <td>87.0</td>\n",
       "      <td>1523.700000</td>\n",
       "      <td>17.513793</td>\n",
       "      <td>NaN</td>\n",
       "      <td>NaN</td>\n",
       "    </tr>\n",
       "  </tbody>\n",
       "</table>\n",
       "</div>"
      ],
      "text/plain": [
       "                  df       sum_sq    mean_sq         F    PR(>F)\n",
       "C(Weight_Gain)   2.0    82.755556  41.377778  2.362582  0.100193\n",
       "Residual        87.0  1523.700000  17.513793       NaN       NaN"
      ]
     },
     "execution_count": 20,
     "metadata": {},
     "output_type": "execute_result"
    }
   ],
   "source": [
    "formula = 'Days ~ C(Weight_Gain)'\n",
    "model = ols(formula, df).fit()\n",
    "aov_table = anova_lm(model)\n",
    "(aov_table)"
   ]
  },
  {
   "cell_type": "markdown",
   "metadata": {},
   "source": [
    "One Way ANOVA with Duration"
   ]
  },
  {
   "cell_type": "code",
   "execution_count": 21,
   "metadata": {},
   "outputs": [
    {
     "data": {
      "text/html": [
       "<div>\n",
       "<style scoped>\n",
       "    .dataframe tbody tr th:only-of-type {\n",
       "        vertical-align: middle;\n",
       "    }\n",
       "\n",
       "    .dataframe tbody tr th {\n",
       "        vertical-align: top;\n",
       "    }\n",
       "\n",
       "    .dataframe thead th {\n",
       "        text-align: right;\n",
       "    }\n",
       "</style>\n",
       "<table border=\"1\" class=\"dataframe\">\n",
       "  <thead>\n",
       "    <tr style=\"text-align: right;\">\n",
       "      <th></th>\n",
       "      <th>df</th>\n",
       "      <th>sum_sq</th>\n",
       "      <th>mean_sq</th>\n",
       "      <th>F</th>\n",
       "      <th>PR(&gt;F)</th>\n",
       "    </tr>\n",
       "  </thead>\n",
       "  <tbody>\n",
       "    <tr>\n",
       "      <th>C(Duration)</th>\n",
       "      <td>2.0</td>\n",
       "      <td>1362.022222</td>\n",
       "      <td>681.011111</td>\n",
       "      <td>242.389063</td>\n",
       "      <td>2.689612e-36</td>\n",
       "    </tr>\n",
       "    <tr>\n",
       "      <th>Residual</th>\n",
       "      <td>87.0</td>\n",
       "      <td>244.433333</td>\n",
       "      <td>2.809579</td>\n",
       "      <td>NaN</td>\n",
       "      <td>NaN</td>\n",
       "    </tr>\n",
       "  </tbody>\n",
       "</table>\n",
       "</div>"
      ],
      "text/plain": [
       "               df       sum_sq     mean_sq           F        PR(>F)\n",
       "C(Duration)   2.0  1362.022222  681.011111  242.389063  2.689612e-36\n",
       "Residual     87.0   244.433333    2.809579         NaN           NaN"
      ]
     },
     "execution_count": 21,
     "metadata": {},
     "output_type": "execute_result"
    }
   ],
   "source": [
    "formula = 'Days ~ C(Duration)'\n",
    "model = ols(formula, df).fit()\n",
    "aov_table = anova_lm(model)\n",
    "(aov_table)"
   ]
  },
  {
   "cell_type": "markdown",
   "metadata": {},
   "source": [
    "Two Way ANOVA without interaction"
   ]
  },
  {
   "cell_type": "code",
   "execution_count": 22,
   "metadata": {
    "ExecuteTime": {
     "end_time": "2020-05-11T12:39:00.013177Z",
     "start_time": "2020-05-11T12:38:59.868528Z"
    }
   },
   "outputs": [
    {
     "data": {
      "text/html": [
       "<div>\n",
       "<style scoped>\n",
       "    .dataframe tbody tr th:only-of-type {\n",
       "        vertical-align: middle;\n",
       "    }\n",
       "\n",
       "    .dataframe tbody tr th {\n",
       "        vertical-align: top;\n",
       "    }\n",
       "\n",
       "    .dataframe thead th {\n",
       "        text-align: right;\n",
       "    }\n",
       "</style>\n",
       "<table border=\"1\" class=\"dataframe\">\n",
       "  <thead>\n",
       "    <tr style=\"text-align: right;\">\n",
       "      <th></th>\n",
       "      <th>df</th>\n",
       "      <th>sum_sq</th>\n",
       "      <th>mean_sq</th>\n",
       "      <th>F</th>\n",
       "      <th>PR(&gt;F)</th>\n",
       "    </tr>\n",
       "  </thead>\n",
       "  <tbody>\n",
       "    <tr>\n",
       "      <th>C(Weight_Gain)</th>\n",
       "      <td>2.0</td>\n",
       "      <td>82.755556</td>\n",
       "      <td>41.377778</td>\n",
       "      <td>21.753831</td>\n",
       "      <td>2.348663e-08</td>\n",
       "    </tr>\n",
       "    <tr>\n",
       "      <th>C(Duration)</th>\n",
       "      <td>2.0</td>\n",
       "      <td>1362.022222</td>\n",
       "      <td>681.011111</td>\n",
       "      <td>358.032781</td>\n",
       "      <td>3.930173e-42</td>\n",
       "    </tr>\n",
       "    <tr>\n",
       "      <th>Residual</th>\n",
       "      <td>85.0</td>\n",
       "      <td>161.677778</td>\n",
       "      <td>1.902092</td>\n",
       "      <td>NaN</td>\n",
       "      <td>NaN</td>\n",
       "    </tr>\n",
       "  </tbody>\n",
       "</table>\n",
       "</div>"
      ],
      "text/plain": [
       "                  df       sum_sq     mean_sq           F        PR(>F)\n",
       "C(Weight_Gain)   2.0    82.755556   41.377778   21.753831  2.348663e-08\n",
       "C(Duration)      2.0  1362.022222  681.011111  358.032781  3.930173e-42\n",
       "Residual        85.0   161.677778    1.902092         NaN           NaN"
      ]
     },
     "execution_count": 22,
     "metadata": {},
     "output_type": "execute_result"
    }
   ],
   "source": [
    "formula = 'Days ~ C(Weight_Gain)+C(Duration)'\n",
    "model = ols(formula, df).fit()\n",
    "aov_table = anova_lm(model)\n",
    "(aov_table)"
   ]
  },
  {
   "cell_type": "markdown",
   "metadata": {},
   "source": [
    "Both factors have low p-values (less than 0.05), so the mean number of the days are not the same across both Weight_Gain and Duration. \n",
    "Duration is the more significant factor (lower p-value). "
   ]
  },
  {
   "cell_type": "markdown",
   "metadata": {},
   "source": [
    "**Let us check whether there is any interaction effect between the treatments.**"
   ]
  },
  {
   "cell_type": "code",
   "execution_count": 23,
   "metadata": {
    "ExecuteTime": {
     "end_time": "2020-05-11T12:39:04.888946Z",
     "start_time": "2020-05-11T12:39:04.704533Z"
    }
   },
   "outputs": [
    {
     "data": {
      "image/png": "[encoded data removed]",
      "text/plain": [
       "<Figure size 432x288 with 1 Axes>"
      ]
     },
     "metadata": {
      "needs_background": "light"
     },
     "output_type": "display_data"
    }
   ],
   "source": [
    "sns.pointplot(x='Weight_Gain', y='Days', data=df, hue='Duration',ci=None);"
   ]
  },
  {
   "cell_type": "code",
   "execution_count": 24,
   "metadata": {},
   "outputs": [
    {
     "data": {
      "image/png": "[encoded data removed]",
      "text/plain": [
       "<Figure size 432x288 with 1 Axes>"
      ]
     },
     "metadata": {
      "needs_background": "light"
     },
     "output_type": "display_data"
    }
   ],
   "source": [
    "sns.pointplot(x='Duration', y='Days', data=df, hue='Weight_Gain',ci=None);"
   ]
  },
  {
   "cell_type": "markdown",
   "metadata": {},
   "source": [
    "**Still, we can see that there is some sort of interaction between the two treatments. So, we will introduce a new term while performing the Two Way ANOVA.**"
   ]
  },
  {
   "cell_type": "code",
   "execution_count": 25,
   "metadata": {
    "ExecuteTime": {
     "end_time": "2020-05-11T12:39:01.674323Z",
     "start_time": "2020-05-11T12:39:01.641151Z"
    }
   },
   "outputs": [
    {
     "data": {
      "text/html": [
       "<div>\n",
       "<style scoped>\n",
       "    .dataframe tbody tr th:only-of-type {\n",
       "        vertical-align: middle;\n",
       "    }\n",
       "\n",
       "    .dataframe tbody tr th {\n",
       "        vertical-align: top;\n",
       "    }\n",
       "\n",
       "    .dataframe thead th {\n",
       "        text-align: right;\n",
       "    }\n",
       "</style>\n",
       "<table border=\"1\" class=\"dataframe\">\n",
       "  <thead>\n",
       "    <tr style=\"text-align: right;\">\n",
       "      <th></th>\n",
       "      <th>df</th>\n",
       "      <th>sum_sq</th>\n",
       "      <th>mean_sq</th>\n",
       "      <th>F</th>\n",
       "      <th>PR(&gt;F)</th>\n",
       "    </tr>\n",
       "  </thead>\n",
       "  <tbody>\n",
       "    <tr>\n",
       "      <th>C(Weight_Gain)</th>\n",
       "      <td>2.0</td>\n",
       "      <td>82.755556</td>\n",
       "      <td>41.377778</td>\n",
       "      <td>24.553846</td>\n",
       "      <td>4.617138e-09</td>\n",
       "    </tr>\n",
       "    <tr>\n",
       "      <th>C(Duration)</th>\n",
       "      <td>2.0</td>\n",
       "      <td>1362.022222</td>\n",
       "      <td>681.011111</td>\n",
       "      <td>404.116484</td>\n",
       "      <td>7.219602e-43</td>\n",
       "    </tr>\n",
       "    <tr>\n",
       "      <th>C(Weight_Gain):C(Duration)</th>\n",
       "      <td>4.0</td>\n",
       "      <td>25.177778</td>\n",
       "      <td>6.294444</td>\n",
       "      <td>3.735165</td>\n",
       "      <td>7.696131e-03</td>\n",
       "    </tr>\n",
       "    <tr>\n",
       "      <th>Residual</th>\n",
       "      <td>81.0</td>\n",
       "      <td>136.500000</td>\n",
       "      <td>1.685185</td>\n",
       "      <td>NaN</td>\n",
       "      <td>NaN</td>\n",
       "    </tr>\n",
       "  </tbody>\n",
       "</table>\n",
       "</div>"
      ],
      "text/plain": [
       "                              df       sum_sq     mean_sq           F  \\\n",
       "C(Weight_Gain)               2.0    82.755556   41.377778   24.553846   \n",
       "C(Duration)                  2.0  1362.022222  681.011111  404.116484   \n",
       "C(Weight_Gain):C(Duration)   4.0    25.177778    6.294444    3.735165   \n",
       "Residual                    81.0   136.500000    1.685185         NaN   \n",
       "\n",
       "                                  PR(>F)  \n",
       "C(Weight_Gain)              4.617138e-09  \n",
       "C(Duration)                 7.219602e-43  \n",
       "C(Weight_Gain):C(Duration)  7.696131e-03  \n",
       "Residual                             NaN  "
      ]
     },
     "execution_count": 25,
     "metadata": {},
     "output_type": "execute_result"
    }
   ],
   "source": [
    "formula = 'Days ~ C(Weight_Gain) + C(Duration) + C(Weight_Gain):C(Duration)'\n",
    "#formula = 'Days ~ C(Weight_Gain) * C(Duration)'\n",
    "model = ols(formula, df).fit()\n",
    "aov_table = anova_lm(model)\n",
    "(aov_table)"
   ]
  },
  {
   "cell_type": "markdown",
   "metadata": {},
   "source": [
    "Significant interaction effect"
   ]
  },
  {
   "cell_type": "markdown",
   "metadata": {},
   "source": [
    "#### Honest significant difference (tukeyhsd)"
   ]
  },
  {
   "cell_type": "code",
   "execution_count": 26,
   "metadata": {},
   "outputs": [],
   "source": [
    "df['WgDu'] = df['Weight_Gain']+':'+ df['Duration']"
   ]
  },
  {
   "cell_type": "code",
   "execution_count": 27,
   "metadata": {},
   "outputs": [
    {
     "data": {
      "text/html": [
       "<div>\n",
       "<style scoped>\n",
       "    .dataframe tbody tr th:only-of-type {\n",
       "        vertical-align: middle;\n",
       "    }\n",
       "\n",
       "    .dataframe tbody tr th {\n",
       "        vertical-align: top;\n",
       "    }\n",
       "\n",
       "    .dataframe thead th {\n",
       "        text-align: right;\n",
       "    }\n",
       "</style>\n",
       "<table border=\"1\" class=\"dataframe\">\n",
       "  <thead>\n",
       "    <tr style=\"text-align: right;\">\n",
       "      <th></th>\n",
       "      <th>Duration</th>\n",
       "      <th>Weight_Gain</th>\n",
       "      <th>Patient</th>\n",
       "      <th>Days</th>\n",
       "      <th>WgDu</th>\n",
       "    </tr>\n",
       "  </thead>\n",
       "  <tbody>\n",
       "    <tr>\n",
       "      <th>0</th>\n",
       "      <td>short</td>\n",
       "      <td>mild</td>\n",
       "      <td>1</td>\n",
       "      <td>5</td>\n",
       "      <td>mild:short</td>\n",
       "    </tr>\n",
       "    <tr>\n",
       "      <th>1</th>\n",
       "      <td>short</td>\n",
       "      <td>mild</td>\n",
       "      <td>2</td>\n",
       "      <td>2</td>\n",
       "      <td>mild:short</td>\n",
       "    </tr>\n",
       "    <tr>\n",
       "      <th>2</th>\n",
       "      <td>short</td>\n",
       "      <td>mild</td>\n",
       "      <td>3</td>\n",
       "      <td>2</td>\n",
       "      <td>mild:short</td>\n",
       "    </tr>\n",
       "    <tr>\n",
       "      <th>3</th>\n",
       "      <td>short</td>\n",
       "      <td>mild</td>\n",
       "      <td>4</td>\n",
       "      <td>3</td>\n",
       "      <td>mild:short</td>\n",
       "    </tr>\n",
       "    <tr>\n",
       "      <th>4</th>\n",
       "      <td>short</td>\n",
       "      <td>mild</td>\n",
       "      <td>5</td>\n",
       "      <td>4</td>\n",
       "      <td>mild:short</td>\n",
       "    </tr>\n",
       "  </tbody>\n",
       "</table>\n",
       "</div>"
      ],
      "text/plain": [
       "  Duration Weight_Gain  Patient  Days        WgDu\n",
       "0    short        mild        1     5  mild:short\n",
       "1    short        mild        2     2  mild:short\n",
       "2    short        mild        3     2  mild:short\n",
       "3    short        mild        4     3  mild:short\n",
       "4    short        mild        5     4  mild:short"
      ]
     },
     "execution_count": 27,
     "metadata": {},
     "output_type": "execute_result"
    }
   ],
   "source": [
    "df.head()"
   ]
  },
  {
   "cell_type": "code",
   "execution_count": 28,
   "metadata": {},
   "outputs": [
    {
     "data": {
      "text/plain": [
       "moderate:short    10\n",
       "moderate:mid      10\n",
       "mild:short        10\n",
       "severe:long       10\n",
       "severe:short      10\n",
       "mild:long         10\n",
       "moderate:long     10\n",
       "mild:mid          10\n",
       "severe:mid        10\n",
       "Name: WgDu, dtype: int64"
      ]
     },
     "execution_count": 28,
     "metadata": {},
     "output_type": "execute_result"
    }
   ],
   "source": [
    "df['WgDu'].value_counts()"
   ]
  },
  {
   "cell_type": "code",
   "execution_count": 29,
   "metadata": {},
   "outputs": [],
   "source": [
    "from statsmodels.stats.multicomp import MultiComparison"
   ]
  },
  {
   "cell_type": "code",
   "execution_count": 30,
   "metadata": {
    "scrolled": true
   },
   "outputs": [
    {
     "name": "stdout",
     "output_type": "stream",
     "text": [
      "         Multiple Comparison of Means - Tukey HSD, FWER=0.05         \n",
      "=====================================================================\n",
      "    group1         group2     meandiff p-adj   lower    upper  reject\n",
      "---------------------------------------------------------------------\n",
      "     mild:long       mild:mid     -6.3  0.001  -8.1502 -4.4498   True\n",
      "     mild:long     mild:short    -10.9  0.001 -12.7502 -9.0498   True\n",
      "     mild:long  moderate:long     -0.7    0.9  -2.5502  1.1502  False\n",
      "     mild:long   moderate:mid     -7.2  0.001  -9.0502 -5.3498   True\n",
      "     mild:long moderate:short     -9.1  0.001 -10.9502 -7.2498   True\n",
      "     mild:long    severe:long      1.2  0.502  -0.6502  3.0502  False\n",
      "     mild:long     severe:mid     -4.6  0.001  -6.4502 -2.7498   True\n",
      "     mild:long   severe:short     -7.6  0.001  -9.4502 -5.7498   True\n",
      "      mild:mid     mild:short     -4.6  0.001  -6.4502 -2.7498   True\n",
      "      mild:mid  moderate:long      5.6  0.001   3.7498  7.4502   True\n",
      "      mild:mid   moderate:mid     -0.9 0.8067  -2.7502  0.9502  False\n",
      "      mild:mid moderate:short     -2.8  0.001  -4.6502 -0.9498   True\n",
      "      mild:mid    severe:long      7.5  0.001   5.6498  9.3502   True\n",
      "      mild:mid     severe:mid      1.7 0.0971  -0.1502  3.5502  False\n",
      "      mild:mid   severe:short     -1.3 0.3933  -3.1502  0.5502  False\n",
      "    mild:short  moderate:long     10.2  0.001   8.3498 12.0502   True\n",
      "    mild:short   moderate:mid      3.7  0.001   1.8498  5.5502   True\n",
      "    mild:short moderate:short      1.8 0.0631  -0.0502  3.6502  False\n",
      "    mild:short    severe:long     12.1  0.001  10.2498 13.9502   True\n",
      "    mild:short     severe:mid      6.3  0.001   4.4498  8.1502   True\n",
      "    mild:short   severe:short      3.3  0.001   1.4498  5.1502   True\n",
      " moderate:long   moderate:mid     -6.5  0.001  -8.3502 -4.6498   True\n",
      " moderate:long moderate:short     -8.4  0.001 -10.2502 -6.5498   True\n",
      " moderate:long    severe:long      1.9 0.0396   0.0498  3.7502   True\n",
      " moderate:long     severe:mid     -3.9  0.001  -5.7502 -2.0498   True\n",
      " moderate:long   severe:short     -6.9  0.001  -8.7502 -5.0498   True\n",
      "  moderate:mid moderate:short     -1.9 0.0396  -3.7502 -0.0498   True\n",
      "  moderate:mid    severe:long      8.4  0.001   6.5498 10.2502   True\n",
      "  moderate:mid     severe:mid      2.6  0.001   0.7498  4.4502   True\n",
      "  moderate:mid   severe:short     -0.4    0.9  -2.2502  1.4502  False\n",
      "moderate:short    severe:long     10.3  0.001   8.4498 12.1502   True\n",
      "moderate:short     severe:mid      4.5  0.001   2.6498  6.3502   True\n",
      "moderate:short   severe:short      1.5 0.2098  -0.3502  3.3502  False\n",
      "   severe:long     severe:mid     -5.8  0.001  -7.6502 -3.9498   True\n",
      "   severe:long   severe:short     -8.8  0.001 -10.6502 -6.9498   True\n",
      "    severe:mid   severe:short     -3.0  0.001  -4.8502 -1.1498   True\n",
      "---------------------------------------------------------------------\n"
     ]
    }
   ],
   "source": [
    "mcomp = MultiComparison(df['Days'], df['WgDu'])\n",
    "print(mcomp.tukeyhsd().summary())"
   ]
  },
  {
   "cell_type": "markdown",
   "metadata": {},
   "source": [
    "                                            ------ Happy Learning------"
   ]
  },
  {
   "cell_type": "code",
   "execution_count": null,
   "metadata": {},
   "outputs": [],
   "source": []
  },
  {
   "cell_type": "code",
   "execution_count": null,
   "metadata": {},
   "outputs": [],
   "source": []
  }
 ],
 "metadata": {
  "kernelspec": {
   "display_name": "Python 3",
   "language": "python",
   "name": "python3"
  },
  "language_info": {
   "codemirror_mode": {
    "name": "ipython",
    "version": 3
   },
   "file_extension": ".py",
   "mimetype": "text/x-python",
   "name": "python",
   "nbconvert_exporter": "python",
   "pygments_lexer": "ipython3",
   "version": "3.8.8"
  },
  "toc": {
   "base_numbering": 1,
   "nav_menu": {},
   "number_sections": true,
   "sideBar": true,
   "skip_h1_title": false,
   "title_cell": "Table of Contents",
   "title_sidebar": "Contents",
   "toc_cell": false,
   "toc_position": {},
   "toc_section_display": true,
   "toc_window_display": false
  },
  "varInspector": {
   "cols": {
    "lenName": 16,
    "lenType": 16,
    "lenVar": 40
   },
   "kernels_config": {
    "python": {
     "delete_cmd_postfix": "",
     "delete_cmd_prefix": "del ",
     "library": "var_list.py",
     "varRefreshCmd": "print(var_dic_list())"
    },
    "r": {
     "delete_cmd_postfix": ") ",
     "delete_cmd_prefix": "rm(",
     "library": "var_list.r",
     "varRefreshCmd": "cat(var_dic_list()) "
    }
   },
   "types_to_exclude": [
    "module",
    "function",
    "builtin_function_or_method",
    "instance",
    "_Feature"
   ],
   "window_display": false
  }
 },
 "nbformat": 4,
 "nbformat_minor": 4
}
