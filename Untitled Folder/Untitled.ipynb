{
 "cells": [
  {
   "cell_type": "code",
   "execution_count": 1,
   "id": "c724b4c8",
   "metadata": {},
   "outputs": [],
   "source": [
    "import os\n",
    "import time\n",
    "from selenium import webdriver\n",
    "from selenium.webdriver.support.ui import WebDriverWait,Select\n",
    "from selenium.webdriver.support import expected_conditions as EC\n",
    "from selenium.webdriver.common.by import By\n",
    "from selenium.common.exceptions import TimeoutException, NoSuchElementException\n",
    "from selenium.webdriver.common.action_chains import ActionChains\n",
    "from selenium.webdriver.common.keys import Keys"
   ]
  },
  {
   "cell_type": "code",
   "execution_count": 2,
   "id": "d5620398",
   "metadata": {},
   "outputs": [
    {
     "name": "stderr",
     "output_type": "stream",
     "text": [
      "<ipython-input-2-19394531e9ae>:1: DeprecationWarning: executable_path has been deprecated, please pass in a Service object\n",
      "  browser = webdriver.Chrome(executable_path=r\"C:\\Users\\admin\\Downloads\\chromedriver_win32\\chromedriver.exe\")\n"
     ]
    }
   ],
   "source": [
    "browser = webdriver.Chrome(executable_path=r\"C:\\Users\\admin\\Downloads\\chromedriver_win32\\chromedriver.exe\")\n",
    "url = ('https://www.kaspersky.co.in/antivirus')\n",
    "browser.get(url)\n"
   ]
  },
  {
   "cell_type": "code",
   "execution_count": 3,
   "id": "b711fabb",
   "metadata": {},
   "outputs": [],
   "source": [
    "element = WebDriverWait(browser, 20).until(EC.visibility_of_element_located((By.CLASS_NAME, \"PlanSelect_plan__1l6py\"))).click()\n"
   ]
  },
  {
   "cell_type": "code",
   "execution_count": 4,
   "id": "b4be724f",
   "metadata": {},
   "outputs": [
    {
     "data": {
      "text/plain": [
       "[<selenium.webdriver.remote.webelement.WebElement (session=\"9f694cbd764d81cbc4a629c29b689e4e\", element=\"b122cd3c-cf0d-46ec-b5d1-9ca82fcf817d\")>,\n",
       " <selenium.webdriver.remote.webelement.WebElement (session=\"9f694cbd764d81cbc4a629c29b689e4e\", element=\"e3357472-71b6-4359-946e-cb35de466bd9\")>]"
      ]
     },
     "execution_count": 4,
     "metadata": {},
     "output_type": "execute_result"
    }
   ],
   "source": [
    " browser.find_elements(By.CLASS_NAME,value='PlanSelect_needMore__1gPlt')"
   ]
  },
  {
   "cell_type": "code",
   "execution_count": 5,
   "id": "e1a8f062",
   "metadata": {},
   "outputs": [],
   "source": [
    "element = WebDriverWait(browser, 20).until(EC.element_to_be_clickable((By.CLASS_NAME, \"PlanSelect_needMore__1gPlt\"))).click()"
   ]
  },
  {
   "cell_type": "code",
   "execution_count": 6,
   "id": "4aeaa1a2",
   "metadata": {},
   "outputs": [
    {
     "data": {
      "text/plain": [
       "[<selenium.webdriver.remote.webelement.WebElement (session=\"9f694cbd764d81cbc4a629c29b689e4e\", element=\"8de53cc3-6841-48b0-80a0-bb84e455481b\")>,\n",
       " <selenium.webdriver.remote.webelement.WebElement (session=\"9f694cbd764d81cbc4a629c29b689e4e\", element=\"876bf161-56ed-40de-bdd2-4192f7135d3c\")>,\n",
       " <selenium.webdriver.remote.webelement.WebElement (session=\"9f694cbd764d81cbc4a629c29b689e4e\", element=\"2b17f163-bc4b-4217-aa02-4ed474501bbb\")>,\n",
       " <selenium.webdriver.remote.webelement.WebElement (session=\"9f694cbd764d81cbc4a629c29b689e4e\", element=\"cb9b6aaf-6ac1-4ad5-a749-cddb54eb761c\")>,\n",
       " <selenium.webdriver.remote.webelement.WebElement (session=\"9f694cbd764d81cbc4a629c29b689e4e\", element=\"29d68ca9-9c1f-4089-8961-cd2dbb4b737c\")>,\n",
       " <selenium.webdriver.remote.webelement.WebElement (session=\"9f694cbd764d81cbc4a629c29b689e4e\", element=\"a2864ba9-0753-4108-8435-a8b66daf7acc\")>,\n",
       " <selenium.webdriver.remote.webelement.WebElement (session=\"9f694cbd764d81cbc4a629c29b689e4e\", element=\"96a6ce3c-c27b-4a83-b118-8863ba9ac0d1\")>,\n",
       " <selenium.webdriver.remote.webelement.WebElement (session=\"9f694cbd764d81cbc4a629c29b689e4e\", element=\"214af21b-cc76-4f94-aa89-daf95c656f49\")>,\n",
       " <selenium.webdriver.remote.webelement.WebElement (session=\"9f694cbd764d81cbc4a629c29b689e4e\", element=\"1edbfa91-cf0d-49cd-9fc1-b9593b48ac96\")>,\n",
       " <selenium.webdriver.remote.webelement.WebElement (session=\"9f694cbd764d81cbc4a629c29b689e4e\", element=\"d0bfad3d-93e1-4ea9-832b-d5a38d13541b\")>,\n",
       " <selenium.webdriver.remote.webelement.WebElement (session=\"9f694cbd764d81cbc4a629c29b689e4e\", element=\"8cb0d6b3-d6b8-4e38-a113-196adb92ab24\")>,\n",
       " <selenium.webdriver.remote.webelement.WebElement (session=\"9f694cbd764d81cbc4a629c29b689e4e\", element=\"b715ecc4-1f34-45b7-a5ed-98a2828e6903\")>]"
      ]
     },
     "execution_count": 6,
     "metadata": {},
     "output_type": "execute_result"
    }
   ],
   "source": [
    "browser.find_elements(By.CLASS_NAME,value='BBModalRadioOptionsV2_option__2lT3F')"
   ]
  },
  {
   "cell_type": "code",
   "execution_count": 7,
   "id": "d9dc9d89",
   "metadata": {},
   "outputs": [],
   "source": [
    "pcList = browser.find_elements(By.CLASS_NAME,value='BBModalRadioOptionsV2_option__2lT3F')"
   ]
  },
  {
   "cell_type": "code",
   "execution_count": 8,
   "id": "62126348",
   "metadata": {},
   "outputs": [
    {
     "name": "stdout",
     "output_type": "stream",
     "text": [
      "1 PC\n",
      "1 Year\n",
      "₹479.20\n",
      "₹599.00\n",
      "1 PC\n",
      "2 Years\n",
      "₹719.20\n",
      "₹899.00\n",
      "2 PCs\n",
      "1 Year\n",
      "₹719.20\n",
      "₹899.00\n",
      "2 PCs\n",
      "2 Years\n",
      "₹1,103.20\n",
      "₹1,379.00\n",
      "3 PCs\n",
      "1 Year\n",
      "₹959.20\n",
      "₹1,199.00\n",
      "3 PCs\n",
      "2 Years\n",
      "₹1,439.20\n",
      "₹1,799.00\n",
      "4 PCs\n",
      "1 Year\n",
      "₹1,199.20\n",
      "₹1,499.00\n",
      "4 PCs\n",
      "2 Years\n",
      "₹1,799.20\n",
      "₹2,249.00\n",
      "5 PCs\n",
      "1 Year\n",
      "₹1,439.20\n",
      "₹1,799.00\n",
      "5 PCs\n",
      "2 Years\n",
      "₹2,159.20\n",
      "₹2,699.00\n",
      "10 PCs\n",
      "1 Year\n",
      "₹2,639.20\n",
      "₹3,299.00\n",
      "10 PCs\n",
      "2 Years\n",
      "₹3,959.20\n",
      "₹4,949.00\n"
     ]
    }
   ],
   "source": [
    "for data in pcList:\n",
    "    print(data.text)"
   ]
  },
  {
   "cell_type": "code",
   "execution_count": 9,
   "id": "9c890ccb",
   "metadata": {},
   "outputs": [],
   "source": [
    "import pandas as pd"
   ]
  },
  {
   "cell_type": "code",
   "execution_count": 10,
   "id": "eaf5af21",
   "metadata": {},
   "outputs": [
    {
     "name": "stdout",
     "output_type": "stream",
     "text": [
      "['1 PC', '1 PC', '2 PCs', '2 PCs', '3 PCs', '3 PCs', '4 PCs', '4 PCs', '5 PCs', '5 PCs', '10 PCs', '10 PCs']\n",
      "['1 Year', '2 Years', '1 Year', '2 Years', '1 Year', '2 Years', '1 Year', '2 Years', '1 Year', '2 Years', '1 Year', '2 Years']\n",
      "['₹599.00', '₹899.00', '₹899.00', '₹1,379.00', '₹1,199.00', '₹1,799.00', '₹1,499.00', '₹2,249.00', '₹1,799.00', '₹2,699.00', '₹3,299.00', '₹4,949.00']\n",
      "['₹479.20', '₹719.20', '₹719.20', '₹1,103.20', '₹959.20', '₹1,439.20', '₹1,199.20', '₹1,799.20', '₹1,439.20', '₹2,159.20', '₹2,639.20', '₹3,959.20']\n"
     ]
    },
    {
     "data": {
      "text/html": [
       "<div>\n",
       "<style scoped>\n",
       "    .dataframe tbody tr th:only-of-type {\n",
       "        vertical-align: middle;\n",
       "    }\n",
       "\n",
       "    .dataframe tbody tr th {\n",
       "        vertical-align: top;\n",
       "    }\n",
       "\n",
       "    .dataframe thead th {\n",
       "        text-align: right;\n",
       "    }\n",
       "</style>\n",
       "<table border=\"1\" class=\"dataframe\">\n",
       "  <thead>\n",
       "    <tr style=\"text-align: right;\">\n",
       "      <th></th>\n",
       "      <th>Number of PC</th>\n",
       "      <th>Duration</th>\n",
       "      <th>Original Price</th>\n",
       "      <th>Discount price</th>\n",
       "    </tr>\n",
       "  </thead>\n",
       "  <tbody>\n",
       "    <tr>\n",
       "      <th>0</th>\n",
       "      <td>1 PC</td>\n",
       "      <td>1 Year</td>\n",
       "      <td>₹599.00</td>\n",
       "      <td>₹479.20</td>\n",
       "    </tr>\n",
       "    <tr>\n",
       "      <th>1</th>\n",
       "      <td>1 PC</td>\n",
       "      <td>2 Years</td>\n",
       "      <td>₹899.00</td>\n",
       "      <td>₹719.20</td>\n",
       "    </tr>\n",
       "    <tr>\n",
       "      <th>2</th>\n",
       "      <td>2 PCs</td>\n",
       "      <td>1 Year</td>\n",
       "      <td>₹899.00</td>\n",
       "      <td>₹719.20</td>\n",
       "    </tr>\n",
       "    <tr>\n",
       "      <th>3</th>\n",
       "      <td>2 PCs</td>\n",
       "      <td>2 Years</td>\n",
       "      <td>₹1,379.00</td>\n",
       "      <td>₹1,103.20</td>\n",
       "    </tr>\n",
       "    <tr>\n",
       "      <th>4</th>\n",
       "      <td>3 PCs</td>\n",
       "      <td>1 Year</td>\n",
       "      <td>₹1,199.00</td>\n",
       "      <td>₹959.20</td>\n",
       "    </tr>\n",
       "    <tr>\n",
       "      <th>5</th>\n",
       "      <td>3 PCs</td>\n",
       "      <td>2 Years</td>\n",
       "      <td>₹1,799.00</td>\n",
       "      <td>₹1,439.20</td>\n",
       "    </tr>\n",
       "    <tr>\n",
       "      <th>6</th>\n",
       "      <td>4 PCs</td>\n",
       "      <td>1 Year</td>\n",
       "      <td>₹1,499.00</td>\n",
       "      <td>₹1,199.20</td>\n",
       "    </tr>\n",
       "    <tr>\n",
       "      <th>7</th>\n",
       "      <td>4 PCs</td>\n",
       "      <td>2 Years</td>\n",
       "      <td>₹2,249.00</td>\n",
       "      <td>₹1,799.20</td>\n",
       "    </tr>\n",
       "    <tr>\n",
       "      <th>8</th>\n",
       "      <td>5 PCs</td>\n",
       "      <td>1 Year</td>\n",
       "      <td>₹1,799.00</td>\n",
       "      <td>₹1,439.20</td>\n",
       "    </tr>\n",
       "    <tr>\n",
       "      <th>9</th>\n",
       "      <td>5 PCs</td>\n",
       "      <td>2 Years</td>\n",
       "      <td>₹2,699.00</td>\n",
       "      <td>₹2,159.20</td>\n",
       "    </tr>\n",
       "    <tr>\n",
       "      <th>10</th>\n",
       "      <td>10 PCs</td>\n",
       "      <td>1 Year</td>\n",
       "      <td>₹3,299.00</td>\n",
       "      <td>₹2,639.20</td>\n",
       "    </tr>\n",
       "    <tr>\n",
       "      <th>11</th>\n",
       "      <td>10 PCs</td>\n",
       "      <td>2 Years</td>\n",
       "      <td>₹4,949.00</td>\n",
       "      <td>₹3,959.20</td>\n",
       "    </tr>\n",
       "  </tbody>\n",
       "</table>\n",
       "</div>"
      ],
      "text/plain": [
       "   Number of PC Duration Original Price Discount price\n",
       "0          1 PC   1 Year        ₹599.00        ₹479.20\n",
       "1          1 PC  2 Years        ₹899.00        ₹719.20\n",
       "2         2 PCs   1 Year        ₹899.00        ₹719.20\n",
       "3         2 PCs  2 Years      ₹1,379.00      ₹1,103.20\n",
       "4         3 PCs   1 Year      ₹1,199.00        ₹959.20\n",
       "5         3 PCs  2 Years      ₹1,799.00      ₹1,439.20\n",
       "6         4 PCs   1 Year      ₹1,499.00      ₹1,199.20\n",
       "7         4 PCs  2 Years      ₹2,249.00      ₹1,799.20\n",
       "8         5 PCs   1 Year      ₹1,799.00      ₹1,439.20\n",
       "9         5 PCs  2 Years      ₹2,699.00      ₹2,159.20\n",
       "10       10 PCs   1 Year      ₹3,299.00      ₹2,639.20\n",
       "11       10 PCs  2 Years      ₹4,949.00      ₹3,959.20"
      ]
     },
     "execution_count": 10,
     "metadata": {},
     "output_type": "execute_result"
    }
   ],
   "source": [
    "NumberOfPC = []\n",
    "Duration = []\n",
    "OriginalPrice = []\n",
    "DiscountPrice = []\n",
    "for data in pcList:\n",
    "    NumberOfPCList = data.find_elements(By.CLASS_NAME,value='Option_pack__11_XL')\n",
    "    for data1 in NumberOfPCList:\n",
    "        NumberOfPC.append(data1.text)\n",
    "    DurationList = data.find_elements(By.CLASS_NAME,value='Option_term__12otL')\n",
    "    for data2 in DurationList:\n",
    "        Duration.append(data2.text)\n",
    "    OriginalPriceList = data.find_elements(By.CLASS_NAME,value='Option_cutPrice__1t1Yn')\n",
    "    for data3 in OriginalPriceList:\n",
    "        OriginalPrice.append(data3.text)\n",
    "    DiscountPriceList = data.find_elements(By.CLASS_NAME,value='Option_priceHtml__2yvkW')\n",
    "    for data4 in DiscountPriceList:\n",
    "        DiscountPrice.append(data4.text)\n",
    "        \n",
    "print(NumberOfPC)\n",
    "print(Duration)\n",
    "print(OriginalPrice)\n",
    "print(DiscountPrice)\n",
    "        \n",
    "PCDataList = pd.DataFrame({'Number of PC':NumberOfPC,\n",
    "                           'Duration':Duration,\n",
    "                           'Original Price':OriginalPrice,\n",
    "                           'Discount price':DiscountPrice})\n",
    "PCDataList"
   ]
  },
  {
   "cell_type": "code",
   "execution_count": 12,
   "id": "5e4380ff",
   "metadata": {},
   "outputs": [],
   "source": [
    "browser.close()"
   ]
  },
  {
   "cell_type": "code",
   "execution_count": null,
   "id": "031ec71a",
   "metadata": {},
   "outputs": [],
   "source": []
  }
 ],
 "metadata": {
  "kernelspec": {
   "display_name": "Python 3",
   "language": "python",
   "name": "python3"
  },
  "language_info": {
   "codemirror_mode": {
    "name": "ipython",
    "version": 3
   },
   "file_extension": ".py",
   "mimetype": "text/x-python",
   "name": "python",
   "nbconvert_exporter": "python",
   "pygments_lexer": "ipython3",
   "version": "3.8.8"
  }
 },
 "nbformat": 4,
 "nbformat_minor": 5
}
