{
 "cells": [
  {
   "cell_type": "code",
   "execution_count": 1,
   "id": "56105d81",
   "metadata": {},
   "outputs": [],
   "source": [
    "import numpy as np\n",
    "import pandas as pd\n",
    "pd.set_option('display.float_format', lambda x: '%.2f' % x)\n",
    "import matplotlib.pyplot as plt\n",
    "import seaborn as sns\n",
    "sns.set_palette(\"deep\")\n",
    "from warnings import filterwarnings\n",
    "filterwarnings(\"ignore\")\n",
    "import scipy.stats as stats\n",
    "import statsmodels.stats.weightstats as statsmod"
   ]
  },
  {
   "cell_type": "markdown",
   "id": "9df3952c",
   "metadata": {},
   "source": [
    "# Problem 1 Wholesale Customers Analysis\n",
    "\n",
    "A wholesale distributor operating in different regions of Portugal has information on annual spending of several items in their stores across different regions and channels. The data consists of 440 large retailers’ annual spending on 6 different varieties of products in 3 different regions (Lisbon, Oporto, Other) and across different sales channel (Hotel, Retail)"
   ]
  },
  {
   "cell_type": "code",
   "execution_count": 2,
   "id": "a1cf6802",
   "metadata": {},
   "outputs": [
    {
     "data": {
      "text/html": [
       "<div>\n",
       "<style scoped>\n",
       "    .dataframe tbody tr th:only-of-type {\n",
       "        vertical-align: middle;\n",
       "    }\n",
       "\n",
       "    .dataframe tbody tr th {\n",
       "        vertical-align: top;\n",
       "    }\n",
       "\n",
       "    .dataframe thead th {\n",
       "        text-align: right;\n",
       "    }\n",
       "</style>\n",
       "<table border=\"1\" class=\"dataframe\">\n",
       "  <thead>\n",
       "    <tr style=\"text-align: right;\">\n",
       "      <th></th>\n",
       "      <th>Buyer/Spender</th>\n",
       "      <th>Channel</th>\n",
       "      <th>Region</th>\n",
       "      <th>Fresh</th>\n",
       "      <th>Milk</th>\n",
       "      <th>Grocery</th>\n",
       "      <th>Frozen</th>\n",
       "      <th>Detergents_Paper</th>\n",
       "      <th>Delicatessen</th>\n",
       "    </tr>\n",
       "  </thead>\n",
       "  <tbody>\n",
       "    <tr>\n",
       "      <th>0</th>\n",
       "      <td>1</td>\n",
       "      <td>Retail</td>\n",
       "      <td>Other</td>\n",
       "      <td>12669</td>\n",
       "      <td>9656</td>\n",
       "      <td>7561</td>\n",
       "      <td>214</td>\n",
       "      <td>2674</td>\n",
       "      <td>1338</td>\n",
       "    </tr>\n",
       "    <tr>\n",
       "      <th>1</th>\n",
       "      <td>2</td>\n",
       "      <td>Retail</td>\n",
       "      <td>Other</td>\n",
       "      <td>7057</td>\n",
       "      <td>9810</td>\n",
       "      <td>9568</td>\n",
       "      <td>1762</td>\n",
       "      <td>3293</td>\n",
       "      <td>1776</td>\n",
       "    </tr>\n",
       "    <tr>\n",
       "      <th>2</th>\n",
       "      <td>3</td>\n",
       "      <td>Retail</td>\n",
       "      <td>Other</td>\n",
       "      <td>6353</td>\n",
       "      <td>8808</td>\n",
       "      <td>7684</td>\n",
       "      <td>2405</td>\n",
       "      <td>3516</td>\n",
       "      <td>7844</td>\n",
       "    </tr>\n",
       "    <tr>\n",
       "      <th>3</th>\n",
       "      <td>4</td>\n",
       "      <td>Hotel</td>\n",
       "      <td>Other</td>\n",
       "      <td>13265</td>\n",
       "      <td>1196</td>\n",
       "      <td>4221</td>\n",
       "      <td>6404</td>\n",
       "      <td>507</td>\n",
       "      <td>1788</td>\n",
       "    </tr>\n",
       "    <tr>\n",
       "      <th>4</th>\n",
       "      <td>5</td>\n",
       "      <td>Retail</td>\n",
       "      <td>Other</td>\n",
       "      <td>22615</td>\n",
       "      <td>5410</td>\n",
       "      <td>7198</td>\n",
       "      <td>3915</td>\n",
       "      <td>1777</td>\n",
       "      <td>5185</td>\n",
       "    </tr>\n",
       "  </tbody>\n",
       "</table>\n",
       "</div>"
      ],
      "text/plain": [
       "   Buyer/Spender Channel Region  Fresh  Milk  Grocery  Frozen  \\\n",
       "0              1  Retail  Other  12669  9656     7561     214   \n",
       "1              2  Retail  Other   7057  9810     9568    1762   \n",
       "2              3  Retail  Other   6353  8808     7684    2405   \n",
       "3              4   Hotel  Other  13265  1196     4221    6404   \n",
       "4              5  Retail  Other  22615  5410     7198    3915   \n",
       "\n",
       "   Detergents_Paper  Delicatessen  \n",
       "0              2674          1338  \n",
       "1              3293          1776  \n",
       "2              3516          7844  \n",
       "3               507          1788  \n",
       "4              1777          5185  "
      ]
     },
     "execution_count": 2,
     "metadata": {},
     "output_type": "execute_result"
    }
   ],
   "source": [
    "CustomerData = pd.read_csv(\"Wholesale+Customers+Data.csv\")\n",
    "CustomerData.head()"
   ]
  },
  {
   "cell_type": "code",
   "execution_count": 3,
   "id": "295d163d",
   "metadata": {},
   "outputs": [
    {
     "name": "stdout",
     "output_type": "stream",
     "text": [
      "<class 'pandas.core.frame.DataFrame'>\n",
      "RangeIndex: 440 entries, 0 to 439\n",
      "Data columns (total 9 columns):\n",
      " #   Column            Non-Null Count  Dtype \n",
      "---  ------            --------------  ----- \n",
      " 0   Buyer/Spender     440 non-null    int64 \n",
      " 1   Channel           440 non-null    object\n",
      " 2   Region            440 non-null    object\n",
      " 3   Fresh             440 non-null    int64 \n",
      " 4   Milk              440 non-null    int64 \n",
      " 5   Grocery           440 non-null    int64 \n",
      " 6   Frozen            440 non-null    int64 \n",
      " 7   Detergents_Paper  440 non-null    int64 \n",
      " 8   Delicatessen      440 non-null    int64 \n",
      "dtypes: int64(7), object(2)\n",
      "memory usage: 31.1+ KB\n"
     ]
    }
   ],
   "source": [
    "CustomerData.info()"
   ]
  },
  {
   "cell_type": "code",
   "execution_count": 4,
   "id": "bcd9196a",
   "metadata": {},
   "outputs": [
    {
     "data": {
      "text/html": [
       "<div>\n",
       "<style scoped>\n",
       "    .dataframe tbody tr th:only-of-type {\n",
       "        vertical-align: middle;\n",
       "    }\n",
       "\n",
       "    .dataframe tbody tr th {\n",
       "        vertical-align: top;\n",
       "    }\n",
       "\n",
       "    .dataframe thead th {\n",
       "        text-align: right;\n",
       "    }\n",
       "</style>\n",
       "<table border=\"1\" class=\"dataframe\">\n",
       "  <thead>\n",
       "    <tr style=\"text-align: right;\">\n",
       "      <th></th>\n",
       "      <th>Buyer/Spender</th>\n",
       "      <th>Channel</th>\n",
       "      <th>Region</th>\n",
       "      <th>Fresh</th>\n",
       "      <th>Milk</th>\n",
       "      <th>Grocery</th>\n",
       "      <th>Frozen</th>\n",
       "      <th>Detergents_Paper</th>\n",
       "      <th>Delicatessen</th>\n",
       "    </tr>\n",
       "  </thead>\n",
       "  <tbody>\n",
       "    <tr>\n",
       "      <th>count</th>\n",
       "      <td>440.00</td>\n",
       "      <td>440</td>\n",
       "      <td>440</td>\n",
       "      <td>440.00</td>\n",
       "      <td>440.00</td>\n",
       "      <td>440.00</td>\n",
       "      <td>440.00</td>\n",
       "      <td>440.00</td>\n",
       "      <td>440.00</td>\n",
       "    </tr>\n",
       "    <tr>\n",
       "      <th>unique</th>\n",
       "      <td>NaN</td>\n",
       "      <td>2</td>\n",
       "      <td>3</td>\n",
       "      <td>NaN</td>\n",
       "      <td>NaN</td>\n",
       "      <td>NaN</td>\n",
       "      <td>NaN</td>\n",
       "      <td>NaN</td>\n",
       "      <td>NaN</td>\n",
       "    </tr>\n",
       "    <tr>\n",
       "      <th>top</th>\n",
       "      <td>NaN</td>\n",
       "      <td>Hotel</td>\n",
       "      <td>Other</td>\n",
       "      <td>NaN</td>\n",
       "      <td>NaN</td>\n",
       "      <td>NaN</td>\n",
       "      <td>NaN</td>\n",
       "      <td>NaN</td>\n",
       "      <td>NaN</td>\n",
       "    </tr>\n",
       "    <tr>\n",
       "      <th>freq</th>\n",
       "      <td>NaN</td>\n",
       "      <td>298</td>\n",
       "      <td>316</td>\n",
       "      <td>NaN</td>\n",
       "      <td>NaN</td>\n",
       "      <td>NaN</td>\n",
       "      <td>NaN</td>\n",
       "      <td>NaN</td>\n",
       "      <td>NaN</td>\n",
       "    </tr>\n",
       "    <tr>\n",
       "      <th>mean</th>\n",
       "      <td>220.50</td>\n",
       "      <td>NaN</td>\n",
       "      <td>NaN</td>\n",
       "      <td>12000.30</td>\n",
       "      <td>5796.27</td>\n",
       "      <td>7951.28</td>\n",
       "      <td>3071.93</td>\n",
       "      <td>2881.49</td>\n",
       "      <td>1524.87</td>\n",
       "    </tr>\n",
       "    <tr>\n",
       "      <th>std</th>\n",
       "      <td>127.16</td>\n",
       "      <td>NaN</td>\n",
       "      <td>NaN</td>\n",
       "      <td>12647.33</td>\n",
       "      <td>7380.38</td>\n",
       "      <td>9503.16</td>\n",
       "      <td>4854.67</td>\n",
       "      <td>4767.85</td>\n",
       "      <td>2820.11</td>\n",
       "    </tr>\n",
       "    <tr>\n",
       "      <th>min</th>\n",
       "      <td>1.00</td>\n",
       "      <td>NaN</td>\n",
       "      <td>NaN</td>\n",
       "      <td>3.00</td>\n",
       "      <td>55.00</td>\n",
       "      <td>3.00</td>\n",
       "      <td>25.00</td>\n",
       "      <td>3.00</td>\n",
       "      <td>3.00</td>\n",
       "    </tr>\n",
       "    <tr>\n",
       "      <th>25%</th>\n",
       "      <td>110.75</td>\n",
       "      <td>NaN</td>\n",
       "      <td>NaN</td>\n",
       "      <td>3127.75</td>\n",
       "      <td>1533.00</td>\n",
       "      <td>2153.00</td>\n",
       "      <td>742.25</td>\n",
       "      <td>256.75</td>\n",
       "      <td>408.25</td>\n",
       "    </tr>\n",
       "    <tr>\n",
       "      <th>50%</th>\n",
       "      <td>220.50</td>\n",
       "      <td>NaN</td>\n",
       "      <td>NaN</td>\n",
       "      <td>8504.00</td>\n",
       "      <td>3627.00</td>\n",
       "      <td>4755.50</td>\n",
       "      <td>1526.00</td>\n",
       "      <td>816.50</td>\n",
       "      <td>965.50</td>\n",
       "    </tr>\n",
       "    <tr>\n",
       "      <th>75%</th>\n",
       "      <td>330.25</td>\n",
       "      <td>NaN</td>\n",
       "      <td>NaN</td>\n",
       "      <td>16933.75</td>\n",
       "      <td>7190.25</td>\n",
       "      <td>10655.75</td>\n",
       "      <td>3554.25</td>\n",
       "      <td>3922.00</td>\n",
       "      <td>1820.25</td>\n",
       "    </tr>\n",
       "    <tr>\n",
       "      <th>max</th>\n",
       "      <td>440.00</td>\n",
       "      <td>NaN</td>\n",
       "      <td>NaN</td>\n",
       "      <td>112151.00</td>\n",
       "      <td>73498.00</td>\n",
       "      <td>92780.00</td>\n",
       "      <td>60869.00</td>\n",
       "      <td>40827.00</td>\n",
       "      <td>47943.00</td>\n",
       "    </tr>\n",
       "  </tbody>\n",
       "</table>\n",
       "</div>"
      ],
      "text/plain": [
       "        Buyer/Spender Channel Region     Fresh     Milk  Grocery   Frozen  \\\n",
       "count          440.00     440    440    440.00   440.00   440.00   440.00   \n",
       "unique            NaN       2      3       NaN      NaN      NaN      NaN   \n",
       "top               NaN   Hotel  Other       NaN      NaN      NaN      NaN   \n",
       "freq              NaN     298    316       NaN      NaN      NaN      NaN   \n",
       "mean           220.50     NaN    NaN  12000.30  5796.27  7951.28  3071.93   \n",
       "std            127.16     NaN    NaN  12647.33  7380.38  9503.16  4854.67   \n",
       "min              1.00     NaN    NaN      3.00    55.00     3.00    25.00   \n",
       "25%            110.75     NaN    NaN   3127.75  1533.00  2153.00   742.25   \n",
       "50%            220.50     NaN    NaN   8504.00  3627.00  4755.50  1526.00   \n",
       "75%            330.25     NaN    NaN  16933.75  7190.25 10655.75  3554.25   \n",
       "max            440.00     NaN    NaN 112151.00 73498.00 92780.00 60869.00   \n",
       "\n",
       "        Detergents_Paper  Delicatessen  \n",
       "count             440.00        440.00  \n",
       "unique               NaN           NaN  \n",
       "top                  NaN           NaN  \n",
       "freq                 NaN           NaN  \n",
       "mean             2881.49       1524.87  \n",
       "std              4767.85       2820.11  \n",
       "min                 3.00          3.00  \n",
       "25%               256.75        408.25  \n",
       "50%               816.50        965.50  \n",
       "75%              3922.00       1820.25  \n",
       "max             40827.00      47943.00  "
      ]
     },
     "execution_count": 4,
     "metadata": {},
     "output_type": "execute_result"
    }
   ],
   "source": [
    "CustomerData.describe(include='all')"
   ]
  },
  {
   "cell_type": "code",
   "execution_count": 5,
   "id": "8329b941",
   "metadata": {},
   "outputs": [
    {
     "data": {
      "text/html": [
       "<div>\n",
       "<style scoped>\n",
       "    .dataframe tbody tr th:only-of-type {\n",
       "        vertical-align: middle;\n",
       "    }\n",
       "\n",
       "    .dataframe tbody tr th {\n",
       "        vertical-align: top;\n",
       "    }\n",
       "\n",
       "    .dataframe thead th {\n",
       "        text-align: right;\n",
       "    }\n",
       "</style>\n",
       "<table border=\"1\" class=\"dataframe\">\n",
       "  <thead>\n",
       "    <tr style=\"text-align: right;\">\n",
       "      <th></th>\n",
       "      <th>Buyer/Spender</th>\n",
       "      <th>Channel</th>\n",
       "      <th>Region</th>\n",
       "      <th>Fresh</th>\n",
       "      <th>Milk</th>\n",
       "      <th>Grocery</th>\n",
       "      <th>Frozen</th>\n",
       "      <th>Detergents_Paper</th>\n",
       "      <th>Delicatessen</th>\n",
       "      <th>Total_Spent</th>\n",
       "    </tr>\n",
       "  </thead>\n",
       "  <tbody>\n",
       "    <tr>\n",
       "      <th>0</th>\n",
       "      <td>1</td>\n",
       "      <td>Retail</td>\n",
       "      <td>Other</td>\n",
       "      <td>12669</td>\n",
       "      <td>9656</td>\n",
       "      <td>7561</td>\n",
       "      <td>214</td>\n",
       "      <td>2674</td>\n",
       "      <td>1338</td>\n",
       "      <td>34112</td>\n",
       "    </tr>\n",
       "    <tr>\n",
       "      <th>1</th>\n",
       "      <td>2</td>\n",
       "      <td>Retail</td>\n",
       "      <td>Other</td>\n",
       "      <td>7057</td>\n",
       "      <td>9810</td>\n",
       "      <td>9568</td>\n",
       "      <td>1762</td>\n",
       "      <td>3293</td>\n",
       "      <td>1776</td>\n",
       "      <td>33266</td>\n",
       "    </tr>\n",
       "    <tr>\n",
       "      <th>2</th>\n",
       "      <td>3</td>\n",
       "      <td>Retail</td>\n",
       "      <td>Other</td>\n",
       "      <td>6353</td>\n",
       "      <td>8808</td>\n",
       "      <td>7684</td>\n",
       "      <td>2405</td>\n",
       "      <td>3516</td>\n",
       "      <td>7844</td>\n",
       "      <td>36610</td>\n",
       "    </tr>\n",
       "    <tr>\n",
       "      <th>3</th>\n",
       "      <td>4</td>\n",
       "      <td>Hotel</td>\n",
       "      <td>Other</td>\n",
       "      <td>13265</td>\n",
       "      <td>1196</td>\n",
       "      <td>4221</td>\n",
       "      <td>6404</td>\n",
       "      <td>507</td>\n",
       "      <td>1788</td>\n",
       "      <td>27381</td>\n",
       "    </tr>\n",
       "    <tr>\n",
       "      <th>4</th>\n",
       "      <td>5</td>\n",
       "      <td>Retail</td>\n",
       "      <td>Other</td>\n",
       "      <td>22615</td>\n",
       "      <td>5410</td>\n",
       "      <td>7198</td>\n",
       "      <td>3915</td>\n",
       "      <td>1777</td>\n",
       "      <td>5185</td>\n",
       "      <td>46100</td>\n",
       "    </tr>\n",
       "  </tbody>\n",
       "</table>\n",
       "</div>"
      ],
      "text/plain": [
       "   Buyer/Spender Channel Region  Fresh  Milk  Grocery  Frozen  \\\n",
       "0              1  Retail  Other  12669  9656     7561     214   \n",
       "1              2  Retail  Other   7057  9810     9568    1762   \n",
       "2              3  Retail  Other   6353  8808     7684    2405   \n",
       "3              4   Hotel  Other  13265  1196     4221    6404   \n",
       "4              5  Retail  Other  22615  5410     7198    3915   \n",
       "\n",
       "   Detergents_Paper  Delicatessen  Total_Spent  \n",
       "0              2674          1338        34112  \n",
       "1              3293          1776        33266  \n",
       "2              3516          7844        36610  \n",
       "3               507          1788        27381  \n",
       "4              1777          5185        46100  "
      ]
     },
     "execution_count": 5,
     "metadata": {},
     "output_type": "execute_result"
    }
   ],
   "source": [
    "CustomerData['Total_Spent'] = CustomerData['Fresh'] + CustomerData['Milk'] + CustomerData['Grocery'] \\\n",
    "                              + CustomerData['Frozen'] + CustomerData['Detergents_Paper'] + CustomerData['Delicatessen']\n",
    "CustomerData.head()"
   ]
  },
  {
   "cell_type": "markdown",
   "id": "4f2b7e48",
   "metadata": {},
   "source": [
    "## 1.1 Use methods of descriptive statistics to summarize data. Which Region and which Channel spent the most? Which Region and which Channel spent the least?"
   ]
  },
  {
   "cell_type": "code",
   "execution_count": 6,
   "id": "7b1d6ce9",
   "metadata": {},
   "outputs": [
    {
     "data": {
      "image/png": "[encoded data removed]",
      "text/plain": [
       "<Figure size 720x360 with 1 Axes>"
      ]
     },
     "metadata": {
      "needs_background": "light"
     },
     "output_type": "display_data"
    }
   ],
   "source": [
    "plt.figure(figsize=(10,5))\n",
    "CustomerData.groupby('Channel').sum()['Total_Spent'].sort_values(ascending = True).plot(kind = 'bar')\n",
    "plt.title('Channel vs Total Spent')\n",
    "plt.show()"
   ]
  },
  {
   "cell_type": "code",
   "execution_count": 7,
   "id": "2ef7ed3b",
   "metadata": {},
   "outputs": [
    {
     "data": {
      "image/png": "[encoded data removed]",
      "text/plain": [
       "<Figure size 720x360 with 1 Axes>"
      ]
     },
     "metadata": {
      "needs_background": "light"
     },
     "output_type": "display_data"
    }
   ],
   "source": [
    "plt.figure(figsize=(10,5))\n",
    "CustomerData.groupby('Region').sum()['Total_Spent'].sort_values(ascending = True).plot(kind = 'bar')\n",
    "plt.title('Region vs Total Spent')\n",
    "plt.show()"
   ]
  },
  {
   "cell_type": "markdown",
   "id": "a20fba00",
   "metadata": {},
   "source": [
    "##### From Bar plot we can see that Hotel(Channel) and other(Region) spent the most on the other hand Retail(Channel) and Oporto(Region) spent less."
   ]
  },
  {
   "cell_type": "markdown",
   "id": "3d13bd17",
   "metadata": {},
   "source": [
    "## 1.2 There are 6 different varieties of items that are considered. Describe and comment/explain all the varieties across Region and Channel? Provide a detailed justification for your answer."
   ]
  },
  {
   "cell_type": "code",
   "execution_count": 8,
   "id": "91fa11f3",
   "metadata": {},
   "outputs": [
    {
     "data": {
      "text/plain": [
       "<Figure size 720x1080 with 0 Axes>"
      ]
     },
     "metadata": {},
     "output_type": "display_data"
    },
    {
     "data": {
      "image/png": "[encoded data removed]",
      "text/plain": [
       "<Figure size 432x288 with 1 Axes>"
      ]
     },
     "metadata": {
      "needs_background": "light"
     },
     "output_type": "display_data"
    }
   ],
   "source": [
    "plt.figure(figsize=(10,15))\n",
    "CustomerData.groupby(['Channel','Region']).sum()[['Fresh', 'Milk', 'Grocery','Frozen', 'Detergents_Paper', 'Delicatessen']].plot(kind = 'bar')\n",
    "plt.title('Channel & Region vs items')\n",
    "plt.show()"
   ]
  },
  {
   "cell_type": "code",
   "execution_count": 9,
   "id": "ece65fd7",
   "metadata": {},
   "outputs": [
    {
     "data": {
      "text/html": [
       "<div>\n",
       "<style scoped>\n",
       "    .dataframe tbody tr th:only-of-type {\n",
       "        vertical-align: middle;\n",
       "    }\n",
       "\n",
       "    .dataframe tbody tr th {\n",
       "        vertical-align: top;\n",
       "    }\n",
       "\n",
       "    .dataframe thead tr th {\n",
       "        text-align: left;\n",
       "    }\n",
       "</style>\n",
       "<table border=\"1\" class=\"dataframe\">\n",
       "  <thead>\n",
       "    <tr>\n",
       "      <th>Region</th>\n",
       "      <th colspan=\"2\" halign=\"left\">Lisbon</th>\n",
       "      <th colspan=\"2\" halign=\"left\">Oporto</th>\n",
       "      <th colspan=\"2\" halign=\"left\">Other</th>\n",
       "    </tr>\n",
       "    <tr>\n",
       "      <th>Channel</th>\n",
       "      <th>Hotel</th>\n",
       "      <th>Retail</th>\n",
       "      <th>Hotel</th>\n",
       "      <th>Retail</th>\n",
       "      <th>Hotel</th>\n",
       "      <th>Retail</th>\n",
       "    </tr>\n",
       "  </thead>\n",
       "  <tbody>\n",
       "    <tr>\n",
       "      <th>count</th>\n",
       "      <td>59.00</td>\n",
       "      <td>18.00</td>\n",
       "      <td>28.00</td>\n",
       "      <td>19.00</td>\n",
       "      <td>211.00</td>\n",
       "      <td>105.00</td>\n",
       "    </tr>\n",
       "    <tr>\n",
       "      <th>mean</th>\n",
       "      <td>12902.25</td>\n",
       "      <td>5200.00</td>\n",
       "      <td>11650.54</td>\n",
       "      <td>7289.79</td>\n",
       "      <td>13878.05</td>\n",
       "      <td>9831.50</td>\n",
       "    </tr>\n",
       "    <tr>\n",
       "      <th>std</th>\n",
       "      <td>12342.01</td>\n",
       "      <td>5415.52</td>\n",
       "      <td>8969.36</td>\n",
       "      <td>6867.93</td>\n",
       "      <td>14746.57</td>\n",
       "      <td>9635.39</td>\n",
       "    </tr>\n",
       "    <tr>\n",
       "      <th>min</th>\n",
       "      <td>514.00</td>\n",
       "      <td>18.00</td>\n",
       "      <td>3.00</td>\n",
       "      <td>161.00</td>\n",
       "      <td>3.00</td>\n",
       "      <td>23.00</td>\n",
       "    </tr>\n",
       "    <tr>\n",
       "      <th>25%</th>\n",
       "      <td>4437.50</td>\n",
       "      <td>2378.25</td>\n",
       "      <td>4938.25</td>\n",
       "      <td>2368.00</td>\n",
       "      <td>3702.50</td>\n",
       "      <td>2343.00</td>\n",
       "    </tr>\n",
       "    <tr>\n",
       "      <th>50%</th>\n",
       "      <td>8656.00</td>\n",
       "      <td>2926.00</td>\n",
       "      <td>9787.00</td>\n",
       "      <td>6468.00</td>\n",
       "      <td>9612.00</td>\n",
       "      <td>7362.00</td>\n",
       "    </tr>\n",
       "    <tr>\n",
       "      <th>75%</th>\n",
       "      <td>18135.00</td>\n",
       "      <td>5988.00</td>\n",
       "      <td>17031.50</td>\n",
       "      <td>9162.00</td>\n",
       "      <td>18821.00</td>\n",
       "      <td>15076.00</td>\n",
       "    </tr>\n",
       "    <tr>\n",
       "      <th>max</th>\n",
       "      <td>56083.00</td>\n",
       "      <td>20782.00</td>\n",
       "      <td>32717.00</td>\n",
       "      <td>27082.00</td>\n",
       "      <td>112151.00</td>\n",
       "      <td>44466.00</td>\n",
       "    </tr>\n",
       "    <tr>\n",
       "      <th>CV</th>\n",
       "      <td>0.96</td>\n",
       "      <td>1.04</td>\n",
       "      <td>0.77</td>\n",
       "      <td>0.94</td>\n",
       "      <td>1.06</td>\n",
       "      <td>0.98</td>\n",
       "    </tr>\n",
       "  </tbody>\n",
       "</table>\n",
       "</div>"
      ],
      "text/plain": [
       "Region    Lisbon            Oporto              Other         \n",
       "Channel    Hotel   Retail    Hotel   Retail     Hotel   Retail\n",
       "count      59.00    18.00    28.00    19.00    211.00   105.00\n",
       "mean    12902.25  5200.00 11650.54  7289.79  13878.05  9831.50\n",
       "std     12342.01  5415.52  8969.36  6867.93  14746.57  9635.39\n",
       "min       514.00    18.00     3.00   161.00      3.00    23.00\n",
       "25%      4437.50  2378.25  4938.25  2368.00   3702.50  2343.00\n",
       "50%      8656.00  2926.00  9787.00  6468.00   9612.00  7362.00\n",
       "75%     18135.00  5988.00 17031.50  9162.00  18821.00 15076.00\n",
       "max     56083.00 20782.00 32717.00 27082.00 112151.00 44466.00\n",
       "CV          0.96     1.04     0.77     0.94      1.06     0.98"
      ]
     },
     "execution_count": 9,
     "metadata": {},
     "output_type": "execute_result"
    }
   ],
   "source": [
    "FreshProduct = CustomerData.groupby(['Region','Channel'])['Fresh']\n",
    "FreshProduct_des = FreshProduct.describe().T\n",
    "FreshProduct_des.loc[('CV'), :] = FreshProduct_des.loc[('std'), :]/FreshProduct_des.loc[('mean'), :]\n",
    "FreshProduct_des"
   ]
  },
  {
   "cell_type": "code",
   "execution_count": 10,
   "id": "808cd272",
   "metadata": {},
   "outputs": [
    {
     "data": {
      "text/html": [
       "<div>\n",
       "<style scoped>\n",
       "    .dataframe tbody tr th:only-of-type {\n",
       "        vertical-align: middle;\n",
       "    }\n",
       "\n",
       "    .dataframe tbody tr th {\n",
       "        vertical-align: top;\n",
       "    }\n",
       "\n",
       "    .dataframe thead tr th {\n",
       "        text-align: left;\n",
       "    }\n",
       "</style>\n",
       "<table border=\"1\" class=\"dataframe\">\n",
       "  <thead>\n",
       "    <tr>\n",
       "      <th>Region</th>\n",
       "      <th colspan=\"2\" halign=\"left\">Lisbon</th>\n",
       "      <th colspan=\"2\" halign=\"left\">Oporto</th>\n",
       "      <th colspan=\"2\" halign=\"left\">Other</th>\n",
       "    </tr>\n",
       "    <tr>\n",
       "      <th>Channel</th>\n",
       "      <th>Hotel</th>\n",
       "      <th>Retail</th>\n",
       "      <th>Hotel</th>\n",
       "      <th>Retail</th>\n",
       "      <th>Hotel</th>\n",
       "      <th>Retail</th>\n",
       "    </tr>\n",
       "  </thead>\n",
       "  <tbody>\n",
       "    <tr>\n",
       "      <th>count</th>\n",
       "      <td>59.00</td>\n",
       "      <td>18.00</td>\n",
       "      <td>28.00</td>\n",
       "      <td>19.00</td>\n",
       "      <td>211.00</td>\n",
       "      <td>105.00</td>\n",
       "    </tr>\n",
       "    <tr>\n",
       "      <th>mean</th>\n",
       "      <td>3870.20</td>\n",
       "      <td>10784.00</td>\n",
       "      <td>2304.25</td>\n",
       "      <td>9190.79</td>\n",
       "      <td>3486.98</td>\n",
       "      <td>10981.01</td>\n",
       "    </tr>\n",
       "    <tr>\n",
       "      <th>std</th>\n",
       "      <td>4298.32</td>\n",
       "      <td>6609.22</td>\n",
       "      <td>2968.63</td>\n",
       "      <td>6611.35</td>\n",
       "      <td>4508.51</td>\n",
       "      <td>10574.83</td>\n",
       "    </tr>\n",
       "    <tr>\n",
       "      <th>min</th>\n",
       "      <td>258.00</td>\n",
       "      <td>2527.00</td>\n",
       "      <td>333.00</td>\n",
       "      <td>928.00</td>\n",
       "      <td>55.00</td>\n",
       "      <td>1124.00</td>\n",
       "    </tr>\n",
       "    <tr>\n",
       "      <th>25%</th>\n",
       "      <td>1071.00</td>\n",
       "      <td>6253.25</td>\n",
       "      <td>1146.00</td>\n",
       "      <td>4148.50</td>\n",
       "      <td>1188.50</td>\n",
       "      <td>6128.00</td>\n",
       "    </tr>\n",
       "    <tr>\n",
       "      <th>50%</th>\n",
       "      <td>2280.00</td>\n",
       "      <td>8866.00</td>\n",
       "      <td>1560.50</td>\n",
       "      <td>6817.00</td>\n",
       "      <td>2247.00</td>\n",
       "      <td>7845.00</td>\n",
       "    </tr>\n",
       "    <tr>\n",
       "      <th>75%</th>\n",
       "      <td>4995.50</td>\n",
       "      <td>13112.25</td>\n",
       "      <td>2344.75</td>\n",
       "      <td>13127.50</td>\n",
       "      <td>4205.00</td>\n",
       "      <td>11114.00</td>\n",
       "    </tr>\n",
       "    <tr>\n",
       "      <th>max</th>\n",
       "      <td>23527.00</td>\n",
       "      <td>28326.00</td>\n",
       "      <td>16784.00</td>\n",
       "      <td>25071.00</td>\n",
       "      <td>43950.00</td>\n",
       "      <td>73498.00</td>\n",
       "    </tr>\n",
       "    <tr>\n",
       "      <th>CV</th>\n",
       "      <td>1.11</td>\n",
       "      <td>0.61</td>\n",
       "      <td>1.29</td>\n",
       "      <td>0.72</td>\n",
       "      <td>1.29</td>\n",
       "      <td>0.96</td>\n",
       "    </tr>\n",
       "  </tbody>\n",
       "</table>\n",
       "</div>"
      ],
      "text/plain": [
       "Region    Lisbon            Oporto             Other         \n",
       "Channel    Hotel   Retail    Hotel   Retail    Hotel   Retail\n",
       "count      59.00    18.00    28.00    19.00   211.00   105.00\n",
       "mean     3870.20 10784.00  2304.25  9190.79  3486.98 10981.01\n",
       "std      4298.32  6609.22  2968.63  6611.35  4508.51 10574.83\n",
       "min       258.00  2527.00   333.00   928.00    55.00  1124.00\n",
       "25%      1071.00  6253.25  1146.00  4148.50  1188.50  6128.00\n",
       "50%      2280.00  8866.00  1560.50  6817.00  2247.00  7845.00\n",
       "75%      4995.50 13112.25  2344.75 13127.50  4205.00 11114.00\n",
       "max     23527.00 28326.00 16784.00 25071.00 43950.00 73498.00\n",
       "CV          1.11     0.61     1.29     0.72     1.29     0.96"
      ]
     },
     "execution_count": 10,
     "metadata": {},
     "output_type": "execute_result"
    }
   ],
   "source": [
    "MilkProduct = CustomerData.groupby(['Region','Channel'])['Milk']\n",
    "MilkProduct_des = MilkProduct.describe().T\n",
    "MilkProduct_des.loc[('CV'), :] = MilkProduct_des.loc[('std'), :]/MilkProduct_des.loc[('mean'), :]\n",
    "MilkProduct_des"
   ]
  },
  {
   "cell_type": "code",
   "execution_count": 11,
   "id": "ebcaf037",
   "metadata": {},
   "outputs": [
    {
     "data": {
      "text/html": [
       "<div>\n",
       "<style scoped>\n",
       "    .dataframe tbody tr th:only-of-type {\n",
       "        vertical-align: middle;\n",
       "    }\n",
       "\n",
       "    .dataframe tbody tr th {\n",
       "        vertical-align: top;\n",
       "    }\n",
       "\n",
       "    .dataframe thead tr th {\n",
       "        text-align: left;\n",
       "    }\n",
       "</style>\n",
       "<table border=\"1\" class=\"dataframe\">\n",
       "  <thead>\n",
       "    <tr>\n",
       "      <th>Region</th>\n",
       "      <th colspan=\"2\" halign=\"left\">Lisbon</th>\n",
       "      <th colspan=\"2\" halign=\"left\">Oporto</th>\n",
       "      <th colspan=\"2\" halign=\"left\">Other</th>\n",
       "    </tr>\n",
       "    <tr>\n",
       "      <th>Channel</th>\n",
       "      <th>Hotel</th>\n",
       "      <th>Retail</th>\n",
       "      <th>Hotel</th>\n",
       "      <th>Retail</th>\n",
       "      <th>Hotel</th>\n",
       "      <th>Retail</th>\n",
       "    </tr>\n",
       "  </thead>\n",
       "  <tbody>\n",
       "    <tr>\n",
       "      <th>count</th>\n",
       "      <td>59.00</td>\n",
       "      <td>18.00</td>\n",
       "      <td>28.00</td>\n",
       "      <td>19.00</td>\n",
       "      <td>211.00</td>\n",
       "      <td>105.00</td>\n",
       "    </tr>\n",
       "    <tr>\n",
       "      <th>mean</th>\n",
       "      <td>4026.14</td>\n",
       "      <td>18471.94</td>\n",
       "      <td>4395.50</td>\n",
       "      <td>16326.32</td>\n",
       "      <td>3886.73</td>\n",
       "      <td>15953.81</td>\n",
       "    </tr>\n",
       "    <tr>\n",
       "      <th>std</th>\n",
       "      <td>3629.64</td>\n",
       "      <td>10414.69</td>\n",
       "      <td>3048.30</td>\n",
       "      <td>14035.45</td>\n",
       "      <td>3593.51</td>\n",
       "      <td>12298.94</td>\n",
       "    </tr>\n",
       "    <tr>\n",
       "      <th>min</th>\n",
       "      <td>489.00</td>\n",
       "      <td>5265.00</td>\n",
       "      <td>1330.00</td>\n",
       "      <td>2743.00</td>\n",
       "      <td>3.00</td>\n",
       "      <td>4523.00</td>\n",
       "    </tr>\n",
       "    <tr>\n",
       "      <th>25%</th>\n",
       "      <td>1620.00</td>\n",
       "      <td>10634.25</td>\n",
       "      <td>2373.75</td>\n",
       "      <td>9318.50</td>\n",
       "      <td>1666.00</td>\n",
       "      <td>9170.00</td>\n",
       "    </tr>\n",
       "    <tr>\n",
       "      <th>50%</th>\n",
       "      <td>2576.00</td>\n",
       "      <td>16106.00</td>\n",
       "      <td>3352.00</td>\n",
       "      <td>12469.00</td>\n",
       "      <td>2642.00</td>\n",
       "      <td>12121.00</td>\n",
       "    </tr>\n",
       "    <tr>\n",
       "      <th>75%</th>\n",
       "      <td>5172.50</td>\n",
       "      <td>23478.75</td>\n",
       "      <td>5527.50</td>\n",
       "      <td>19785.50</td>\n",
       "      <td>4927.50</td>\n",
       "      <td>19805.00</td>\n",
       "    </tr>\n",
       "    <tr>\n",
       "      <th>max</th>\n",
       "      <td>16966.00</td>\n",
       "      <td>39694.00</td>\n",
       "      <td>13626.00</td>\n",
       "      <td>67298.00</td>\n",
       "      <td>21042.00</td>\n",
       "      <td>92780.00</td>\n",
       "    </tr>\n",
       "    <tr>\n",
       "      <th>CV</th>\n",
       "      <td>0.90</td>\n",
       "      <td>0.56</td>\n",
       "      <td>0.69</td>\n",
       "      <td>0.86</td>\n",
       "      <td>0.92</td>\n",
       "      <td>0.77</td>\n",
       "    </tr>\n",
       "  </tbody>\n",
       "</table>\n",
       "</div>"
      ],
      "text/plain": [
       "Region    Lisbon            Oporto             Other         \n",
       "Channel    Hotel   Retail    Hotel   Retail    Hotel   Retail\n",
       "count      59.00    18.00    28.00    19.00   211.00   105.00\n",
       "mean     4026.14 18471.94  4395.50 16326.32  3886.73 15953.81\n",
       "std      3629.64 10414.69  3048.30 14035.45  3593.51 12298.94\n",
       "min       489.00  5265.00  1330.00  2743.00     3.00  4523.00\n",
       "25%      1620.00 10634.25  2373.75  9318.50  1666.00  9170.00\n",
       "50%      2576.00 16106.00  3352.00 12469.00  2642.00 12121.00\n",
       "75%      5172.50 23478.75  5527.50 19785.50  4927.50 19805.00\n",
       "max     16966.00 39694.00 13626.00 67298.00 21042.00 92780.00\n",
       "CV          0.90     0.56     0.69     0.86     0.92     0.77"
      ]
     },
     "execution_count": 11,
     "metadata": {},
     "output_type": "execute_result"
    }
   ],
   "source": [
    "GroceryProduct = CustomerData.groupby(['Region','Channel'])['Grocery']\n",
    "GroceryProduct_des = GroceryProduct.describe().T\n",
    "GroceryProduct_des.loc[('CV'), :] = GroceryProduct_des.loc[('std'), :]/GroceryProduct_des.loc[('mean'), :]\n",
    "GroceryProduct_des"
   ]
  },
  {
   "cell_type": "code",
   "execution_count": 12,
   "id": "03ac4ad5",
   "metadata": {},
   "outputs": [
    {
     "data": {
      "text/html": [
       "<div>\n",
       "<style scoped>\n",
       "    .dataframe tbody tr th:only-of-type {\n",
       "        vertical-align: middle;\n",
       "    }\n",
       "\n",
       "    .dataframe tbody tr th {\n",
       "        vertical-align: top;\n",
       "    }\n",
       "\n",
       "    .dataframe thead tr th {\n",
       "        text-align: left;\n",
       "    }\n",
       "</style>\n",
       "<table border=\"1\" class=\"dataframe\">\n",
       "  <thead>\n",
       "    <tr>\n",
       "      <th>Region</th>\n",
       "      <th colspan=\"2\" halign=\"left\">Lisbon</th>\n",
       "      <th colspan=\"2\" halign=\"left\">Oporto</th>\n",
       "      <th colspan=\"2\" halign=\"left\">Other</th>\n",
       "    </tr>\n",
       "    <tr>\n",
       "      <th>Channel</th>\n",
       "      <th>Hotel</th>\n",
       "      <th>Retail</th>\n",
       "      <th>Hotel</th>\n",
       "      <th>Retail</th>\n",
       "      <th>Hotel</th>\n",
       "      <th>Retail</th>\n",
       "    </tr>\n",
       "  </thead>\n",
       "  <tbody>\n",
       "    <tr>\n",
       "      <th>count</th>\n",
       "      <td>59.00</td>\n",
       "      <td>18.00</td>\n",
       "      <td>28.00</td>\n",
       "      <td>19.00</td>\n",
       "      <td>211.00</td>\n",
       "      <td>105.00</td>\n",
       "    </tr>\n",
       "    <tr>\n",
       "      <th>mean</th>\n",
       "      <td>3127.32</td>\n",
       "      <td>2584.11</td>\n",
       "      <td>5745.04</td>\n",
       "      <td>1540.58</td>\n",
       "      <td>3656.90</td>\n",
       "      <td>1513.20</td>\n",
       "    </tr>\n",
       "    <tr>\n",
       "      <th>std</th>\n",
       "      <td>3276.46</td>\n",
       "      <td>2424.77</td>\n",
       "      <td>11454.48</td>\n",
       "      <td>2473.27</td>\n",
       "      <td>4956.59</td>\n",
       "      <td>1504.50</td>\n",
       "    </tr>\n",
       "    <tr>\n",
       "      <th>min</th>\n",
       "      <td>91.00</td>\n",
       "      <td>61.00</td>\n",
       "      <td>264.00</td>\n",
       "      <td>131.00</td>\n",
       "      <td>25.00</td>\n",
       "      <td>33.00</td>\n",
       "    </tr>\n",
       "    <tr>\n",
       "      <th>25%</th>\n",
       "      <td>966.00</td>\n",
       "      <td>923.50</td>\n",
       "      <td>962.25</td>\n",
       "      <td>639.50</td>\n",
       "      <td>779.00</td>\n",
       "      <td>437.00</td>\n",
       "    </tr>\n",
       "    <tr>\n",
       "      <th>50%</th>\n",
       "      <td>1859.00</td>\n",
       "      <td>1522.00</td>\n",
       "      <td>2696.50</td>\n",
       "      <td>934.00</td>\n",
       "      <td>1960.00</td>\n",
       "      <td>1059.00</td>\n",
       "    </tr>\n",
       "    <tr>\n",
       "      <th>75%</th>\n",
       "      <td>4479.00</td>\n",
       "      <td>3843.00</td>\n",
       "      <td>4617.00</td>\n",
       "      <td>1410.00</td>\n",
       "      <td>4542.50</td>\n",
       "      <td>2194.00</td>\n",
       "    </tr>\n",
       "    <tr>\n",
       "      <th>max</th>\n",
       "      <td>18711.00</td>\n",
       "      <td>8321.00</td>\n",
       "      <td>60869.00</td>\n",
       "      <td>11559.00</td>\n",
       "      <td>36534.00</td>\n",
       "      <td>8132.00</td>\n",
       "    </tr>\n",
       "    <tr>\n",
       "      <th>CV</th>\n",
       "      <td>1.05</td>\n",
       "      <td>0.94</td>\n",
       "      <td>1.99</td>\n",
       "      <td>1.61</td>\n",
       "      <td>1.36</td>\n",
       "      <td>0.99</td>\n",
       "    </tr>\n",
       "  </tbody>\n",
       "</table>\n",
       "</div>"
      ],
      "text/plain": [
       "Region    Lisbon           Oporto             Other        \n",
       "Channel    Hotel  Retail    Hotel   Retail    Hotel  Retail\n",
       "count      59.00   18.00    28.00    19.00   211.00  105.00\n",
       "mean     3127.32 2584.11  5745.04  1540.58  3656.90 1513.20\n",
       "std      3276.46 2424.77 11454.48  2473.27  4956.59 1504.50\n",
       "min        91.00   61.00   264.00   131.00    25.00   33.00\n",
       "25%       966.00  923.50   962.25   639.50   779.00  437.00\n",
       "50%      1859.00 1522.00  2696.50   934.00  1960.00 1059.00\n",
       "75%      4479.00 3843.00  4617.00  1410.00  4542.50 2194.00\n",
       "max     18711.00 8321.00 60869.00 11559.00 36534.00 8132.00\n",
       "CV          1.05    0.94     1.99     1.61     1.36    0.99"
      ]
     },
     "execution_count": 12,
     "metadata": {},
     "output_type": "execute_result"
    }
   ],
   "source": [
    "FrozenProduct = CustomerData.groupby(['Region','Channel'])['Frozen']\n",
    "FrozenProduct_des = FrozenProduct.describe().T\n",
    "FrozenProduct_des.loc[('CV'), :] = FrozenProduct_des.loc[('std'), :]/FrozenProduct_des.loc[('mean'), :]\n",
    "FrozenProduct_des"
   ]
  },
  {
   "cell_type": "code",
   "execution_count": 13,
   "id": "16a4685c",
   "metadata": {},
   "outputs": [
    {
     "data": {
      "text/html": [
       "<div>\n",
       "<style scoped>\n",
       "    .dataframe tbody tr th:only-of-type {\n",
       "        vertical-align: middle;\n",
       "    }\n",
       "\n",
       "    .dataframe tbody tr th {\n",
       "        vertical-align: top;\n",
       "    }\n",
       "\n",
       "    .dataframe thead tr th {\n",
       "        text-align: left;\n",
       "    }\n",
       "</style>\n",
       "<table border=\"1\" class=\"dataframe\">\n",
       "  <thead>\n",
       "    <tr>\n",
       "      <th>Region</th>\n",
       "      <th colspan=\"2\" halign=\"left\">Lisbon</th>\n",
       "      <th colspan=\"2\" halign=\"left\">Oporto</th>\n",
       "      <th colspan=\"2\" halign=\"left\">Other</th>\n",
       "    </tr>\n",
       "    <tr>\n",
       "      <th>Channel</th>\n",
       "      <th>Hotel</th>\n",
       "      <th>Retail</th>\n",
       "      <th>Hotel</th>\n",
       "      <th>Retail</th>\n",
       "      <th>Hotel</th>\n",
       "      <th>Retail</th>\n",
       "    </tr>\n",
       "  </thead>\n",
       "  <tbody>\n",
       "    <tr>\n",
       "      <th>count</th>\n",
       "      <td>59.00</td>\n",
       "      <td>18.00</td>\n",
       "      <td>28.00</td>\n",
       "      <td>19.00</td>\n",
       "      <td>211.00</td>\n",
       "      <td>105.00</td>\n",
       "    </tr>\n",
       "    <tr>\n",
       "      <th>mean</th>\n",
       "      <td>950.53</td>\n",
       "      <td>8225.28</td>\n",
       "      <td>482.71</td>\n",
       "      <td>8410.26</td>\n",
       "      <td>786.68</td>\n",
       "      <td>6899.24</td>\n",
       "    </tr>\n",
       "    <tr>\n",
       "      <th>std</th>\n",
       "      <td>1305.91</td>\n",
       "      <td>5515.88</td>\n",
       "      <td>425.31</td>\n",
       "      <td>8286.75</td>\n",
       "      <td>1099.97</td>\n",
       "      <td>6022.09</td>\n",
       "    </tr>\n",
       "    <tr>\n",
       "      <th>min</th>\n",
       "      <td>5.00</td>\n",
       "      <td>788.00</td>\n",
       "      <td>15.00</td>\n",
       "      <td>332.00</td>\n",
       "      <td>3.00</td>\n",
       "      <td>523.00</td>\n",
       "    </tr>\n",
       "    <tr>\n",
       "      <th>25%</th>\n",
       "      <td>237.00</td>\n",
       "      <td>4818.25</td>\n",
       "      <td>182.75</td>\n",
       "      <td>3900.00</td>\n",
       "      <td>176.50</td>\n",
       "      <td>3537.00</td>\n",
       "    </tr>\n",
       "    <tr>\n",
       "      <th>50%</th>\n",
       "      <td>412.00</td>\n",
       "      <td>6177.00</td>\n",
       "      <td>325.00</td>\n",
       "      <td>6236.00</td>\n",
       "      <td>375.00</td>\n",
       "      <td>5121.00</td>\n",
       "    </tr>\n",
       "    <tr>\n",
       "      <th>75%</th>\n",
       "      <td>874.00</td>\n",
       "      <td>11804.75</td>\n",
       "      <td>707.00</td>\n",
       "      <td>9837.50</td>\n",
       "      <td>948.50</td>\n",
       "      <td>7677.00</td>\n",
       "    </tr>\n",
       "    <tr>\n",
       "      <th>max</th>\n",
       "      <td>5828.00</td>\n",
       "      <td>19410.00</td>\n",
       "      <td>1679.00</td>\n",
       "      <td>38102.00</td>\n",
       "      <td>6907.00</td>\n",
       "      <td>40827.00</td>\n",
       "    </tr>\n",
       "    <tr>\n",
       "      <th>CV</th>\n",
       "      <td>1.37</td>\n",
       "      <td>0.67</td>\n",
       "      <td>0.88</td>\n",
       "      <td>0.99</td>\n",
       "      <td>1.40</td>\n",
       "      <td>0.87</td>\n",
       "    </tr>\n",
       "  </tbody>\n",
       "</table>\n",
       "</div>"
      ],
      "text/plain": [
       "Region   Lisbon           Oporto            Other         \n",
       "Channel   Hotel   Retail   Hotel   Retail   Hotel   Retail\n",
       "count     59.00    18.00   28.00    19.00  211.00   105.00\n",
       "mean     950.53  8225.28  482.71  8410.26  786.68  6899.24\n",
       "std     1305.91  5515.88  425.31  8286.75 1099.97  6022.09\n",
       "min        5.00   788.00   15.00   332.00    3.00   523.00\n",
       "25%      237.00  4818.25  182.75  3900.00  176.50  3537.00\n",
       "50%      412.00  6177.00  325.00  6236.00  375.00  5121.00\n",
       "75%      874.00 11804.75  707.00  9837.50  948.50  7677.00\n",
       "max     5828.00 19410.00 1679.00 38102.00 6907.00 40827.00\n",
       "CV         1.37     0.67    0.88     0.99    1.40     0.87"
      ]
     },
     "execution_count": 13,
     "metadata": {},
     "output_type": "execute_result"
    }
   ],
   "source": [
    "Detergents_PaperProduct = CustomerData.groupby(['Region','Channel'])['Detergents_Paper']\n",
    "Detergents_PaperProduct_des = Detergents_PaperProduct.describe().T\n",
    "Detergents_PaperProduct_des.loc[('CV'), :] = Detergents_PaperProduct_des.loc[('std'), :]/Detergents_PaperProduct_des.loc[('mean'), :]\n",
    "Detergents_PaperProduct_des"
   ]
  },
  {
   "cell_type": "code",
   "execution_count": 14,
   "id": "2c30bdb5",
   "metadata": {},
   "outputs": [
    {
     "data": {
      "text/html": [
       "<div>\n",
       "<style scoped>\n",
       "    .dataframe tbody tr th:only-of-type {\n",
       "        vertical-align: middle;\n",
       "    }\n",
       "\n",
       "    .dataframe tbody tr th {\n",
       "        vertical-align: top;\n",
       "    }\n",
       "\n",
       "    .dataframe thead tr th {\n",
       "        text-align: left;\n",
       "    }\n",
       "</style>\n",
       "<table border=\"1\" class=\"dataframe\">\n",
       "  <thead>\n",
       "    <tr>\n",
       "      <th>Region</th>\n",
       "      <th colspan=\"2\" halign=\"left\">Lisbon</th>\n",
       "      <th colspan=\"2\" halign=\"left\">Oporto</th>\n",
       "      <th colspan=\"2\" halign=\"left\">Other</th>\n",
       "    </tr>\n",
       "    <tr>\n",
       "      <th>Channel</th>\n",
       "      <th>Hotel</th>\n",
       "      <th>Retail</th>\n",
       "      <th>Hotel</th>\n",
       "      <th>Retail</th>\n",
       "      <th>Hotel</th>\n",
       "      <th>Retail</th>\n",
       "    </tr>\n",
       "  </thead>\n",
       "  <tbody>\n",
       "    <tr>\n",
       "      <th>count</th>\n",
       "      <td>59.00</td>\n",
       "      <td>18.00</td>\n",
       "      <td>28.00</td>\n",
       "      <td>19.00</td>\n",
       "      <td>211.00</td>\n",
       "      <td>105.00</td>\n",
       "    </tr>\n",
       "    <tr>\n",
       "      <th>mean</th>\n",
       "      <td>1197.15</td>\n",
       "      <td>1871.94</td>\n",
       "      <td>1105.89</td>\n",
       "      <td>1239.00</td>\n",
       "      <td>1518.28</td>\n",
       "      <td>1826.21</td>\n",
       "    </tr>\n",
       "    <tr>\n",
       "      <th>std</th>\n",
       "      <td>1219.95</td>\n",
       "      <td>1626.49</td>\n",
       "      <td>1056.78</td>\n",
       "      <td>1065.44</td>\n",
       "      <td>3663.18</td>\n",
       "      <td>2119.05</td>\n",
       "    </tr>\n",
       "    <tr>\n",
       "      <th>min</th>\n",
       "      <td>7.00</td>\n",
       "      <td>120.00</td>\n",
       "      <td>51.00</td>\n",
       "      <td>59.00</td>\n",
       "      <td>3.00</td>\n",
       "      <td>3.00</td>\n",
       "    </tr>\n",
       "    <tr>\n",
       "      <th>25%</th>\n",
       "      <td>374.00</td>\n",
       "      <td>746.00</td>\n",
       "      <td>567.25</td>\n",
       "      <td>392.50</td>\n",
       "      <td>378.50</td>\n",
       "      <td>545.00</td>\n",
       "    </tr>\n",
       "    <tr>\n",
       "      <th>50%</th>\n",
       "      <td>749.00</td>\n",
       "      <td>1414.00</td>\n",
       "      <td>883.00</td>\n",
       "      <td>1037.00</td>\n",
       "      <td>823.00</td>\n",
       "      <td>1386.00</td>\n",
       "    </tr>\n",
       "    <tr>\n",
       "      <th>75%</th>\n",
       "      <td>1621.50</td>\n",
       "      <td>2456.50</td>\n",
       "      <td>1146.00</td>\n",
       "      <td>1815.00</td>\n",
       "      <td>1582.00</td>\n",
       "      <td>2158.00</td>\n",
       "    </tr>\n",
       "    <tr>\n",
       "      <th>max</th>\n",
       "      <td>6854.00</td>\n",
       "      <td>6372.00</td>\n",
       "      <td>5609.00</td>\n",
       "      <td>3508.00</td>\n",
       "      <td>47943.00</td>\n",
       "      <td>16523.00</td>\n",
       "    </tr>\n",
       "    <tr>\n",
       "      <th>CV</th>\n",
       "      <td>1.02</td>\n",
       "      <td>0.87</td>\n",
       "      <td>0.96</td>\n",
       "      <td>0.86</td>\n",
       "      <td>2.41</td>\n",
       "      <td>1.16</td>\n",
       "    </tr>\n",
       "  </tbody>\n",
       "</table>\n",
       "</div>"
      ],
      "text/plain": [
       "Region   Lisbon          Oporto            Other         \n",
       "Channel   Hotel  Retail   Hotel  Retail    Hotel   Retail\n",
       "count     59.00   18.00   28.00   19.00   211.00   105.00\n",
       "mean    1197.15 1871.94 1105.89 1239.00  1518.28  1826.21\n",
       "std     1219.95 1626.49 1056.78 1065.44  3663.18  2119.05\n",
       "min        7.00  120.00   51.00   59.00     3.00     3.00\n",
       "25%      374.00  746.00  567.25  392.50   378.50   545.00\n",
       "50%      749.00 1414.00  883.00 1037.00   823.00  1386.00\n",
       "75%     1621.50 2456.50 1146.00 1815.00  1582.00  2158.00\n",
       "max     6854.00 6372.00 5609.00 3508.00 47943.00 16523.00\n",
       "CV         1.02    0.87    0.96    0.86     2.41     1.16"
      ]
     },
     "execution_count": 14,
     "metadata": {},
     "output_type": "execute_result"
    }
   ],
   "source": [
    "DelicatessenProduct = CustomerData.groupby(['Region','Channel'])['Delicatessen']\n",
    "DelicatessenProduct_des = DelicatessenProduct.describe().T\n",
    "DelicatessenProduct_des.loc[('CV'), :] = DelicatessenProduct_des.loc[('std'), :]/DelicatessenProduct_des.loc[('mean'), :]\n",
    "DelicatessenProduct_des"
   ]
  },
  {
   "cell_type": "markdown",
   "id": "08df5c2b",
   "metadata": {},
   "source": [
    "## 1.3 On the basis of the descriptive measure of variability, which item shows the most inconsistent behaviour? Which items shows the least inconsistent behaviour?"
   ]
  },
  {
   "cell_type": "code",
   "execution_count": 15,
   "id": "f0343516",
   "metadata": {},
   "outputs": [
    {
     "data": {
      "text/html": [
       "<div>\n",
       "<style scoped>\n",
       "    .dataframe tbody tr th:only-of-type {\n",
       "        vertical-align: middle;\n",
       "    }\n",
       "\n",
       "    .dataframe tbody tr th {\n",
       "        vertical-align: top;\n",
       "    }\n",
       "\n",
       "    .dataframe thead th {\n",
       "        text-align: right;\n",
       "    }\n",
       "</style>\n",
       "<table border=\"1\" class=\"dataframe\">\n",
       "  <thead>\n",
       "    <tr style=\"text-align: right;\">\n",
       "      <th></th>\n",
       "      <th>Fresh</th>\n",
       "      <th>Milk</th>\n",
       "      <th>Grocery</th>\n",
       "      <th>Frozen</th>\n",
       "      <th>Detergents_Paper</th>\n",
       "      <th>Delicatessen</th>\n",
       "    </tr>\n",
       "  </thead>\n",
       "  <tbody>\n",
       "    <tr>\n",
       "      <th>count</th>\n",
       "      <td>440.00</td>\n",
       "      <td>440.00</td>\n",
       "      <td>440.00</td>\n",
       "      <td>440.00</td>\n",
       "      <td>440.00</td>\n",
       "      <td>440.00</td>\n",
       "    </tr>\n",
       "    <tr>\n",
       "      <th>mean</th>\n",
       "      <td>12000.30</td>\n",
       "      <td>5796.27</td>\n",
       "      <td>7951.28</td>\n",
       "      <td>3071.93</td>\n",
       "      <td>2881.49</td>\n",
       "      <td>1524.87</td>\n",
       "    </tr>\n",
       "    <tr>\n",
       "      <th>std</th>\n",
       "      <td>12647.33</td>\n",
       "      <td>7380.38</td>\n",
       "      <td>9503.16</td>\n",
       "      <td>4854.67</td>\n",
       "      <td>4767.85</td>\n",
       "      <td>2820.11</td>\n",
       "    </tr>\n",
       "    <tr>\n",
       "      <th>min</th>\n",
       "      <td>3.00</td>\n",
       "      <td>55.00</td>\n",
       "      <td>3.00</td>\n",
       "      <td>25.00</td>\n",
       "      <td>3.00</td>\n",
       "      <td>3.00</td>\n",
       "    </tr>\n",
       "    <tr>\n",
       "      <th>25%</th>\n",
       "      <td>3127.75</td>\n",
       "      <td>1533.00</td>\n",
       "      <td>2153.00</td>\n",
       "      <td>742.25</td>\n",
       "      <td>256.75</td>\n",
       "      <td>408.25</td>\n",
       "    </tr>\n",
       "    <tr>\n",
       "      <th>50%</th>\n",
       "      <td>8504.00</td>\n",
       "      <td>3627.00</td>\n",
       "      <td>4755.50</td>\n",
       "      <td>1526.00</td>\n",
       "      <td>816.50</td>\n",
       "      <td>965.50</td>\n",
       "    </tr>\n",
       "    <tr>\n",
       "      <th>75%</th>\n",
       "      <td>16933.75</td>\n",
       "      <td>7190.25</td>\n",
       "      <td>10655.75</td>\n",
       "      <td>3554.25</td>\n",
       "      <td>3922.00</td>\n",
       "      <td>1820.25</td>\n",
       "    </tr>\n",
       "    <tr>\n",
       "      <th>max</th>\n",
       "      <td>112151.00</td>\n",
       "      <td>73498.00</td>\n",
       "      <td>92780.00</td>\n",
       "      <td>60869.00</td>\n",
       "      <td>40827.00</td>\n",
       "      <td>47943.00</td>\n",
       "    </tr>\n",
       "    <tr>\n",
       "      <th>CV</th>\n",
       "      <td>1.05</td>\n",
       "      <td>1.27</td>\n",
       "      <td>1.20</td>\n",
       "      <td>1.58</td>\n",
       "      <td>1.65</td>\n",
       "      <td>1.85</td>\n",
       "    </tr>\n",
       "  </tbody>\n",
       "</table>\n",
       "</div>"
      ],
      "text/plain": [
       "          Fresh     Milk  Grocery   Frozen  Detergents_Paper  Delicatessen\n",
       "count    440.00   440.00   440.00   440.00            440.00        440.00\n",
       "mean   12000.30  5796.27  7951.28  3071.93           2881.49       1524.87\n",
       "std    12647.33  7380.38  9503.16  4854.67           4767.85       2820.11\n",
       "min        3.00    55.00     3.00    25.00              3.00          3.00\n",
       "25%     3127.75  1533.00  2153.00   742.25            256.75        408.25\n",
       "50%     8504.00  3627.00  4755.50  1526.00            816.50        965.50\n",
       "75%    16933.75  7190.25 10655.75  3554.25           3922.00       1820.25\n",
       "max   112151.00 73498.00 92780.00 60869.00          40827.00      47943.00\n",
       "CV         1.05     1.27     1.20     1.58              1.65          1.85"
      ]
     },
     "execution_count": 15,
     "metadata": {},
     "output_type": "execute_result"
    }
   ],
   "source": [
    "tempData = CustomerData[['Fresh', 'Milk', 'Grocery','Frozen', 'Detergents_Paper', 'Delicatessen']].describe()\n",
    "tempData.loc[('CV'), :] = tempData.loc[('std'), :]/tempData.loc[('mean'), :]\n",
    "tempData"
   ]
  },
  {
   "cell_type": "code",
   "execution_count": 16,
   "id": "f11efced",
   "metadata": {},
   "outputs": [
    {
     "name": "stdout",
     "output_type": "stream",
     "text": [
      "coefficient varience of Items:\n",
      " Fresh              1.05\n",
      "Grocery            1.20\n",
      "Milk               1.27\n",
      "Frozen             1.58\n",
      "Detergents_Paper   1.65\n",
      "Delicatessen       1.85\n",
      "Name: CV, dtype: float64\n"
     ]
    }
   ],
   "source": [
    "print('coefficient varience of Items:\\n',tempData.loc[('CV'),:].sort_values(ascending = True))"
   ]
  },
  {
   "cell_type": "markdown",
   "id": "d5282014",
   "metadata": {},
   "source": [
    "## 1.4 Are there any outliers in the data? Back up your answer with a suitable plot/technique with the help of detailed comments."
   ]
  },
  {
   "cell_type": "code",
   "execution_count": 17,
   "id": "5b7c89cd",
   "metadata": {},
   "outputs": [
    {
     "data": {
      "image/png": "[encoded data removed]",
      "text/plain": [
       "<Figure size 1440x1080 with 6 Axes>"
      ]
     },
     "metadata": {
      "needs_background": "light"
     },
     "output_type": "display_data"
    }
   ],
   "source": [
    "plt.figure(figsize=(20,15))\n",
    "plt.subplot(1,6,1)\n",
    "CustomerData['Fresh'].plot(kind = 'box',fontsize = 14)\n",
    "plt.subplot(1,6,2)\n",
    "CustomerData['Milk'].plot(kind = 'box',fontsize = 14)\n",
    "plt.subplot(1,6,3)\n",
    "CustomerData['Grocery'].plot(kind = 'box',fontsize = 14)\n",
    "plt.subplot(1,6,4)\n",
    "CustomerData['Frozen'].plot(kind = 'box',fontsize = 14)\n",
    "plt.subplot(1,6,5)\n",
    "CustomerData['Detergents_Paper'].plot(kind = 'box',fontsize = 14)\n",
    "plt.subplot(1,6,6)\n",
    "CustomerData['Delicatessen'].plot(kind = 'box',fontsize = 14)\n",
    "plt.show()"
   ]
  },
  {
   "cell_type": "markdown",
   "id": "a0205fcb",
   "metadata": {},
   "source": [
    "## 1.5 On the basis of your analysis, what are your recommendations for the business? How can your analysis help the business to solve its problem? Answer from the business perspective."
   ]
  },
  {
   "cell_type": "markdown",
   "id": "b1c49837",
   "metadata": {},
   "source": [
    "From the data exploration, we can recommend below suggestions to the wholesale distributor:\n",
    "1.\tHotels and retailers spent less in frozen and delicatessen products across all region as we can see from the box plot and bar plot. Distributer need to explore more to increase the selling of these products.\n",
    "2.\tDistributer need to reserve very high stock for Fresh product as we can see from channel & region vs items bar chart and descriptive measure of variability. "
   ]
  },
  {
   "cell_type": "markdown",
   "id": "ab54cb40",
   "metadata": {},
   "source": [
    "# Problem 2\n",
    "The Student News Service at Clear Mountain State University (CMSU) has decided to gather data about the undergraduate students that attend CMSU. CMSU creates and distributes a survey of 14 questions and receives responses from 62 undergraduates (stored in the Survey data set)."
   ]
  },
  {
   "cell_type": "code",
   "execution_count": 18,
   "id": "82271682",
   "metadata": {},
   "outputs": [
    {
     "data": {
      "text/html": [
       "<div>\n",
       "<style scoped>\n",
       "    .dataframe tbody tr th:only-of-type {\n",
       "        vertical-align: middle;\n",
       "    }\n",
       "\n",
       "    .dataframe tbody tr th {\n",
       "        vertical-align: top;\n",
       "    }\n",
       "\n",
       "    .dataframe thead th {\n",
       "        text-align: right;\n",
       "    }\n",
       "</style>\n",
       "<table border=\"1\" class=\"dataframe\">\n",
       "  <thead>\n",
       "    <tr style=\"text-align: right;\">\n",
       "      <th></th>\n",
       "      <th>ID</th>\n",
       "      <th>Gender</th>\n",
       "      <th>Age</th>\n",
       "      <th>Class</th>\n",
       "      <th>Major</th>\n",
       "      <th>Grad Intention</th>\n",
       "      <th>GPA</th>\n",
       "      <th>Employment</th>\n",
       "      <th>Salary</th>\n",
       "      <th>Social Networking</th>\n",
       "      <th>Satisfaction</th>\n",
       "      <th>Spending</th>\n",
       "      <th>Computer</th>\n",
       "      <th>Text Messages</th>\n",
       "    </tr>\n",
       "  </thead>\n",
       "  <tbody>\n",
       "    <tr>\n",
       "      <th>0</th>\n",
       "      <td>1</td>\n",
       "      <td>Female</td>\n",
       "      <td>20</td>\n",
       "      <td>Junior</td>\n",
       "      <td>Other</td>\n",
       "      <td>Yes</td>\n",
       "      <td>2.90</td>\n",
       "      <td>Full-Time</td>\n",
       "      <td>50.00</td>\n",
       "      <td>1</td>\n",
       "      <td>3</td>\n",
       "      <td>350</td>\n",
       "      <td>Laptop</td>\n",
       "      <td>200</td>\n",
       "    </tr>\n",
       "    <tr>\n",
       "      <th>1</th>\n",
       "      <td>2</td>\n",
       "      <td>Male</td>\n",
       "      <td>23</td>\n",
       "      <td>Senior</td>\n",
       "      <td>Management</td>\n",
       "      <td>Yes</td>\n",
       "      <td>3.60</td>\n",
       "      <td>Part-Time</td>\n",
       "      <td>25.00</td>\n",
       "      <td>1</td>\n",
       "      <td>4</td>\n",
       "      <td>360</td>\n",
       "      <td>Laptop</td>\n",
       "      <td>50</td>\n",
       "    </tr>\n",
       "    <tr>\n",
       "      <th>2</th>\n",
       "      <td>3</td>\n",
       "      <td>Male</td>\n",
       "      <td>21</td>\n",
       "      <td>Junior</td>\n",
       "      <td>Other</td>\n",
       "      <td>Yes</td>\n",
       "      <td>2.50</td>\n",
       "      <td>Part-Time</td>\n",
       "      <td>45.00</td>\n",
       "      <td>2</td>\n",
       "      <td>4</td>\n",
       "      <td>600</td>\n",
       "      <td>Laptop</td>\n",
       "      <td>200</td>\n",
       "    </tr>\n",
       "    <tr>\n",
       "      <th>3</th>\n",
       "      <td>4</td>\n",
       "      <td>Male</td>\n",
       "      <td>21</td>\n",
       "      <td>Junior</td>\n",
       "      <td>CIS</td>\n",
       "      <td>Yes</td>\n",
       "      <td>2.50</td>\n",
       "      <td>Full-Time</td>\n",
       "      <td>40.00</td>\n",
       "      <td>4</td>\n",
       "      <td>6</td>\n",
       "      <td>600</td>\n",
       "      <td>Laptop</td>\n",
       "      <td>250</td>\n",
       "    </tr>\n",
       "    <tr>\n",
       "      <th>4</th>\n",
       "      <td>5</td>\n",
       "      <td>Male</td>\n",
       "      <td>23</td>\n",
       "      <td>Senior</td>\n",
       "      <td>Other</td>\n",
       "      <td>Undecided</td>\n",
       "      <td>2.80</td>\n",
       "      <td>Unemployed</td>\n",
       "      <td>40.00</td>\n",
       "      <td>2</td>\n",
       "      <td>4</td>\n",
       "      <td>500</td>\n",
       "      <td>Laptop</td>\n",
       "      <td>100</td>\n",
       "    </tr>\n",
       "  </tbody>\n",
       "</table>\n",
       "</div>"
      ],
      "text/plain": [
       "   ID  Gender  Age   Class       Major Grad Intention  GPA  Employment  \\\n",
       "0   1  Female   20  Junior       Other            Yes 2.90   Full-Time   \n",
       "1   2    Male   23  Senior  Management            Yes 3.60   Part-Time   \n",
       "2   3    Male   21  Junior       Other            Yes 2.50   Part-Time   \n",
       "3   4    Male   21  Junior         CIS            Yes 2.50   Full-Time   \n",
       "4   5    Male   23  Senior       Other      Undecided 2.80  Unemployed   \n",
       "\n",
       "   Salary  Social Networking  Satisfaction  Spending Computer  Text Messages  \n",
       "0   50.00                  1             3       350   Laptop            200  \n",
       "1   25.00                  1             4       360   Laptop             50  \n",
       "2   45.00                  2             4       600   Laptop            200  \n",
       "3   40.00                  4             6       600   Laptop            250  \n",
       "4   40.00                  2             4       500   Laptop            100  "
      ]
     },
     "execution_count": 18,
     "metadata": {},
     "output_type": "execute_result"
    }
   ],
   "source": [
    "StudentData = pd.read_csv('Survey-1.csv')\n",
    "StudentData.head()"
   ]
  },
  {
   "cell_type": "code",
   "execution_count": 19,
   "id": "fe82bde9",
   "metadata": {},
   "outputs": [
    {
     "name": "stdout",
     "output_type": "stream",
     "text": [
      "<class 'pandas.core.frame.DataFrame'>\n",
      "RangeIndex: 62 entries, 0 to 61\n",
      "Data columns (total 14 columns):\n",
      " #   Column             Non-Null Count  Dtype  \n",
      "---  ------             --------------  -----  \n",
      " 0   ID                 62 non-null     int64  \n",
      " 1   Gender             62 non-null     object \n",
      " 2   Age                62 non-null     int64  \n",
      " 3   Class              62 non-null     object \n",
      " 4   Major              62 non-null     object \n",
      " 5   Grad Intention     62 non-null     object \n",
      " 6   GPA                62 non-null     float64\n",
      " 7   Employment         62 non-null     object \n",
      " 8   Salary             62 non-null     float64\n",
      " 9   Social Networking  62 non-null     int64  \n",
      " 10  Satisfaction       62 non-null     int64  \n",
      " 11  Spending           62 non-null     int64  \n",
      " 12  Computer           62 non-null     object \n",
      " 13  Text Messages      62 non-null     int64  \n",
      "dtypes: float64(2), int64(6), object(6)\n",
      "memory usage: 6.9+ KB\n"
     ]
    }
   ],
   "source": [
    "StudentData.info()"
   ]
  },
  {
   "cell_type": "markdown",
   "id": "dd9daca5",
   "metadata": {},
   "source": [
    "## 2.1 For this data, construct the following contingency tables (Keep Gender as row variable)"
   ]
  },
  {
   "cell_type": "markdown",
   "id": "a7141a21",
   "metadata": {},
   "source": [
    "### 2.1.1. Gender and Major\n",
    "### 2.1.2. Gender and Grad Intention\n",
    "### 2.1.3. Gender and Employment\n",
    "### 2.1.4. Gender and Computer"
   ]
  },
  {
   "cell_type": "code",
   "execution_count": 20,
   "id": "02f48ade",
   "metadata": {},
   "outputs": [
    {
     "data": {
      "text/html": [
       "<div>\n",
       "<style scoped>\n",
       "    .dataframe tbody tr th:only-of-type {\n",
       "        vertical-align: middle;\n",
       "    }\n",
       "\n",
       "    .dataframe tbody tr th {\n",
       "        vertical-align: top;\n",
       "    }\n",
       "\n",
       "    .dataframe thead th {\n",
       "        text-align: right;\n",
       "    }\n",
       "</style>\n",
       "<table border=\"1\" class=\"dataframe\">\n",
       "  <thead>\n",
       "    <tr style=\"text-align: right;\">\n",
       "      <th>Major</th>\n",
       "      <th>Accounting</th>\n",
       "      <th>CIS</th>\n",
       "      <th>Economics/Finance</th>\n",
       "      <th>International Business</th>\n",
       "      <th>Management</th>\n",
       "      <th>Other</th>\n",
       "      <th>Retailing/Marketing</th>\n",
       "      <th>Undecided</th>\n",
       "    </tr>\n",
       "    <tr>\n",
       "      <th>Gender</th>\n",
       "      <th></th>\n",
       "      <th></th>\n",
       "      <th></th>\n",
       "      <th></th>\n",
       "      <th></th>\n",
       "      <th></th>\n",
       "      <th></th>\n",
       "      <th></th>\n",
       "    </tr>\n",
       "  </thead>\n",
       "  <tbody>\n",
       "    <tr>\n",
       "      <th>Female</th>\n",
       "      <td>3</td>\n",
       "      <td>3</td>\n",
       "      <td>7</td>\n",
       "      <td>4</td>\n",
       "      <td>4</td>\n",
       "      <td>3</td>\n",
       "      <td>9</td>\n",
       "      <td>0</td>\n",
       "    </tr>\n",
       "    <tr>\n",
       "      <th>Male</th>\n",
       "      <td>4</td>\n",
       "      <td>1</td>\n",
       "      <td>4</td>\n",
       "      <td>2</td>\n",
       "      <td>6</td>\n",
       "      <td>4</td>\n",
       "      <td>5</td>\n",
       "      <td>3</td>\n",
       "    </tr>\n",
       "  </tbody>\n",
       "</table>\n",
       "</div>"
      ],
      "text/plain": [
       "Major   Accounting  CIS  Economics/Finance  International Business  \\\n",
       "Gender                                                               \n",
       "Female           3    3                  7                       4   \n",
       "Male             4    1                  4                       2   \n",
       "\n",
       "Major   Management  Other  Retailing/Marketing  Undecided  \n",
       "Gender                                                     \n",
       "Female           4      3                    9          0  \n",
       "Male             6      4                    5          3  "
      ]
     },
     "execution_count": 20,
     "metadata": {},
     "output_type": "execute_result"
    }
   ],
   "source": [
    "pd.crosstab(StudentData['Gender'],StudentData['Major'])"
   ]
  },
  {
   "cell_type": "code",
   "execution_count": 21,
   "id": "e15eabba",
   "metadata": {},
   "outputs": [
    {
     "data": {
      "text/html": [
       "<div>\n",
       "<style scoped>\n",
       "    .dataframe tbody tr th:only-of-type {\n",
       "        vertical-align: middle;\n",
       "    }\n",
       "\n",
       "    .dataframe tbody tr th {\n",
       "        vertical-align: top;\n",
       "    }\n",
       "\n",
       "    .dataframe thead th {\n",
       "        text-align: right;\n",
       "    }\n",
       "</style>\n",
       "<table border=\"1\" class=\"dataframe\">\n",
       "  <thead>\n",
       "    <tr style=\"text-align: right;\">\n",
       "      <th>Grad Intention</th>\n",
       "      <th>No</th>\n",
       "      <th>Undecided</th>\n",
       "      <th>Yes</th>\n",
       "    </tr>\n",
       "    <tr>\n",
       "      <th>Gender</th>\n",
       "      <th></th>\n",
       "      <th></th>\n",
       "      <th></th>\n",
       "    </tr>\n",
       "  </thead>\n",
       "  <tbody>\n",
       "    <tr>\n",
       "      <th>Female</th>\n",
       "      <td>9</td>\n",
       "      <td>13</td>\n",
       "      <td>11</td>\n",
       "    </tr>\n",
       "    <tr>\n",
       "      <th>Male</th>\n",
       "      <td>3</td>\n",
       "      <td>9</td>\n",
       "      <td>17</td>\n",
       "    </tr>\n",
       "  </tbody>\n",
       "</table>\n",
       "</div>"
      ],
      "text/plain": [
       "Grad Intention  No  Undecided  Yes\n",
       "Gender                            \n",
       "Female           9         13   11\n",
       "Male             3          9   17"
      ]
     },
     "execution_count": 21,
     "metadata": {},
     "output_type": "execute_result"
    }
   ],
   "source": [
    "pd.crosstab(StudentData['Gender'],StudentData['Grad Intention'])"
   ]
  },
  {
   "cell_type": "code",
   "execution_count": 22,
   "id": "746a45df",
   "metadata": {},
   "outputs": [
    {
     "data": {
      "text/html": [
       "<div>\n",
       "<style scoped>\n",
       "    .dataframe tbody tr th:only-of-type {\n",
       "        vertical-align: middle;\n",
       "    }\n",
       "\n",
       "    .dataframe tbody tr th {\n",
       "        vertical-align: top;\n",
       "    }\n",
       "\n",
       "    .dataframe thead th {\n",
       "        text-align: right;\n",
       "    }\n",
       "</style>\n",
       "<table border=\"1\" class=\"dataframe\">\n",
       "  <thead>\n",
       "    <tr style=\"text-align: right;\">\n",
       "      <th>Employment</th>\n",
       "      <th>Full-Time</th>\n",
       "      <th>Part-Time</th>\n",
       "      <th>Unemployed</th>\n",
       "    </tr>\n",
       "    <tr>\n",
       "      <th>Gender</th>\n",
       "      <th></th>\n",
       "      <th></th>\n",
       "      <th></th>\n",
       "    </tr>\n",
       "  </thead>\n",
       "  <tbody>\n",
       "    <tr>\n",
       "      <th>Female</th>\n",
       "      <td>3</td>\n",
       "      <td>24</td>\n",
       "      <td>6</td>\n",
       "    </tr>\n",
       "    <tr>\n",
       "      <th>Male</th>\n",
       "      <td>7</td>\n",
       "      <td>19</td>\n",
       "      <td>3</td>\n",
       "    </tr>\n",
       "  </tbody>\n",
       "</table>\n",
       "</div>"
      ],
      "text/plain": [
       "Employment  Full-Time  Part-Time  Unemployed\n",
       "Gender                                      \n",
       "Female              3         24           6\n",
       "Male                7         19           3"
      ]
     },
     "execution_count": 22,
     "metadata": {},
     "output_type": "execute_result"
    }
   ],
   "source": [
    "pd.crosstab(StudentData['Gender'],StudentData['Employment'])"
   ]
  },
  {
   "cell_type": "code",
   "execution_count": 23,
   "id": "2924dfa7",
   "metadata": {},
   "outputs": [
    {
     "data": {
      "text/html": [
       "<div>\n",
       "<style scoped>\n",
       "    .dataframe tbody tr th:only-of-type {\n",
       "        vertical-align: middle;\n",
       "    }\n",
       "\n",
       "    .dataframe tbody tr th {\n",
       "        vertical-align: top;\n",
       "    }\n",
       "\n",
       "    .dataframe thead th {\n",
       "        text-align: right;\n",
       "    }\n",
       "</style>\n",
       "<table border=\"1\" class=\"dataframe\">\n",
       "  <thead>\n",
       "    <tr style=\"text-align: right;\">\n",
       "      <th>Computer</th>\n",
       "      <th>Desktop</th>\n",
       "      <th>Laptop</th>\n",
       "      <th>Tablet</th>\n",
       "    </tr>\n",
       "    <tr>\n",
       "      <th>Gender</th>\n",
       "      <th></th>\n",
       "      <th></th>\n",
       "      <th></th>\n",
       "    </tr>\n",
       "  </thead>\n",
       "  <tbody>\n",
       "    <tr>\n",
       "      <th>Female</th>\n",
       "      <td>2</td>\n",
       "      <td>29</td>\n",
       "      <td>2</td>\n",
       "    </tr>\n",
       "    <tr>\n",
       "      <th>Male</th>\n",
       "      <td>3</td>\n",
       "      <td>26</td>\n",
       "      <td>0</td>\n",
       "    </tr>\n",
       "  </tbody>\n",
       "</table>\n",
       "</div>"
      ],
      "text/plain": [
       "Computer  Desktop  Laptop  Tablet\n",
       "Gender                           \n",
       "Female          2      29       2\n",
       "Male            3      26       0"
      ]
     },
     "execution_count": 23,
     "metadata": {},
     "output_type": "execute_result"
    }
   ],
   "source": [
    "pd.crosstab(StudentData['Gender'],StudentData['Computer'])"
   ]
  },
  {
   "cell_type": "markdown",
   "id": "674d0595",
   "metadata": {},
   "source": [
    "## 2.2. Assume that the sample is representative of the population of CMSU. Based on the data, answer the following question:"
   ]
  },
  {
   "cell_type": "markdown",
   "id": "e4f030e9",
   "metadata": {},
   "source": [
    "### 2.2.1. What is the probability that a randomly selected CMSU student will be male?\n",
    "### 2.2.2. What is the probability that a randomly selected CMSU student will be female?"
   ]
  },
  {
   "cell_type": "code",
   "execution_count": 24,
   "id": "c6a0c2fd",
   "metadata": {},
   "outputs": [
    {
     "data": {
      "text/plain": [
       "Female    33\n",
       "Male      29\n",
       "Name: Gender, dtype: int64"
      ]
     },
     "execution_count": 24,
     "metadata": {},
     "output_type": "execute_result"
    }
   ],
   "source": [
    "StudentData['Gender'].value_counts()"
   ]
  },
  {
   "cell_type": "code",
   "execution_count": 25,
   "id": "51ed9aea",
   "metadata": {},
   "outputs": [
    {
     "name": "stdout",
     "output_type": "stream",
     "text": [
      "probability that a randomly selected CMSU student will be male: 0.46774193548387094\n"
     ]
    }
   ],
   "source": [
    "print('probability that a randomly selected CMSU student will be male:',29/len(StudentData['Gender']))"
   ]
  },
  {
   "cell_type": "code",
   "execution_count": 26,
   "id": "c3c606e5",
   "metadata": {},
   "outputs": [
    {
     "name": "stdout",
     "output_type": "stream",
     "text": [
      "probability that a randomly selected CMSU student will be male: 0.532258064516129\n"
     ]
    }
   ],
   "source": [
    "print('probability that a randomly selected CMSU student will be male:',33/len(StudentData['Gender']))"
   ]
  },
  {
   "cell_type": "markdown",
   "id": "70968fe2",
   "metadata": {},
   "source": [
    "## 2.3. Assume that the sample is a representative of the population of CMSU. Based on the data, answer the following question:"
   ]
  },
  {
   "cell_type": "markdown",
   "id": "0d415e08",
   "metadata": {},
   "source": [
    "### 2.3.1.\tFind the conditional probability of different majors among the male students in CMSU.\n",
    "### 2.3.2.\tFind the conditional probability of different majors among the female students of CMSU.\n"
   ]
  },
  {
   "cell_type": "code",
   "execution_count": 27,
   "id": "4c4a80eb",
   "metadata": {},
   "outputs": [
    {
     "data": {
      "text/html": [
       "<div>\n",
       "<style scoped>\n",
       "    .dataframe tbody tr th:only-of-type {\n",
       "        vertical-align: middle;\n",
       "    }\n",
       "\n",
       "    .dataframe tbody tr th {\n",
       "        vertical-align: top;\n",
       "    }\n",
       "\n",
       "    .dataframe thead th {\n",
       "        text-align: right;\n",
       "    }\n",
       "</style>\n",
       "<table border=\"1\" class=\"dataframe\">\n",
       "  <thead>\n",
       "    <tr style=\"text-align: right;\">\n",
       "      <th>Major</th>\n",
       "      <th>Accounting</th>\n",
       "      <th>CIS</th>\n",
       "      <th>Economics/Finance</th>\n",
       "      <th>International Business</th>\n",
       "      <th>Management</th>\n",
       "      <th>Other</th>\n",
       "      <th>Retailing/Marketing</th>\n",
       "      <th>Undecided</th>\n",
       "    </tr>\n",
       "    <tr>\n",
       "      <th>Gender</th>\n",
       "      <th></th>\n",
       "      <th></th>\n",
       "      <th></th>\n",
       "      <th></th>\n",
       "      <th></th>\n",
       "      <th></th>\n",
       "      <th></th>\n",
       "      <th></th>\n",
       "    </tr>\n",
       "  </thead>\n",
       "  <tbody>\n",
       "    <tr>\n",
       "      <th>Female</th>\n",
       "      <td>3</td>\n",
       "      <td>3</td>\n",
       "      <td>7</td>\n",
       "      <td>4</td>\n",
       "      <td>4</td>\n",
       "      <td>3</td>\n",
       "      <td>9</td>\n",
       "      <td>0</td>\n",
       "    </tr>\n",
       "    <tr>\n",
       "      <th>Male</th>\n",
       "      <td>4</td>\n",
       "      <td>1</td>\n",
       "      <td>4</td>\n",
       "      <td>2</td>\n",
       "      <td>6</td>\n",
       "      <td>4</td>\n",
       "      <td>5</td>\n",
       "      <td>3</td>\n",
       "    </tr>\n",
       "  </tbody>\n",
       "</table>\n",
       "</div>"
      ],
      "text/plain": [
       "Major   Accounting  CIS  Economics/Finance  International Business  \\\n",
       "Gender                                                               \n",
       "Female           3    3                  7                       4   \n",
       "Male             4    1                  4                       2   \n",
       "\n",
       "Major   Management  Other  Retailing/Marketing  Undecided  \n",
       "Gender                                                     \n",
       "Female           4      3                    9          0  \n",
       "Male             6      4                    5          3  "
      ]
     },
     "execution_count": 27,
     "metadata": {},
     "output_type": "execute_result"
    }
   ],
   "source": [
    "pd.crosstab(StudentData['Gender'],StudentData['Major'])"
   ]
  },
  {
   "cell_type": "code",
   "execution_count": 28,
   "id": "dcc01b25",
   "metadata": {},
   "outputs": [
    {
     "data": {
      "text/plain": [
       "Female    33\n",
       "Male      29\n",
       "Name: Gender, dtype: int64"
      ]
     },
     "execution_count": 28,
     "metadata": {},
     "output_type": "execute_result"
    }
   ],
   "source": [
    "StudentData['Gender'].value_counts()"
   ]
  },
  {
   "cell_type": "code",
   "execution_count": 29,
   "id": "7ee842c3",
   "metadata": {},
   "outputs": [
    {
     "name": "stdout",
     "output_type": "stream",
     "text": [
      "Probability of Accounting among the Male students in CMSU: 0.13793103448275862\n",
      "Probability of CIS among the Male students in CMSU: 0.034482758620689655\n",
      "Probability of Economics/Finance among the Male students in CMSU: 0.13793103448275862\n",
      "Probability of International Business among the Male students in CMSU: 0.06896551724137931\n",
      "Probability of Management among the Male students in CMSU: 0.20689655172413793\n",
      "Probability of Other among the Male students in CMSU: 0.13793103448275862\n",
      "Probability of Retailing/Marketing among the Male students in CMSU: 0.1724137931034483\n",
      "Probability of Undecided among the Male students in CMSU: 0.10344827586206896\n"
     ]
    }
   ],
   "source": [
    "print('Probability of Accounting among the Male students in CMSU:',4/29)\n",
    "print('Probability of CIS among the Male students in CMSU:',1/29)\n",
    "print('Probability of Economics/Finance among the Male students in CMSU:',4/29)\n",
    "print('Probability of International Business among the Male students in CMSU:',2/29)\n",
    "print('Probability of Management among the Male students in CMSU:',6/29)\n",
    "print('Probability of Other among the Male students in CMSU:',4/29)\n",
    "print('Probability of Retailing/Marketing among the Male students in CMSU:',5/29)\n",
    "print('Probability of Undecided among the Male students in CMSU:',3/29)"
   ]
  },
  {
   "cell_type": "code",
   "execution_count": 30,
   "id": "2136ee9b",
   "metadata": {},
   "outputs": [
    {
     "name": "stdout",
     "output_type": "stream",
     "text": [
      "Probability of Accounting among the Female students in CMSU: 0.09090909090909091\n",
      "Probability of CIS among the Female students in CMSU: 0.09090909090909091\n",
      "Probability of Economics/Finance among the Female students in CMSU: 0.21212121212121213\n",
      "Probability of International Business among the Female students in CMSU: 0.12121212121212122\n",
      "Probability of Management among the Female students in CMSU: 0.12121212121212122\n",
      "Probability of Other among the Female students in CMSU: 0.09090909090909091\n",
      "Probability of Retailing/Marketing among the Female students in CMSU: 0.2727272727272727\n",
      "Probability of Undecided among the Female students in CMSU: 0.0\n"
     ]
    }
   ],
   "source": [
    "print('Probability of Accounting among the Female students in CMSU:',3/33)\n",
    "print('Probability of CIS among the Female students in CMSU:',3/33)\n",
    "print('Probability of Economics/Finance among the Female students in CMSU:',7/33)\n",
    "print('Probability of International Business among the Female students in CMSU:',4/33)\n",
    "print('Probability of Management among the Female students in CMSU:',4/33)\n",
    "print('Probability of Other among the Female students in CMSU:',3/33)\n",
    "print('Probability of Retailing/Marketing among the Female students in CMSU:',9/33)\n",
    "print('Probability of Undecided among the Female students in CMSU:',0/33)"
   ]
  },
  {
   "cell_type": "markdown",
   "id": "cbbc5f20",
   "metadata": {},
   "source": [
    "## 2.4. Assume that the sample is a representative of the population of CMSU. Based on the data, answer the following question:\n",
    "\n",
    "### 2.4.1. Find the probability That a randomly chosen student is a male and intends to graduate.\n",
    "### 2.4.2 Find the probability that a randomly selected student is a female and does NOT have a laptop. "
   ]
  },
  {
   "cell_type": "code",
   "execution_count": 31,
   "id": "030edd0d",
   "metadata": {},
   "outputs": [
    {
     "name": "stdout",
     "output_type": "stream",
     "text": [
      "Probability That a randomly chosen student is a male and intends to graduate = P(Grad Intention|male) x P(male) =  0.27419354838709675\n"
     ]
    }
   ],
   "source": [
    "print('Probability That a randomly chosen student is a male and intends to graduate = P(Grad Intention|male) x P(male) = ',(17/29) * (29/62))"
   ]
  },
  {
   "cell_type": "code",
   "execution_count": 32,
   "id": "8fa45975",
   "metadata": {},
   "outputs": [
    {
     "name": "stdout",
     "output_type": "stream",
     "text": [
      "Probability that a randomly selected student is a female and does NOT have a laptop = P(Not have Laptop|female) x P(female) =  0.06451612903225806\n"
     ]
    }
   ],
   "source": [
    "print('Probability that a randomly selected student is a female and does NOT have a laptop = P(Not have Laptop|female) x P(female) = ',(4/33) * (33/62))"
   ]
  },
  {
   "cell_type": "markdown",
   "id": "e41c2f20",
   "metadata": {},
   "source": [
    "## 2.5. Assume that the sample is representative of the population of CMSU. Based on the data, answer the following question:\n",
    "\n",
    "### 2.5.1. Find the probability that a randomly chosen student is a male or has full-time employment?\n",
    "### 2.5.2. Find the conditional probability that given a female student is randomly chosen, she is majoring in international business or management."
   ]
  },
  {
   "cell_type": "code",
   "execution_count": 62,
   "id": "0738b941",
   "metadata": {},
   "outputs": [
    {
     "name": "stdout",
     "output_type": "stream",
     "text": [
      "Probability that a randomly chosen student is a male or has full-time employment = P(Male) + P(Full time employment) - P(Male|Full time employment) =  0.16129032258064516\n"
     ]
    }
   ],
   "source": [
    "print('Probability that a randomly chosen student is a male or has full-time employment \\\n",
    "= P(Male) + P(Full time employment) - P(Male|Full time employment) = ',(29/62) + (10/62) - (7/29))"
   ]
  },
  {
   "cell_type": "code",
   "execution_count": 61,
   "id": "ce0f6e93",
   "metadata": {},
   "outputs": [
    {
     "data": {
      "text/html": [
       "<div>\n",
       "<style scoped>\n",
       "    .dataframe tbody tr th:only-of-type {\n",
       "        vertical-align: middle;\n",
       "    }\n",
       "\n",
       "    .dataframe tbody tr th {\n",
       "        vertical-align: top;\n",
       "    }\n",
       "\n",
       "    .dataframe thead th {\n",
       "        text-align: right;\n",
       "    }\n",
       "</style>\n",
       "<table border=\"1\" class=\"dataframe\">\n",
       "  <thead>\n",
       "    <tr style=\"text-align: right;\">\n",
       "      <th>Employment</th>\n",
       "      <th>Full-Time</th>\n",
       "      <th>Part-Time</th>\n",
       "      <th>Unemployed</th>\n",
       "    </tr>\n",
       "    <tr>\n",
       "      <th>Gender</th>\n",
       "      <th></th>\n",
       "      <th></th>\n",
       "      <th></th>\n",
       "    </tr>\n",
       "  </thead>\n",
       "  <tbody>\n",
       "    <tr>\n",
       "      <th>Female</th>\n",
       "      <td>3</td>\n",
       "      <td>24</td>\n",
       "      <td>6</td>\n",
       "    </tr>\n",
       "    <tr>\n",
       "      <th>Male</th>\n",
       "      <td>7</td>\n",
       "      <td>19</td>\n",
       "      <td>3</td>\n",
       "    </tr>\n",
       "  </tbody>\n",
       "</table>\n",
       "</div>"
      ],
      "text/plain": [
       "Employment  Full-Time  Part-Time  Unemployed\n",
       "Gender                                      \n",
       "Female              3         24           6\n",
       "Male                7         19           3"
      ]
     },
     "execution_count": 61,
     "metadata": {},
     "output_type": "execute_result"
    }
   ],
   "source": [
    "pd.crosstab(StudentData['Gender'],StudentData['Employment'])"
   ]
  },
  {
   "cell_type": "code",
   "execution_count": 34,
   "id": "44979d2a",
   "metadata": {},
   "outputs": [
    {
     "name": "stdout",
     "output_type": "stream",
     "text": [
      "Probability that given a female student is randomly chosen, she is majoring in international business or management = P(International business|Female) + P(Management|Female) =  0.24242424242424243\n"
     ]
    }
   ],
   "source": [
    "print('Probability that given a female student is randomly chosen, she is majoring in international business or management \\\n",
    "= P(International business|Female) + P(Management|Female) = ',(4/33) + (4/33))"
   ]
  },
  {
   "cell_type": "markdown",
   "id": "f0b6d494",
   "metadata": {},
   "source": [
    "## 2.6. Construct a contingency table of Gender and Intent to Graduate at 2 levels (Yes/No). The Undecided students are not considered now and the table is a 2x2 table. Do you think the graduate intention and being female are independent events?"
   ]
  },
  {
   "cell_type": "code",
   "execution_count": 35,
   "id": "72248813",
   "metadata": {},
   "outputs": [
    {
     "data": {
      "text/html": [
       "<div>\n",
       "<style scoped>\n",
       "    .dataframe tbody tr th:only-of-type {\n",
       "        vertical-align: middle;\n",
       "    }\n",
       "\n",
       "    .dataframe tbody tr th {\n",
       "        vertical-align: top;\n",
       "    }\n",
       "\n",
       "    .dataframe thead th {\n",
       "        text-align: right;\n",
       "    }\n",
       "</style>\n",
       "<table border=\"1\" class=\"dataframe\">\n",
       "  <thead>\n",
       "    <tr style=\"text-align: right;\">\n",
       "      <th>Graduate</th>\n",
       "      <th>No</th>\n",
       "      <th>Yes</th>\n",
       "    </tr>\n",
       "    <tr>\n",
       "      <th>Gender</th>\n",
       "      <th></th>\n",
       "      <th></th>\n",
       "    </tr>\n",
       "  </thead>\n",
       "  <tbody>\n",
       "    <tr>\n",
       "      <th>Female</th>\n",
       "      <td>0</td>\n",
       "      <td>33</td>\n",
       "    </tr>\n",
       "    <tr>\n",
       "      <th>Male</th>\n",
       "      <td>3</td>\n",
       "      <td>26</td>\n",
       "    </tr>\n",
       "  </tbody>\n",
       "</table>\n",
       "</div>"
      ],
      "text/plain": [
       "Graduate  No  Yes\n",
       "Gender           \n",
       "Female     0   33\n",
       "Male       3   26"
      ]
     },
     "execution_count": 35,
     "metadata": {},
     "output_type": "execute_result"
    }
   ],
   "source": [
    "newStudentData = StudentData.copy().rename(columns={'Major': 'Graduate'})\n",
    "newStudentData.loc[newStudentData.Graduate != 'Undecided', 'Graduate'] = 'Yes'\n",
    "newStudentData.loc[newStudentData.Graduate == 'Undecided', 'Graduate'] = 'No'\n",
    "pd.crosstab(newStudentData['Gender'],newStudentData['Graduate'])"
   ]
  },
  {
   "cell_type": "code",
   "execution_count": 36,
   "id": "fe057672",
   "metadata": {},
   "outputs": [
    {
     "data": {
      "text/html": [
       "<div>\n",
       "<style scoped>\n",
       "    .dataframe tbody tr th:only-of-type {\n",
       "        vertical-align: middle;\n",
       "    }\n",
       "\n",
       "    .dataframe tbody tr th {\n",
       "        vertical-align: top;\n",
       "    }\n",
       "\n",
       "    .dataframe thead th {\n",
       "        text-align: right;\n",
       "    }\n",
       "</style>\n",
       "<table border=\"1\" class=\"dataframe\">\n",
       "  <thead>\n",
       "    <tr style=\"text-align: right;\">\n",
       "      <th>Grad Intention</th>\n",
       "      <th>No</th>\n",
       "      <th>Yes</th>\n",
       "    </tr>\n",
       "    <tr>\n",
       "      <th>Gender</th>\n",
       "      <th></th>\n",
       "      <th></th>\n",
       "    </tr>\n",
       "  </thead>\n",
       "  <tbody>\n",
       "    <tr>\n",
       "      <th>Female</th>\n",
       "      <td>9</td>\n",
       "      <td>11</td>\n",
       "    </tr>\n",
       "    <tr>\n",
       "      <th>Male</th>\n",
       "      <td>3</td>\n",
       "      <td>17</td>\n",
       "    </tr>\n",
       "  </tbody>\n",
       "</table>\n",
       "</div>"
      ],
      "text/plain": [
       "Grad Intention  No  Yes\n",
       "Gender                 \n",
       "Female           9   11\n",
       "Male             3   17"
      ]
     },
     "execution_count": 36,
     "metadata": {},
     "output_type": "execute_result"
    }
   ],
   "source": [
    "GradIntentionTable = pd.crosstab(StudentData['Gender'],StudentData['Grad Intention'])\n",
    "GradIntentionTable.drop(columns='Undecided',inplace=True)\n",
    "GradIntentionTable"
   ]
  },
  {
   "cell_type": "markdown",
   "id": "02056bec",
   "metadata": {},
   "source": [
    "For Two event to be independent bellow condition must be true.\n",
    "P(A ∩ B) = P(A) * P(B)\n",
    "\n",
    "So, P (Graduate intention ∩ Female) = P(Graduate intention) * P(Female)"
   ]
  },
  {
   "cell_type": "code",
   "execution_count": 37,
   "id": "5ad104a0",
   "metadata": {},
   "outputs": [
    {
     "name": "stdout",
     "output_type": "stream",
     "text": [
      "P(Graduate intention) = 0.7\n"
     ]
    }
   ],
   "source": [
    "print('P(Graduate intention) =', (11+17)/(9+3+11+17) )"
   ]
  },
  {
   "cell_type": "code",
   "execution_count": 38,
   "id": "676cab8d",
   "metadata": {},
   "outputs": [
    {
     "name": "stdout",
     "output_type": "stream",
     "text": [
      "P(Female) = 0.5\n"
     ]
    }
   ],
   "source": [
    "print('P(Female) =', (9+11)/(9+3+11+17) )"
   ]
  },
  {
   "cell_type": "code",
   "execution_count": 39,
   "id": "13203830",
   "metadata": {},
   "outputs": [
    {
     "name": "stdout",
     "output_type": "stream",
     "text": [
      "P(Graduate intention) * P(Female) = 0.35\n"
     ]
    }
   ],
   "source": [
    "print('P(Graduate intention) * P(Female) =', 0.7 * 0.5 )"
   ]
  },
  {
   "cell_type": "code",
   "execution_count": 40,
   "id": "a1362e27",
   "metadata": {},
   "outputs": [
    {
     "name": "stdout",
     "output_type": "stream",
     "text": [
      "P (Graduate intention ∩ Female) = 0.275\n"
     ]
    }
   ],
   "source": [
    "print('P (Graduate intention ∩ Female) =', 11/(9+3+11+17) )"
   ]
  },
  {
   "cell_type": "markdown",
   "id": "2d1cffb5",
   "metadata": {},
   "source": [
    "This is not independent events as probability multiplication of both events is not equal to combined event, so graduate intention and being female are not independent."
   ]
  },
  {
   "cell_type": "markdown",
   "id": "2335f7da",
   "metadata": {},
   "source": [
    "## 2.7. Note that there are four numerical (continuous) variables in the data set, GPA, Salary, Spending, and Text Messages.\n",
    "\n",
    "Answer the following questions based on the data\n",
    "\n",
    "### 2.7.1. If a student is chosen randomly, what is the probability that his/her GPA is less than 3?\n",
    "### 2.7.2. Find the conditional probability that a randomly selected male earns 50 or more. Find the conditional probability that a randomly selected female earns 50 or more."
   ]
  },
  {
   "cell_type": "code",
   "execution_count": 41,
   "id": "184f0355",
   "metadata": {},
   "outputs": [
    {
     "data": {
      "text/html": [
       "<div>\n",
       "<style scoped>\n",
       "    .dataframe tbody tr th:only-of-type {\n",
       "        vertical-align: middle;\n",
       "    }\n",
       "\n",
       "    .dataframe tbody tr th {\n",
       "        vertical-align: top;\n",
       "    }\n",
       "\n",
       "    .dataframe thead th {\n",
       "        text-align: right;\n",
       "    }\n",
       "</style>\n",
       "<table border=\"1\" class=\"dataframe\">\n",
       "  <thead>\n",
       "    <tr style=\"text-align: right;\">\n",
       "      <th>GPA</th>\n",
       "      <th>0.00</th>\n",
       "      <th>1.00</th>\n",
       "    </tr>\n",
       "    <tr>\n",
       "      <th>Gender</th>\n",
       "      <th></th>\n",
       "      <th></th>\n",
       "    </tr>\n",
       "  </thead>\n",
       "  <tbody>\n",
       "    <tr>\n",
       "      <th>Female</th>\n",
       "      <td>25</td>\n",
       "      <td>8</td>\n",
       "    </tr>\n",
       "    <tr>\n",
       "      <th>Male</th>\n",
       "      <td>20</td>\n",
       "      <td>9</td>\n",
       "    </tr>\n",
       "  </tbody>\n",
       "</table>\n",
       "</div>"
      ],
      "text/plain": [
       "GPA     0.00  1.00\n",
       "Gender            \n",
       "Female    25     8\n",
       "Male      20     9"
      ]
     },
     "execution_count": 41,
     "metadata": {},
     "output_type": "execute_result"
    }
   ],
   "source": [
    "newStudentData = StudentData.copy()\n",
    "newStudentData.loc[newStudentData.GPA < 3.00, 'GPA'] = 1\n",
    "newStudentData.loc[newStudentData.GPA >= 3.00, 'GPA'] = 0\n",
    "pd.crosstab(newStudentData['Gender'],newStudentData['GPA'])"
   ]
  },
  {
   "cell_type": "code",
   "execution_count": 42,
   "id": "5da88d63",
   "metadata": {},
   "outputs": [
    {
     "name": "stdout",
     "output_type": "stream",
     "text": [
      "Probability that his/her GPA is less than 3: 0.27419354838709675\n"
     ]
    }
   ],
   "source": [
    "print('Probability that his/her GPA is less than 3:',8/62 + 9/62)"
   ]
  },
  {
   "cell_type": "code",
   "execution_count": 43,
   "id": "7ea08aae",
   "metadata": {},
   "outputs": [
    {
     "data": {
      "text/plain": [
       "Index(['ID', 'Gender', 'Age', 'Class', 'Major', 'Grad Intention', 'GPA',\n",
       "       'Employment', 'Salary', 'Social Networking', 'Satisfaction', 'Spending',\n",
       "       'Computer', 'Text Messages'],\n",
       "      dtype='object')"
      ]
     },
     "execution_count": 43,
     "metadata": {},
     "output_type": "execute_result"
    }
   ],
   "source": [
    "StudentData.columns"
   ]
  },
  {
   "cell_type": "code",
   "execution_count": 44,
   "id": "2ff0944a",
   "metadata": {},
   "outputs": [
    {
     "data": {
      "text/html": [
       "<div>\n",
       "<style scoped>\n",
       "    .dataframe tbody tr th:only-of-type {\n",
       "        vertical-align: middle;\n",
       "    }\n",
       "\n",
       "    .dataframe tbody tr th {\n",
       "        vertical-align: top;\n",
       "    }\n",
       "\n",
       "    .dataframe thead th {\n",
       "        text-align: right;\n",
       "    }\n",
       "</style>\n",
       "<table border=\"1\" class=\"dataframe\">\n",
       "  <thead>\n",
       "    <tr style=\"text-align: right;\">\n",
       "      <th>Salary</th>\n",
       "      <th>0.00</th>\n",
       "      <th>1.00</th>\n",
       "    </tr>\n",
       "    <tr>\n",
       "      <th>Gender</th>\n",
       "      <th></th>\n",
       "      <th></th>\n",
       "    </tr>\n",
       "  </thead>\n",
       "  <tbody>\n",
       "    <tr>\n",
       "      <th>Female</th>\n",
       "      <td>18</td>\n",
       "      <td>15</td>\n",
       "    </tr>\n",
       "    <tr>\n",
       "      <th>Male</th>\n",
       "      <td>14</td>\n",
       "      <td>15</td>\n",
       "    </tr>\n",
       "  </tbody>\n",
       "</table>\n",
       "</div>"
      ],
      "text/plain": [
       "Salary  0.00  1.00\n",
       "Gender            \n",
       "Female    18    15\n",
       "Male      14    15"
      ]
     },
     "execution_count": 44,
     "metadata": {},
     "output_type": "execute_result"
    }
   ],
   "source": [
    "newStudentData = StudentData.copy()\n",
    "newStudentData.loc[newStudentData['Salary'] < 50, 'Salary'] = 1\n",
    "newStudentData.loc[newStudentData['Salary'] >= 50, 'Salary'] = 0\n",
    "pd.crosstab(newStudentData['Gender'],newStudentData['Salary'])"
   ]
  },
  {
   "cell_type": "code",
   "execution_count": 45,
   "id": "6a9a1f1c",
   "metadata": {},
   "outputs": [
    {
     "name": "stdout",
     "output_type": "stream",
     "text": [
      "Probability that randomly selected male earns 50 or more: 0.24193548387096775\n",
      "Probability that randomly selected female earns 50 or more: 0.24193548387096775\n"
     ]
    }
   ],
   "source": [
    "print('Probability that randomly selected male earns 50 or more:',15/62)\n",
    "print('Probability that randomly selected female earns 50 or more:',15/62)"
   ]
  },
  {
   "cell_type": "markdown",
   "id": "86c9d24a",
   "metadata": {},
   "source": [
    "## 2.8. Note that there are four numerical (continuous) variables in the data set, GPA, Salary, Spending, and Text Messages. For each of them comment whether they follow a normal distribution. Write a note summarizing your conclusions."
   ]
  },
  {
   "cell_type": "code",
   "execution_count": 46,
   "id": "4016dc24",
   "metadata": {},
   "outputs": [
    {
     "name": "stdout",
     "output_type": "stream",
     "text": [
      "Skew of GPA:  -0.3069370607018797\n",
      "Skew of Salary:  0.5216766008645851\n",
      "Skew of Spending:  1.5472850312929523\n",
      "Skew of Text Messages:  1.2642446834439687\n"
     ]
    },
    {
     "data": {
      "text/plain": [
       "[]"
      ]
     },
     "execution_count": 46,
     "metadata": {},
     "output_type": "execute_result"
    },
    {
     "data": {
      "image/png": "[encoded data removed]",
      "text/plain": [
       "<Figure size 1440x360 with 4 Axes>"
      ]
     },
     "metadata": {
      "needs_background": "light"
     },
     "output_type": "display_data"
    }
   ],
   "source": [
    "print('Skew of GPA: ', stats.skew(StudentData['GPA']))\n",
    "print('Skew of Salary: ', stats.skew(StudentData['Salary']))\n",
    "print('Skew of Spending: ', stats.skew(StudentData['Spending']))\n",
    "print('Skew of Text Messages: ', stats.skew(StudentData['Text Messages']))\n",
    "plt.figure(figsize=(20,5))\n",
    "plt.subplot(1,4,1)\n",
    "sns.distplot(StudentData['GPA'])\n",
    "plt.subplot(1,4,2)\n",
    "sns.distplot(StudentData['Salary'])\n",
    "plt.subplot(1,4,3)\n",
    "sns.distplot(StudentData['Spending'])\n",
    "plt.subplot(1,4,4)\n",
    "sns.distplot(StudentData['Text Messages'])\n",
    "plt.plot()"
   ]
  },
  {
   "cell_type": "code",
   "execution_count": 47,
   "id": "50841560",
   "metadata": {},
   "outputs": [
    {
     "data": {
      "text/html": [
       "<div>\n",
       "<style scoped>\n",
       "    .dataframe tbody tr th:only-of-type {\n",
       "        vertical-align: middle;\n",
       "    }\n",
       "\n",
       "    .dataframe tbody tr th {\n",
       "        vertical-align: top;\n",
       "    }\n",
       "\n",
       "    .dataframe thead th {\n",
       "        text-align: right;\n",
       "    }\n",
       "</style>\n",
       "<table border=\"1\" class=\"dataframe\">\n",
       "  <thead>\n",
       "    <tr style=\"text-align: right;\">\n",
       "      <th></th>\n",
       "      <th>ID</th>\n",
       "      <th>Age</th>\n",
       "      <th>GPA</th>\n",
       "      <th>Salary</th>\n",
       "      <th>Social Networking</th>\n",
       "      <th>Satisfaction</th>\n",
       "      <th>Spending</th>\n",
       "      <th>Text Messages</th>\n",
       "    </tr>\n",
       "  </thead>\n",
       "  <tbody>\n",
       "    <tr>\n",
       "      <th>count</th>\n",
       "      <td>62.00</td>\n",
       "      <td>62.00</td>\n",
       "      <td>62.00</td>\n",
       "      <td>62.00</td>\n",
       "      <td>62.00</td>\n",
       "      <td>62.00</td>\n",
       "      <td>62.00</td>\n",
       "      <td>62.00</td>\n",
       "    </tr>\n",
       "    <tr>\n",
       "      <th>mean</th>\n",
       "      <td>31.50</td>\n",
       "      <td>21.13</td>\n",
       "      <td>3.13</td>\n",
       "      <td>48.55</td>\n",
       "      <td>1.52</td>\n",
       "      <td>3.74</td>\n",
       "      <td>482.02</td>\n",
       "      <td>246.21</td>\n",
       "    </tr>\n",
       "    <tr>\n",
       "      <th>std</th>\n",
       "      <td>18.04</td>\n",
       "      <td>1.43</td>\n",
       "      <td>0.38</td>\n",
       "      <td>12.08</td>\n",
       "      <td>0.84</td>\n",
       "      <td>1.21</td>\n",
       "      <td>221.95</td>\n",
       "      <td>214.47</td>\n",
       "    </tr>\n",
       "    <tr>\n",
       "      <th>min</th>\n",
       "      <td>1.00</td>\n",
       "      <td>18.00</td>\n",
       "      <td>2.30</td>\n",
       "      <td>25.00</td>\n",
       "      <td>0.00</td>\n",
       "      <td>1.00</td>\n",
       "      <td>100.00</td>\n",
       "      <td>0.00</td>\n",
       "    </tr>\n",
       "    <tr>\n",
       "      <th>25%</th>\n",
       "      <td>16.25</td>\n",
       "      <td>20.00</td>\n",
       "      <td>2.90</td>\n",
       "      <td>40.00</td>\n",
       "      <td>1.00</td>\n",
       "      <td>3.00</td>\n",
       "      <td>312.50</td>\n",
       "      <td>100.00</td>\n",
       "    </tr>\n",
       "    <tr>\n",
       "      <th>50%</th>\n",
       "      <td>31.50</td>\n",
       "      <td>21.00</td>\n",
       "      <td>3.15</td>\n",
       "      <td>50.00</td>\n",
       "      <td>1.00</td>\n",
       "      <td>4.00</td>\n",
       "      <td>500.00</td>\n",
       "      <td>200.00</td>\n",
       "    </tr>\n",
       "    <tr>\n",
       "      <th>75%</th>\n",
       "      <td>46.75</td>\n",
       "      <td>22.00</td>\n",
       "      <td>3.40</td>\n",
       "      <td>55.00</td>\n",
       "      <td>2.00</td>\n",
       "      <td>4.00</td>\n",
       "      <td>600.00</td>\n",
       "      <td>300.00</td>\n",
       "    </tr>\n",
       "    <tr>\n",
       "      <th>max</th>\n",
       "      <td>62.00</td>\n",
       "      <td>26.00</td>\n",
       "      <td>3.90</td>\n",
       "      <td>80.00</td>\n",
       "      <td>4.00</td>\n",
       "      <td>6.00</td>\n",
       "      <td>1400.00</td>\n",
       "      <td>900.00</td>\n",
       "    </tr>\n",
       "    <tr>\n",
       "      <th>CV</th>\n",
       "      <td>0.57</td>\n",
       "      <td>0.07</td>\n",
       "      <td>0.12</td>\n",
       "      <td>0.25</td>\n",
       "      <td>0.56</td>\n",
       "      <td>0.32</td>\n",
       "      <td>0.46</td>\n",
       "      <td>0.87</td>\n",
       "    </tr>\n",
       "  </tbody>\n",
       "</table>\n",
       "</div>"
      ],
      "text/plain": [
       "         ID   Age   GPA  Salary  Social Networking  Satisfaction  Spending  \\\n",
       "count 62.00 62.00 62.00   62.00              62.00         62.00     62.00   \n",
       "mean  31.50 21.13  3.13   48.55               1.52          3.74    482.02   \n",
       "std   18.04  1.43  0.38   12.08               0.84          1.21    221.95   \n",
       "min    1.00 18.00  2.30   25.00               0.00          1.00    100.00   \n",
       "25%   16.25 20.00  2.90   40.00               1.00          3.00    312.50   \n",
       "50%   31.50 21.00  3.15   50.00               1.00          4.00    500.00   \n",
       "75%   46.75 22.00  3.40   55.00               2.00          4.00    600.00   \n",
       "max   62.00 26.00  3.90   80.00               4.00          6.00   1400.00   \n",
       "CV     0.57  0.07  0.12    0.25               0.56          0.32      0.46   \n",
       "\n",
       "       Text Messages  \n",
       "count          62.00  \n",
       "mean          246.21  \n",
       "std           214.47  \n",
       "min             0.00  \n",
       "25%           100.00  \n",
       "50%           200.00  \n",
       "75%           300.00  \n",
       "max           900.00  \n",
       "CV              0.87  "
      ]
     },
     "execution_count": 47,
     "metadata": {},
     "output_type": "execute_result"
    }
   ],
   "source": [
    "tempData = StudentData.describe()\n",
    "tempData.loc[('CV'), :] = tempData.loc[('std'), :]/tempData.loc[('mean'), :]\n",
    "tempData"
   ]
  },
  {
   "cell_type": "markdown",
   "id": "7a2a3708",
   "metadata": {},
   "source": [
    "# Problem 3\n",
    "\n",
    "An important quality characteristic used by the manufacturers of ABC asphalt shingles is the amount of moisture the shingles contain when they are packaged. Customers may feel that they have purchased a product lacking in quality if they find moisture and wet shingles inside the packaging.   In some cases, excessive moisture can cause the granules attached to the shingles for texture and coloring purposes to fall off the shingles resulting in appearance problems. To monitor the amount of moisture present, the company conducts moisture tests. A shingle is weighed and then dried. The shingle is then reweighed, and based on the amount of moisture taken out of the product, the pounds of moisture per 100 square feet are calculated. The company would like to show that the mean moisture content is less than 0.35 pounds per 100 square feet.\n",
    "The file (A & B shingles.csv) includes 36 measurements (in pounds per 100 square feet) for A shingles and 31 for B shingles."
   ]
  },
  {
   "cell_type": "code",
   "execution_count": 48,
   "id": "55caa049",
   "metadata": {},
   "outputs": [
    {
     "data": {
      "text/html": [
       "<div>\n",
       "<style scoped>\n",
       "    .dataframe tbody tr th:only-of-type {\n",
       "        vertical-align: middle;\n",
       "    }\n",
       "\n",
       "    .dataframe tbody tr th {\n",
       "        vertical-align: top;\n",
       "    }\n",
       "\n",
       "    .dataframe thead th {\n",
       "        text-align: right;\n",
       "    }\n",
       "</style>\n",
       "<table border=\"1\" class=\"dataframe\">\n",
       "  <thead>\n",
       "    <tr style=\"text-align: right;\">\n",
       "      <th></th>\n",
       "      <th>A</th>\n",
       "      <th>B</th>\n",
       "    </tr>\n",
       "  </thead>\n",
       "  <tbody>\n",
       "    <tr>\n",
       "      <th>0</th>\n",
       "      <td>0.44</td>\n",
       "      <td>0.14</td>\n",
       "    </tr>\n",
       "    <tr>\n",
       "      <th>1</th>\n",
       "      <td>0.61</td>\n",
       "      <td>0.15</td>\n",
       "    </tr>\n",
       "    <tr>\n",
       "      <th>2</th>\n",
       "      <td>0.47</td>\n",
       "      <td>0.31</td>\n",
       "    </tr>\n",
       "    <tr>\n",
       "      <th>3</th>\n",
       "      <td>0.30</td>\n",
       "      <td>0.16</td>\n",
       "    </tr>\n",
       "    <tr>\n",
       "      <th>4</th>\n",
       "      <td>0.15</td>\n",
       "      <td>0.37</td>\n",
       "    </tr>\n",
       "  </tbody>\n",
       "</table>\n",
       "</div>"
      ],
      "text/plain": [
       "     A    B\n",
       "0 0.44 0.14\n",
       "1 0.61 0.15\n",
       "2 0.47 0.31\n",
       "3 0.30 0.16\n",
       "4 0.15 0.37"
      ]
     },
     "execution_count": 48,
     "metadata": {},
     "output_type": "execute_result"
    }
   ],
   "source": [
    "ShinglesData = pd.read_csv('A+&+B+shingles.csv')\n",
    "ShinglesData.head()"
   ]
  },
  {
   "cell_type": "code",
   "execution_count": 49,
   "id": "503b4768",
   "metadata": {},
   "outputs": [
    {
     "name": "stdout",
     "output_type": "stream",
     "text": [
      "<class 'pandas.core.frame.DataFrame'>\n",
      "RangeIndex: 36 entries, 0 to 35\n",
      "Data columns (total 2 columns):\n",
      " #   Column  Non-Null Count  Dtype  \n",
      "---  ------  --------------  -----  \n",
      " 0   A       36 non-null     float64\n",
      " 1   B       31 non-null     float64\n",
      "dtypes: float64(2)\n",
      "memory usage: 704.0 bytes\n"
     ]
    }
   ],
   "source": [
    "ShinglesData.info()"
   ]
  },
  {
   "cell_type": "code",
   "execution_count": 50,
   "id": "35a91480",
   "metadata": {},
   "outputs": [],
   "source": [
    "AShinglesData = ShinglesData['A'].dropna()\n",
    "BShinglesData = ShinglesData['B'].dropna()"
   ]
  },
  {
   "cell_type": "markdown",
   "id": "5e0a7e79",
   "metadata": {},
   "source": [
    "## 3.1. Do you think there is evidence that means moisture contents in both types of shingles are within the permissible limits? State your conclusions clearly showing all steps."
   ]
  },
  {
   "cell_type": "markdown",
   "id": "cfc88b6e",
   "metadata": {},
   "source": [
    "## Solutions:\n",
    "\n",
    "Test 1: Mean moister contents in A is greater then 0.35 punds\n",
    "\n",
    "H0: Mean moister contents in A <= 0.35 pounds \\\n",
    "H1: Mean moister contents in A > 0.35 pounds"
   ]
  },
  {
   "cell_type": "code",
   "execution_count": 51,
   "id": "83a9001c",
   "metadata": {},
   "outputs": [],
   "source": [
    "dA = statsmod.DescrStatsW(AShinglesData)"
   ]
  },
  {
   "cell_type": "code",
   "execution_count": 52,
   "id": "d34a6880",
   "metadata": {},
   "outputs": [],
   "source": [
    "tstatA, pvalueA, dfA = dA.ttest_mean(value=0.35, alternative='larger')"
   ]
  },
  {
   "cell_type": "code",
   "execution_count": 53,
   "id": "aff813f1",
   "metadata": {},
   "outputs": [
    {
     "name": "stdout",
     "output_type": "stream",
     "text": [
      "p-value of A: 0.9252236685509249\n",
      "tstat of A: -1.473504625338278\n"
     ]
    }
   ],
   "source": [
    "print('p-value of A:',pvalueA)\n",
    "print('tstat of A:',tstatA)"
   ]
  },
  {
   "cell_type": "markdown",
   "id": "bbc53365",
   "metadata": {},
   "source": [
    "at the 5% level of significance, we can see p-value of A > 0.05, we do not have enough evidence to prove that the Mean moister contents in A is less then 0.35 punds. Hence, we fail to reject the null hypothesis."
   ]
  },
  {
   "cell_type": "markdown",
   "id": "bfa2fea2",
   "metadata": {},
   "source": [
    "Test 2: Mean moister contents in B is greater then 0.35 punds\n",
    "\n",
    "H0: Mean moister contents in B <= 0.35 pounds \\\n",
    "H1: Mean moister contents in B > 0.35 pounds"
   ]
  },
  {
   "cell_type": "code",
   "execution_count": 54,
   "id": "d950add0",
   "metadata": {},
   "outputs": [],
   "source": [
    "dB = statsmod.DescrStatsW(BShinglesData)"
   ]
  },
  {
   "cell_type": "code",
   "execution_count": 55,
   "id": "2bf17816",
   "metadata": {},
   "outputs": [],
   "source": [
    "tstatB, pvalueB, dfB = dB.ttest_mean(value=0.35, alternative='larger')"
   ]
  },
  {
   "cell_type": "code",
   "execution_count": 56,
   "id": "ccc1eca4",
   "metadata": {},
   "outputs": [
    {
     "name": "stdout",
     "output_type": "stream",
     "text": [
      "p-value of B: 0.9979095225996808\n",
      "tstat of B: -3.1003313069986995\n"
     ]
    }
   ],
   "source": [
    "print('p-value of B:',pvalueB)\n",
    "print('tstat of B:',tstatB)"
   ]
  },
  {
   "cell_type": "markdown",
   "id": "73fd2b65",
   "metadata": {},
   "source": [
    "at the 5% level of significance, we can see p-value of B > 0.05, we do not have enough evidence to prove that the Mean moister contents in B is less then 0.35 punds. Hence, we fail to reject the null hypothesis."
   ]
  },
  {
   "cell_type": "markdown",
   "id": "fddf2b79",
   "metadata": {},
   "source": [
    "## 3.2. Do you think that the population mean for shingles A and B are equal? Form the hypothesis and conduct the test of the hypothesis. What assumption do you need to check before the test for equality of means is performed?"
   ]
  },
  {
   "cell_type": "markdown",
   "id": "3e842a4a",
   "metadata": {},
   "source": [
    "### Solution:\n",
    "\n",
    "H0: Mean moister contents in A = Mean moister contents in B \\\n",
    "H1: Mean moister contents in A != Mean moister contents in B\n",
    "\n",
    "Assuming Level of significance = 0.05 ,Shingles A and B have equeal varience and are normaly distributed over population."
   ]
  },
  {
   "cell_type": "code",
   "execution_count": 57,
   "id": "6009780e",
   "metadata": {},
   "outputs": [],
   "source": [
    "tstat, pvalue, df = statsmod.ttest_ind(AShinglesData, BShinglesData, usevar='pooled', alternative='two-sided')"
   ]
  },
  {
   "cell_type": "code",
   "execution_count": 58,
   "id": "0469a986",
   "metadata": {},
   "outputs": [
    {
     "name": "stdout",
     "output_type": "stream",
     "text": [
      "p-value: 0.20174965718353277\n",
      "t-state: 1.2896282719661123\n"
     ]
    }
   ],
   "source": [
    "print('p-value:',pvalue)\n",
    "print('t-state:',tstat)"
   ]
  },
  {
   "cell_type": "markdown",
   "id": "1b25d476",
   "metadata": {},
   "source": [
    "At  the  level  of  5%  significance,  p-value  =  0.2017.    \n",
    "Since  p-value  >  0.05,  that  means  the population mean for shingles A and B are equal at the 5% level of significance. We have no evidence to reject the null hypothesis since p value > Level of significance"
   ]
  },
  {
   "cell_type": "code",
   "execution_count": null,
   "id": "08a1fb54",
   "metadata": {},
   "outputs": [],
   "source": []
  }
 ],
 "metadata": {
  "kernelspec": {
   "display_name": "Python 3",
   "language": "python",
   "name": "python3"
  },
  "language_info": {
   "codemirror_mode": {
    "name": "ipython",
    "version": 3
   },
   "file_extension": ".py",
   "mimetype": "text/x-python",
   "name": "python",
   "nbconvert_exporter": "python",
   "pygments_lexer": "ipython3",
   "version": "3.8.8"
  }
 },
 "nbformat": 4,
 "nbformat_minor": 5
}
