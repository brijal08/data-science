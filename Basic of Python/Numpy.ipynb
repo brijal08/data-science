{
 "cells": [
  {
   "cell_type": "code",
   "execution_count": 2,
   "id": "2701374e",
   "metadata": {},
   "outputs": [],
   "source": [
    "import numpy as np"
   ]
  },
  {
   "cell_type": "code",
   "execution_count": 4,
   "id": "c02422b5",
   "metadata": {},
   "outputs": [
    {
     "name": "stdout",
     "output_type": "stream",
     "text": [
      "-1.0\n"
     ]
    }
   ],
   "source": [
    "print(np.cos(np.pi))"
   ]
  },
  {
   "cell_type": "code",
   "execution_count": 6,
   "id": "ef37c561",
   "metadata": {},
   "outputs": [
    {
     "name": "stdout",
     "output_type": "stream",
     "text": [
      "1.1\n"
     ]
    }
   ],
   "source": [
    "print(np.sqrt(1.21))"
   ]
  },
  {
   "cell_type": "code",
   "execution_count": 8,
   "id": "1789da24",
   "metadata": {},
   "outputs": [
    {
     "name": "stdout",
     "output_type": "stream",
     "text": [
      "5.2\n"
     ]
    }
   ],
   "source": [
    "print(np.log(np.exp(5.2)))"
   ]
  },
  {
   "cell_type": "code",
   "execution_count": 10,
   "id": "9eaa0ade",
   "metadata": {},
   "outputs": [
    {
     "name": "stdout",
     "output_type": "stream",
     "text": [
      "[1 2 3]\n"
     ]
    }
   ],
   "source": [
    "vec = np.array([1,2,3])\n",
    "print(vec)"
   ]
  },
  {
   "cell_type": "code",
   "execution_count": 11,
   "id": "e4497f7a",
   "metadata": {},
   "outputs": [
    {
     "name": "stdout",
     "output_type": "stream",
     "text": [
      "1\n"
     ]
    }
   ],
   "source": [
    "print(vec.ndim)"
   ]
  },
  {
   "cell_type": "code",
   "execution_count": 14,
   "id": "b0c7bb93",
   "metadata": {},
   "outputs": [
    {
     "name": "stdout",
     "output_type": "stream",
     "text": [
      "[[1 2 3]\n",
      " [4 5 6]\n",
      " [7 8 9]]\n"
     ]
    }
   ],
   "source": [
    "vec2 = np.array([[1,2,3],[4,5,6],[7,8,9]])\n",
    "print(vec2)"
   ]
  },
  {
   "cell_type": "code",
   "execution_count": 16,
   "id": "d0187375",
   "metadata": {},
   "outputs": [
    {
     "name": "stdout",
     "output_type": "stream",
     "text": [
      "2\n"
     ]
    }
   ],
   "source": [
    "print(vec2.ndim)"
   ]
  },
  {
   "cell_type": "code",
   "execution_count": 17,
   "id": "ad52c2e5",
   "metadata": {},
   "outputs": [
    {
     "name": "stdout",
     "output_type": "stream",
     "text": [
      "[[1 4 7]\n",
      " [2 5 8]\n",
      " [3 6 9]]\n"
     ]
    }
   ],
   "source": [
    "print(vec2.T)"
   ]
  },
  {
   "cell_type": "code",
   "execution_count": 18,
   "id": "691b104c",
   "metadata": {},
   "outputs": [
    {
     "name": "stdout",
     "output_type": "stream",
     "text": [
      "[0 1 2 3 4 5 6 7 8 9]\n"
     ]
    }
   ],
   "source": [
    "v1 = np.arange(0,10)\n",
    "print(v1)"
   ]
  },
  {
   "cell_type": "code",
   "execution_count": 19,
   "id": "f7cfd5be",
   "metadata": {},
   "outputs": [
    {
     "name": "stdout",
     "output_type": "stream",
     "text": [
      "[0 2 4 6 8]\n"
     ]
    }
   ],
   "source": [
    "v2 = np.arange(0,10,2)\n",
    "print(v2)"
   ]
  },
  {
   "cell_type": "code",
   "execution_count": 30,
   "id": "6ca3f3bc",
   "metadata": {},
   "outputs": [
    {
     "name": "stdout",
     "output_type": "stream",
     "text": [
      "[0.         0.55555556 1.11111111 1.66666667 2.22222222 2.77777778\n",
      " 3.33333333 3.88888889 4.44444444 5.        ]\n"
     ]
    }
   ],
   "source": [
    "v3 = np.linspace(0,5,10)\n",
    "print(v3)"
   ]
  },
  {
   "cell_type": "code",
   "execution_count": 31,
   "id": "c088a8c8",
   "metadata": {},
   "outputs": [
    {
     "name": "stdout",
     "output_type": "stream",
     "text": [
      "[[0.         0.55555556]\n",
      " [1.11111111 1.66666667]\n",
      " [2.22222222 2.77777778]\n",
      " [3.33333333 3.88888889]\n",
      " [4.44444444 5.        ]]\n"
     ]
    }
   ],
   "source": [
    "print(v3.reshape(5,2))"
   ]
  },
  {
   "cell_type": "code",
   "execution_count": 22,
   "id": "5552db27",
   "metadata": {},
   "outputs": [
    {
     "name": "stdout",
     "output_type": "stream",
     "text": [
      "[[0. 0. 0.]\n",
      " [0. 0. 0.]\n",
      " [0. 0. 0.]\n",
      " [0. 0. 0.]\n",
      " [0. 0. 0.]]\n"
     ]
    }
   ],
   "source": [
    "v4 = np.zeros([5,3])\n",
    "print(v4)"
   ]
  },
  {
   "cell_type": "code",
   "execution_count": 27,
   "id": "506c6350",
   "metadata": {},
   "outputs": [
    {
     "name": "stdout",
     "output_type": "stream",
     "text": [
      "[[0 0 0]\n",
      " [0 0 0]\n",
      " [0 0 0]\n",
      " [0 0 0]\n",
      " [0 0 0]]\n"
     ]
    }
   ],
   "source": [
    "v5 = np.zeros((5,3),dtype = int)\n",
    "print(v5)"
   ]
  },
  {
   "cell_type": "code",
   "execution_count": 25,
   "id": "e5e7f5ca",
   "metadata": {},
   "outputs": [
    {
     "name": "stdout",
     "output_type": "stream",
     "text": [
      "[[1 0 0]\n",
      " [0 1 0]\n",
      " [0 0 1]]\n"
     ]
    }
   ],
   "source": [
    "v6 = np.eye(3,dtype = int)\n",
    "print(v6)"
   ]
  },
  {
   "cell_type": "code",
   "execution_count": 35,
   "id": "ec01fe6f",
   "metadata": {},
   "outputs": [
    {
     "name": "stdout",
     "output_type": "stream",
     "text": [
      "[1 2 3 4 5]\n",
      "[3 4 5 6 7]\n",
      "[ 4  6  8 10 12]\n",
      "[ 3  8 15 24 35]\n",
      "[1.         0.5        0.33333333 0.25       0.2       ]\n",
      "[1.73205081 2.         2.23606798 2.44948974 2.64575131]\n"
     ]
    }
   ],
   "source": [
    "vec5 = np.arange(1,6)\n",
    "vec6 = np.arange(3,8)\n",
    "print(vec5)\n",
    "print(vec6)\n",
    "print(vec5+vec6)\n",
    "print(vec5*vec6)\n",
    "print(1/vec5)\n",
    "print(np.sqrt(vec6))"
   ]
  },
  {
   "cell_type": "code",
   "execution_count": 36,
   "id": "d2e78c7f",
   "metadata": {},
   "outputs": [
    {
     "name": "stdout",
     "output_type": "stream",
     "text": [
      "[1 2 3]\n",
      "\n",
      "[[1 2 1]\n",
      " [4 5 9]\n",
      " [1 8 9]]\n",
      "\n"
     ]
    }
   ],
   "source": [
    "vec = np.array([1,2,3])\n",
    "print(vec)\n",
    "# we can create matrices by converting lists of lists\n",
    "mat = np.array([[1,2,1],[4,5,9],[1,8,9]])\n",
    "print('')\n",
    "print(mat)\n",
    "print('')"
   ]
  },
  {
   "cell_type": "code",
   "execution_count": 37,
   "id": "f2fcbb1c",
   "metadata": {},
   "outputs": [
    {
     "name": "stdout",
     "output_type": "stream",
     "text": [
      "[[1 2 1]\n",
      " [4 5 9]\n",
      " [1 8 9]]\n",
      "\n",
      "[1 2 3]\n",
      "\n",
      "[ 8 41 44]\n"
     ]
    }
   ],
   "source": [
    "# we can do matrix multiplication\n",
    "print(mat)\n",
    "print('')\n",
    "print(vec)\n",
    "print()\n",
    "product = np.matmul(mat,vec)\n",
    "print(product)"
   ]
  },
  {
   "cell_type": "code",
   "execution_count": 38,
   "id": "2c2af5d8",
   "metadata": {},
   "outputs": [
    {
     "name": "stdout",
     "output_type": "stream",
     "text": [
      "[1. 2. 3.]\n",
      "\n",
      "[[ 0.5         0.18518519 -0.24074074]\n",
      " [ 0.5        -0.14814815  0.09259259]\n",
      " [-0.5         0.11111111  0.05555556]]\n"
     ]
    }
   ],
   "source": [
    "print(np.linalg.solve(mat,product))\n",
    "print('')\n",
    "print(np.linalg.inv(mat))"
   ]
  },
  {
   "cell_type": "code",
   "execution_count": 39,
   "id": "bb74d982",
   "metadata": {},
   "outputs": [
    {
     "name": "stdout",
     "output_type": "stream",
     "text": [
      "['blue' 'red' 'orange' 'purple' 'purple' 'orange' 'Red' '6']\n",
      "['6' 'Red' 'blue' 'orange' 'purple' 'red']\n"
     ]
    }
   ],
   "source": [
    "# we can find the unique values in an array\n",
    "vec7 = np.array(['blue','red','orange','purple','purple','orange','Red',6])\n",
    "print(vec7)\n",
    "print(np.unique(vec7))"
   ]
  },
  {
   "cell_type": "code",
   "execution_count": 43,
   "id": "701eea5c",
   "metadata": {},
   "outputs": [
    {
     "name": "stdout",
     "output_type": "stream",
     "text": [
      "[[0.72711382 0.12942979 0.44392143 0.24593311 0.05398943]\n",
      " [0.58974553 0.44143836 0.48505046 0.23335714 0.1560893 ]\n",
      " [0.65051567 0.44149573 0.70053157 0.71101895 0.84390657]\n",
      " [0.83376109 0.09411626 0.78408068 0.27176982 0.69739741]\n",
      " [0.43502471 0.85795965 0.52615281 0.1246651  0.31163295]]\n",
      "\n",
      "[[-0.34454474  0.26581678  1.86751441 -0.30389427  0.60759846]\n",
      " [-0.47936073 -1.31684046 -0.30981023 -0.84732604 -0.06357283]\n",
      " [ 0.4823597  -0.94413261  1.41212494 -0.29921149 -1.07145373]\n",
      " [-1.60196691 -0.23869879 -1.14871877  0.40288077  1.23961883]\n",
      " [-0.98322351  0.99287294  0.58363487  1.30136729 -0.96828179]]\n"
     ]
    }
   ],
   "source": [
    "# we can also use numpy to generate samples of a random variable\n",
    "rand_mat = np.random.rand(5,5) # uniform random variable\n",
    "print(rand_mat)\n",
    "rand_mat2 = np.random.randn(5,5) # standard normal random variable\n",
    "print('')\n",
    "print(rand_mat2)"
   ]
  },
  {
   "cell_type": "code",
   "execution_count": 44,
   "id": "33757d82",
   "metadata": {},
   "outputs": [
    {
     "name": "stdout",
     "output_type": "stream",
     "text": [
      "0.47160389308285205\n",
      "0.9320402945934241\n"
     ]
    }
   ],
   "source": [
    "# we can also use numpy for statistical tools on arrays\n",
    "print(np.mean(rand_mat))\n",
    "print(np.std(rand_mat2))"
   ]
  },
  {
   "cell_type": "code",
   "execution_count": 45,
   "id": "0bc53484",
   "metadata": {},
   "outputs": [
    {
     "name": "stdout",
     "output_type": "stream",
     "text": [
      "0.05398942528932593\n",
      "1.8675144085828932\n"
     ]
    }
   ],
   "source": [
    "print(np.min(rand_mat))\n",
    "print(np.max(rand_mat2))"
   ]
  },
  {
   "cell_type": "code",
   "execution_count": 46,
   "id": "791d1223",
   "metadata": {},
   "outputs": [
    {
     "name": "stdout",
     "output_type": "stream",
     "text": [
      "[-0.91867517  2.37216133 -1.48796191  1.04443217  1.30806574 -0.0734824\n",
      "  2.38385446  1.08997536  1.50975178  1.01108028 -0.1153499  -0.83020256\n",
      "  0.10920083  0.91882473 -0.41646858  0.23188407  0.80872582 -0.45531753\n",
      " -0.80491733]\n",
      "2.383854459702975\n"
     ]
    }
   ],
   "source": [
    "# how do we access entries in a numpy vector\n",
    "rand_vec = np.random.randn(19)\n",
    "print(rand_vec)\n",
    "print(rand_vec[6])"
   ]
  },
  {
   "cell_type": "code",
   "execution_count": 47,
   "id": "57dfc29e",
   "metadata": {},
   "outputs": [
    {
     "name": "stdout",
     "output_type": "stream",
     "text": [
      "[-1.48796191  1.04443217  1.30806574]\n"
     ]
    }
   ],
   "source": [
    "print(rand_vec[2:5])"
   ]
  },
  {
   "cell_type": "code",
   "execution_count": 50,
   "id": "878895b5",
   "metadata": {},
   "outputs": [
    {
     "name": "stdout",
     "output_type": "stream",
     "text": [
      "[0 3 6 9]\n",
      "[-0.91867517  1.04443217  2.38385446  1.01108028]\n"
     ]
    }
   ],
   "source": [
    "# we can also access multiple non-consecutive entries using np.arange\n",
    "print(np.arange(0,10,3))\n",
    "print(rand_vec[np.arange(0,10,3)])"
   ]
  },
  {
   "cell_type": "code",
   "execution_count": 51,
   "id": "270530cd",
   "metadata": {},
   "outputs": [
    {
     "name": "stdout",
     "output_type": "stream",
     "text": [
      "[[0.72711382 0.12942979 0.44392143 0.24593311 0.05398943]\n",
      " [0.58974553 0.44143836 0.48505046 0.23335714 0.1560893 ]\n",
      " [0.65051567 0.44149573 0.70053157 0.71101895 0.84390657]\n",
      " [0.83376109 0.09411626 0.78408068 0.27176982 0.69739741]\n",
      " [0.43502471 0.85795965 0.52615281 0.1246651  0.31163295]]\n",
      "0.48505046225136006\n",
      "0.48505046225136006\n"
     ]
    }
   ],
   "source": [
    "# what about matrices\n",
    "print(rand_mat)\n",
    "print(rand_mat[1][2])\n",
    "print(rand_mat[1,2])"
   ]
  },
  {
   "cell_type": "code",
   "execution_count": 54,
   "id": "d435d0c6",
   "metadata": {},
   "outputs": [
    {
     "name": "stdout",
     "output_type": "stream",
     "text": [
      "[[0.12942979 0.44392143]\n",
      " [0.44143836 0.48505046]]\n"
     ]
    }
   ],
   "source": [
    "print(rand_mat[0:2,1:3])"
   ]
  },
  {
   "cell_type": "code",
   "execution_count": 53,
   "id": "8724424e",
   "metadata": {},
   "outputs": [
    {
     "name": "stdout",
     "output_type": "stream",
     "text": [
      "[-0.91867517  2.37216133 -1.48796191  1.04443217  1.30806574 -0.0734824\n",
      "  2.38385446  1.08997536  1.50975178  1.01108028 -0.1153499  -0.83020256\n",
      "  0.10920083  0.91882473 -0.41646858  0.23188407  0.80872582 -0.45531753\n",
      " -0.80491733]\n",
      "\n",
      "[-0.91867517  2.37216133 -1.48796191  4.          4.         -0.0734824\n",
      "  2.38385446  1.08997536  1.50975178  1.01108028 -0.1153499  -0.83020256\n",
      "  0.10920083  0.91882473 -0.41646858  0.23188407  0.80872582 -0.45531753\n",
      " -0.80491733]\n",
      "\n",
      "[-0.91867517  2.37216133 -1.48796191  1.          2.         -0.0734824\n",
      "  2.38385446  1.08997536  1.50975178  1.01108028 -0.1153499  -0.83020256\n",
      "  0.10920083  0.91882473 -0.41646858  0.23188407  0.80872582 -0.45531753\n",
      " -0.80491733]\n"
     ]
    }
   ],
   "source": [
    "# let's change some values in an array!\n",
    "print(rand_vec)\n",
    "rand_vec[3:5] = 4\n",
    "print('')\n",
    "print(rand_vec)\n",
    "rand_vec[3:5] = [1,2]\n",
    "print('')\n",
    "print(rand_vec)"
   ]
  },
  {
   "cell_type": "code",
   "execution_count": 57,
   "id": "5323a775",
   "metadata": {},
   "outputs": [
    {
     "name": "stdout",
     "output_type": "stream",
     "text": [
      "[[0.72711382 0.12942979 0.44392143 0.24593311 0.05398943]\n",
      " [0.58974553 0.44143836 0.         0.         0.        ]\n",
      " [0.65051567 0.44149573 0.         0.         0.        ]\n",
      " [0.83376109 0.09411626 0.78408068 0.27176982 0.69739741]\n",
      " [0.43502471 0.85795965 0.52615281 0.1246651  0.31163295]]\n",
      "\n",
      "[[0.72711382 0.12942979 0.44392143 0.24593311 0.05398943]\n",
      " [0.58974553 0.44143836 0.         0.         0.        ]\n",
      " [0.65051567 0.44149573 0.         0.         0.        ]\n",
      " [0.83376109 0.09411626 0.78408068 0.27176982 0.69739741]\n",
      " [0.43502471 0.85795965 0.52615281 0.1246651  0.31163295]]\n"
     ]
    }
   ],
   "source": [
    "print(rand_mat)\n",
    "rand_mat[1:3,3:5] = 0\n",
    "print('')\n",
    "print(rand_mat)"
   ]
  },
  {
   "cell_type": "code",
   "execution_count": null,
   "id": "bfbe5b62",
   "metadata": {},
   "outputs": [],
   "source": []
  }
 ],
 "metadata": {
  "kernelspec": {
   "display_name": "Python 3",
   "language": "python",
   "name": "python3"
  },
  "language_info": {
   "codemirror_mode": {
    "name": "ipython",
    "version": 3
   },
   "file_extension": ".py",
   "mimetype": "text/x-python",
   "name": "python",
   "nbconvert_exporter": "python",
   "pygments_lexer": "ipython3",
   "version": "3.8.8"
  }
 },
 "nbformat": 4,
 "nbformat_minor": 5
}
