{
 "cells": [
  {
   "cell_type": "markdown",
   "metadata": {
    "colab_type": "text",
    "id": "42-KAc9Y8HeQ"
   },
   "source": [
    "Q1.Check the data types of the below variables:\n",
    "a=50, b=10.4, c=\"Hello\""
   ]
  },
  {
   "cell_type": "code",
   "execution_count": 5,
   "metadata": {
    "colab": {},
    "colab_type": "code",
    "id": "BlsI6Ndn8VNV"
   },
   "outputs": [
    {
     "name": "stdout",
     "output_type": "stream",
     "text": [
      "Variable a is Intiger having value:  50\n",
      "Variable b is float having value:  10.4\n",
      "Variable c is string having value:  Hello\n"
     ]
    }
   ],
   "source": [
    "a = 50\n",
    "b = 10.4\n",
    "c = \"Hello\"\n",
    "if type(a) == int:\n",
    "    print('Variable a is Intiger having value: ',a)\n",
    "else:\n",
    "    print('Variable a isn\\'t Intiger having value: ',a)\n",
    "if type(b) == float:\n",
    "    print('Variable b is float having value: ',b)\n",
    "else:\n",
    "    print('Variable b isn\\'t float having value: ',b)\n",
    "if type(c) == str:\n",
    "    print('Variable c is string having value: ',c)\n",
    "else:\n",
    "    print('Variable c isn\\'t string having value: ',c)"
   ]
  },
  {
   "cell_type": "markdown",
   "metadata": {
    "colab_type": "text",
    "id": "rqsPIAw5-lVO"
   },
   "source": [
    "Q2.Check whether the given string is in Upper case?\n",
    "\n",
    "String - \" My Name is Adam\""
   ]
  },
  {
   "cell_type": "code",
   "execution_count": 6,
   "metadata": {
    "colab": {},
    "colab_type": "code",
    "id": "YXkpHrMR-s1b"
   },
   "outputs": [
    {
     "name": "stdout",
     "output_type": "stream",
     "text": [
      " My Name is Adam  isn't in upper case\n"
     ]
    }
   ],
   "source": [
    "tempString = \" My Name is Adam\"\n",
    "if(tempString.isupper()):\n",
    "    print(tempString,' is in upper case')\n",
    "else:\n",
    "    print(tempString,' isn\\'t in upper case')"
   ]
  },
  {
   "cell_type": "markdown",
   "metadata": {
    "colab_type": "text",
    "id": "xzUsyo3m_BHS"
   },
   "source": [
    "Q3.What is the length of the given string?\n",
    "\n",
    "String- \"My Name is Adam\""
   ]
  },
  {
   "cell_type": "code",
   "execution_count": 7,
   "metadata": {
    "colab": {},
    "colab_type": "code",
    "id": "KU1QQPs9_Jim"
   },
   "outputs": [
    {
     "name": "stdout",
     "output_type": "stream",
     "text": [
      "Length of  My Name is Adam is  15\n"
     ]
    }
   ],
   "source": [
    "tempString = \"My Name is Adam\"\n",
    "print('Length of ', tempString, 'is ', len(tempString))"
   ]
  },
  {
   "cell_type": "markdown",
   "metadata": {
    "colab_type": "text",
    "id": "HFSUOTfE6JIg"
   },
   "source": [
    "Q4.Write a code (using \"for\" loop) to print the sum of all elements in the list = [6, 5, 3, 8, 4, 2, 5, 4, 11, 43]?"
   ]
  },
  {
   "cell_type": "code",
   "execution_count": 11,
   "metadata": {
    "colab": {},
    "colab_type": "code",
    "id": "3XB7hVCG6U56"
   },
   "outputs": [],
   "source": [
    "elementList = [6, 5, 3, 8, 4, 2, 5, 4, 11, 43]"
   ]
  },
  {
   "cell_type": "code",
   "execution_count": 12,
   "metadata": {
    "colab": {},
    "colab_type": "code",
    "id": "3XB7hVCG6U56"
   },
   "outputs": [
    {
     "name": "stdout",
     "output_type": "stream",
     "text": [
      "Sum of  [6, 5, 3, 8, 4, 2, 5, 4, 11, 43]  is  91\n"
     ]
    }
   ],
   "source": [
    "sum = 0\n",
    "for i in elementList:\n",
    "    sum += i\n",
    "print('Sum of ', elementList, ' is ', sum)"
   ]
  },
  {
   "cell_type": "markdown",
   "metadata": {
    "colab_type": "text",
    "id": "pLga0cw17K3Y"
   },
   "source": [
    "Q5. Write a python code( using only while loop) which will only print the even numbers from 2 to 12. "
   ]
  },
  {
   "cell_type": "code",
   "execution_count": 19,
   "metadata": {
    "colab": {},
    "colab_type": "code",
    "id": "AAlqvWY-_y_1"
   },
   "outputs": [
    {
     "name": "stdout",
     "output_type": "stream",
     "text": [
      "2\n",
      "4\n",
      "6\n",
      "8\n",
      "10\n",
      "12\n"
     ]
    }
   ],
   "source": [
    "evenRangeList = list(range(2,13,2))\n",
    "i = 0\n",
    "while(i < len(evenRangeList)):\n",
    "    print(evenRangeList[i])\n",
    "    i += 1"
   ]
  },
  {
   "cell_type": "markdown",
   "metadata": {
    "colab_type": "text",
    "id": "Lhk0pYd6JdEy"
   },
   "source": [
    "Q6.Write a python code( using the combination of if statement and while loop) which will only print the even numbers from 2 to 12."
   ]
  },
  {
   "cell_type": "code",
   "execution_count": 17,
   "metadata": {
    "colab": {},
    "colab_type": "code",
    "id": "_0HGsd6f60Nx"
   },
   "outputs": [
    {
     "name": "stdout",
     "output_type": "stream",
     "text": [
      "2\n",
      "4\n",
      "6\n",
      "8\n",
      "10\n",
      "12\n"
     ]
    }
   ],
   "source": [
    "rangeList = list(range(2,13))\n",
    "i = 0\n",
    "while(i < len(rangeList)):\n",
    "    if((rangeList[i] % 2) == 0):\n",
    "        print(rangeList[i])\n",
    "    i += 1"
   ]
  },
  {
   "cell_type": "markdown",
   "metadata": {
    "colab_type": "text",
    "id": "RvD0Q2FfKEQl"
   },
   "source": [
    "Q7.Write a code( using if-else statement), which will print the minimum of the below given numbers.\n",
    "x=50,y=30,z=40"
   ]
  },
  {
   "cell_type": "code",
   "execution_count": 20,
   "metadata": {
    "colab": {},
    "colab_type": "code",
    "id": "0jAK2hSARHy_"
   },
   "outputs": [
    {
     "name": "stdout",
     "output_type": "stream",
     "text": [
      "minimum value in  50 , 30 , 40  is  30\n"
     ]
    }
   ],
   "source": [
    "def find_minimum(x,y,z):\n",
    "    if (x < y) and (x < z):\n",
    "        return x\n",
    "    elif (y < z):\n",
    "        return y\n",
    "    else:\n",
    "        return z\n",
    "\n",
    "x = 50\n",
    "y = 30\n",
    "z = 40\n",
    "print('minimum value in ',x,',',y,',',z,' is ', find_minimum(x,y,z))"
   ]
  }
 ],
 "metadata": {
  "colab": {
   "collapsed_sections": [],
   "name": "Practice Exercise-2_Questions",
   "provenance": []
  },
  "kernelspec": {
   "display_name": "Python 3",
   "language": "python",
   "name": "python3"
  },
  "language_info": {
   "codemirror_mode": {
    "name": "ipython",
    "version": 3
   },
   "file_extension": ".py",
   "mimetype": "text/x-python",
   "name": "python",
   "nbconvert_exporter": "python",
   "pygments_lexer": "ipython3",
   "version": "3.8.8"
  }
 },
 "nbformat": 4,
 "nbformat_minor": 1
}
