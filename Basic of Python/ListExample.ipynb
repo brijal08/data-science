{
 "cells": [
  {
   "cell_type": "markdown",
   "id": "c7375457",
   "metadata": {},
   "source": [
    "# List"
   ]
  },
  {
   "cell_type": "code",
   "execution_count": 2,
   "id": "eedd6a42",
   "metadata": {},
   "outputs": [],
   "source": [
    "Simple_List = ['Dan',2,3,4,'python',2.71]"
   ]
  },
  {
   "cell_type": "code",
   "execution_count": 3,
   "id": "0d84a4a8",
   "metadata": {},
   "outputs": [
    {
     "name": "stdout",
     "output_type": "stream",
     "text": [
      "['Dan', 2, 3, 4, 'python', 2.71]\n"
     ]
    }
   ],
   "source": [
    "print(Simple_List)"
   ]
  },
  {
   "cell_type": "markdown",
   "id": "68d1eb07",
   "metadata": {},
   "source": [
    "Accessing index"
   ]
  },
  {
   "cell_type": "code",
   "execution_count": 4,
   "id": "1133b89d",
   "metadata": {},
   "outputs": [
    {
     "name": "stdout",
     "output_type": "stream",
     "text": [
      "Dan\n",
      "4\n",
      "2.71\n",
      "python\n"
     ]
    }
   ],
   "source": [
    "print(Simple_List[0])\n",
    "print(Simple_List[3])\n",
    "print(Simple_List[-1])\n",
    "print(Simple_List[-2])"
   ]
  },
  {
   "cell_type": "markdown",
   "id": "64e1faae",
   "metadata": {},
   "source": [
    "Length of List"
   ]
  },
  {
   "cell_type": "code",
   "execution_count": 5,
   "id": "27dee852",
   "metadata": {},
   "outputs": [
    {
     "name": "stdout",
     "output_type": "stream",
     "text": [
      "6\n"
     ]
    }
   ],
   "source": [
    "print(len(Simple_List))"
   ]
  },
  {
   "cell_type": "markdown",
   "id": "e5f233d4",
   "metadata": {},
   "source": [
    "Changing value into list"
   ]
  },
  {
   "cell_type": "code",
   "execution_count": 6,
   "id": "aa9a324a",
   "metadata": {},
   "outputs": [
    {
     "name": "stdout",
     "output_type": "stream",
     "text": [
      "[9, 2, 3, 4, 'python', 2.71]\n"
     ]
    }
   ],
   "source": [
    "Simple_List[0] = 9\n",
    "print(Simple_List)"
   ]
  },
  {
   "cell_type": "markdown",
   "id": "85d23c5f",
   "metadata": {},
   "source": [
    "Append into list"
   ]
  },
  {
   "cell_type": "code",
   "execution_count": 7,
   "id": "43b0b927",
   "metadata": {},
   "outputs": [
    {
     "name": "stdout",
     "output_type": "stream",
     "text": [
      "[9, 2, 3, 4, 'python', 2.71, 'New Value']\n"
     ]
    }
   ],
   "source": [
    "Simple_List.append('New Value')\n",
    "print(Simple_List)"
   ]
  },
  {
   "cell_type": "markdown",
   "id": "ddc80f61",
   "metadata": {},
   "source": [
    "Pop index element"
   ]
  },
  {
   "cell_type": "code",
   "execution_count": 8,
   "id": "694ee270",
   "metadata": {},
   "outputs": [
    {
     "name": "stdout",
     "output_type": "stream",
     "text": [
      "python\n",
      "[9, 2, 3, 4, 2.71, 'New Value']\n"
     ]
    }
   ],
   "source": [
    "indexElement = Simple_List.pop(4)\n",
    "print(indexElement)\n",
    "print(Simple_List)"
   ]
  },
  {
   "cell_type": "markdown",
   "id": "f72ee24f",
   "metadata": {},
   "source": [
    "Intialize list with given value"
   ]
  },
  {
   "cell_type": "code",
   "execution_count": 9,
   "id": "a4f97cf9",
   "metadata": {},
   "outputs": [
    {
     "name": "stdout",
     "output_type": "stream",
     "text": [
      "[5, 5, 5, 5]\n"
     ]
    }
   ],
   "source": [
    "Repeat_List = [5]*4\n",
    "print(Repeat_List)"
   ]
  },
  {
   "cell_type": "markdown",
   "id": "c4ee0021",
   "metadata": {},
   "source": [
    "Nested list"
   ]
  },
  {
   "cell_type": "code",
   "execution_count": 10,
   "id": "bcd4cbba",
   "metadata": {},
   "outputs": [
    {
     "name": "stdout",
     "output_type": "stream",
     "text": [
      "[[1, 2, 3], 9, 2, 3, 4, 2.71, 'New Value']\n",
      "[1, 2, 3]\n",
      "1\n"
     ]
    }
   ],
   "source": [
    "Simple_List.insert(0,[1,2,3])\n",
    "print(Simple_List)\n",
    "print(Simple_List[0])\n",
    "print(Simple_List[0][0])"
   ]
  },
  {
   "cell_type": "markdown",
   "id": "a458354e",
   "metadata": {},
   "source": [
    "Shallow copy of list"
   ]
  },
  {
   "cell_type": "code",
   "execution_count": 11,
   "id": "4d82fd37",
   "metadata": {},
   "outputs": [
    {
     "name": "stdout",
     "output_type": "stream",
     "text": [
      "[[1, 2, 3], 'Shallow Copy', 2, 3, 4, 2.71, 'New Value']\n",
      "[[1, 2, 3], 'Shallow Copy', 2, 3, 4, 2.71, 'New Value']\n"
     ]
    }
   ],
   "source": [
    "ShallowCopy_List = Simple_List\n",
    "ShallowCopy_List[1] = 'Shallow Copy'\n",
    "print(ShallowCopy_List)\n",
    "print(Simple_List)"
   ]
  },
  {
   "cell_type": "markdown",
   "id": "be05e63d",
   "metadata": {},
   "source": [
    "Deep copy of list"
   ]
  },
  {
   "cell_type": "code",
   "execution_count": 12,
   "id": "746561e9",
   "metadata": {},
   "outputs": [
    {
     "name": "stdout",
     "output_type": "stream",
     "text": [
      "[2, 'Shallow Copy', 2, 3, 4, 2.71, 'New Value']\n",
      "[[1, 2, 3], 'Shallow Copy', 2, 3, 4, 2.71, 'New Value']\n"
     ]
    }
   ],
   "source": [
    "DeepCopy_List = Simple_List.copy()\n",
    "DeepCopy_List[0] = 2\n",
    "print(DeepCopy_List)\n",
    "print(Simple_List)"
   ]
  },
  {
   "cell_type": "markdown",
   "id": "38d12312",
   "metadata": {},
   "source": [
    "slizing"
   ]
  },
  {
   "cell_type": "code",
   "execution_count": 13,
   "id": "d427c00f",
   "metadata": {},
   "outputs": [
    {
     "name": "stdout",
     "output_type": "stream",
     "text": [
      "[[1, 2, 3], 'Shallow Copy', 2, 3, 4, 2.71, 'New Value']\n"
     ]
    }
   ],
   "source": [
    "print(Simple_List)"
   ]
  },
  {
   "cell_type": "code",
   "execution_count": 15,
   "id": "9fccb692",
   "metadata": {},
   "outputs": [
    {
     "name": "stdout",
     "output_type": "stream",
     "text": [
      "['Shallow Copy', 2, 3]\n"
     ]
    }
   ],
   "source": [
    "print(Simple_List[1:4])"
   ]
  },
  {
   "cell_type": "code",
   "execution_count": 16,
   "id": "1359837c",
   "metadata": {},
   "outputs": [
    {
     "name": "stdout",
     "output_type": "stream",
     "text": [
      "[]\n"
     ]
    }
   ],
   "source": [
    "print(Simple_List[-2:-6])"
   ]
  },
  {
   "cell_type": "code",
   "execution_count": 19,
   "id": "1c5863e3",
   "metadata": {},
   "outputs": [
    {
     "name": "stdout",
     "output_type": "stream",
     "text": [
      "[2, 3, 4, 2.71]\n"
     ]
    }
   ],
   "source": [
    "print(Simple_List[-5:-1])"
   ]
  },
  {
   "cell_type": "code",
   "execution_count": 18,
   "id": "77fd2e96",
   "metadata": {},
   "outputs": [
    {
     "name": "stdout",
     "output_type": "stream",
     "text": [
      "[2.71, 4, 3, 2]\n"
     ]
    }
   ],
   "source": [
    "print(Simple_List[-2:-6:-1])"
   ]
  },
  {
   "cell_type": "code",
   "execution_count": 21,
   "id": "69c87e07",
   "metadata": {},
   "outputs": [
    {
     "name": "stdout",
     "output_type": "stream",
     "text": [
      "[1, 2, 3]\n",
      "Shallow Copy\n",
      "2\n",
      "3\n",
      "4\n",
      "2.71\n",
      "New Value\n"
     ]
    }
   ],
   "source": [
    "for i in Simple_List:\n",
    "    print(i)"
   ]
  },
  {
   "cell_type": "code",
   "execution_count": 22,
   "id": "14e3e668",
   "metadata": {},
   "outputs": [
    {
     "ename": "TypeError",
     "evalue": "'>' not supported between instances of 'str' and 'int'",
     "output_type": "error",
     "traceback": [
      "\u001b[1;31m---------------------------------------------------------------------------\u001b[0m",
      "\u001b[1;31mTypeError\u001b[0m                                 Traceback (most recent call last)",
      "\u001b[1;32m<ipython-input-22-f7f471cd9e3c>\u001b[0m in \u001b[0;36m<module>\u001b[1;34m\u001b[0m\n\u001b[0;32m      1\u001b[0m \u001b[0mi\u001b[0m \u001b[1;33m=\u001b[0m \u001b[1;34m'20'\u001b[0m\u001b[1;33m\u001b[0m\u001b[1;33m\u001b[0m\u001b[0m\n\u001b[1;32m----> 2\u001b[1;33m \u001b[1;32mif\u001b[0m \u001b[0mi\u001b[0m \u001b[1;33m>\u001b[0m \u001b[1;36m20\u001b[0m\u001b[1;33m:\u001b[0m\u001b[1;33m\u001b[0m\u001b[1;33m\u001b[0m\u001b[0m\n\u001b[0m\u001b[0;32m      3\u001b[0m     \u001b[0mprint\u001b[0m\u001b[1;33m(\u001b[0m\u001b[1;34m'1'\u001b[0m\u001b[1;33m)\u001b[0m\u001b[1;33m\u001b[0m\u001b[1;33m\u001b[0m\u001b[0m\n\u001b[0;32m      4\u001b[0m \u001b[1;32melse\u001b[0m\u001b[1;33m:\u001b[0m\u001b[1;33m\u001b[0m\u001b[1;33m\u001b[0m\u001b[0m\n\u001b[0;32m      5\u001b[0m     \u001b[0mprint\u001b[0m\u001b[1;33m(\u001b[0m\u001b[1;34m'2'\u001b[0m\u001b[1;33m)\u001b[0m\u001b[1;33m\u001b[0m\u001b[1;33m\u001b[0m\u001b[0m\n",
      "\u001b[1;31mTypeError\u001b[0m: '>' not supported between instances of 'str' and 'int'"
     ]
    }
   ],
   "source": [
    "i = '20'\n",
    "if i > 20:\n",
    "    print('1')\n",
    "else:\n",
    "    print('2')"
   ]
  },
  {
   "cell_type": "code",
   "execution_count": 25,
   "id": "d55b8863",
   "metadata": {},
   "outputs": [
    {
     "name": "stdout",
     "output_type": "stream",
     "text": [
      "78090.77777777778\n"
     ]
    }
   ],
   "source": [
    "x =5\n",
    "y =7\n",
    "z=9\n",
    "print((x**y) + (y/z) + (x-y) +(z-y) - (y*x))"
   ]
  },
  {
   "cell_type": "code",
   "execution_count": 26,
   "id": "1db0ad03",
   "metadata": {},
   "outputs": [
    {
     "ename": "SyntaxError",
     "evalue": "EOL while scanning string literal (<ipython-input-26-eaac87876c3b>, line 1)",
     "output_type": "error",
     "traceback": [
      "\u001b[1;36m  File \u001b[1;32m\"<ipython-input-26-eaac87876c3b>\"\u001b[1;36m, line \u001b[1;32m1\u001b[0m\n\u001b[1;33m    print('\\')\u001b[0m\n\u001b[1;37m              ^\u001b[0m\n\u001b[1;31mSyntaxError\u001b[0m\u001b[1;31m:\u001b[0m EOL while scanning string literal\n"
     ]
    }
   ],
   "source": [
    "print('\\')"
   ]
  },
  {
   "cell_type": "code",
   "execution_count": 27,
   "id": "9d7ec6f0",
   "metadata": {},
   "outputs": [
    {
     "name": "stdout",
     "output_type": "stream",
     "text": [
      "78090.77777777778\n"
     ]
    }
   ],
   "source": [
    "another_lambda = lambda x,y,z: (x**y) + (y/z) + (x-y) + (z-y) - (y*x)\n",
    "print(another_lambda(5,7,9))"
   ]
  },
  {
   "cell_type": "code",
   "execution_count": 31,
   "id": "d7552f80",
   "metadata": {},
   "outputs": [
    {
     "name": "stdout",
     "output_type": "stream",
     "text": [
      "''\n"
     ]
    }
   ],
   "source": [
    "print('\\'\\'')"
   ]
  },
  {
   "cell_type": "code",
   "execution_count": null,
   "id": "52ce41d2",
   "metadata": {},
   "outputs": [],
   "source": []
  }
 ],
 "metadata": {
  "kernelspec": {
   "display_name": "Python 3",
   "language": "python",
   "name": "python3"
  },
  "language_info": {
   "codemirror_mode": {
    "name": "ipython",
    "version": 3
   },
   "file_extension": ".py",
   "mimetype": "text/x-python",
   "name": "python",
   "nbconvert_exporter": "python",
   "pygments_lexer": "ipython3",
   "version": "3.8.8"
  }
 },
 "nbformat": 4,
 "nbformat_minor": 5
}
