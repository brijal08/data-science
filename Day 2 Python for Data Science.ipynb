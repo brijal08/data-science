{
 "cells": [
  {
   "cell_type": "code",
   "execution_count": 2,
   "id": "e68d4577",
   "metadata": {},
   "outputs": [
    {
     "name": "stdout",
     "output_type": "stream",
     "text": [
      "17 * 1 = 17\n",
      "17 * 2 = 34\n",
      "17 * 3 = 51\n",
      "17 * 4 = 68\n",
      "17 * 5 = 85\n",
      "17 * 6 = 102\n",
      "17 * 7 = 119\n",
      "17 * 8 = 136\n",
      "17 * 9 = 153\n",
      "17 * 10 = 170\n"
     ]
    }
   ],
   "source": [
    "value = 17\n",
    "for i in range(1,11):\n",
    "    print(value,\"*\",i,\"=\",i * value,)\n"
   ]
  },
  {
   "cell_type": "code",
   "execution_count": 5,
   "id": "3bdd09dd",
   "metadata": {},
   "outputs": [
    {
     "name": "stdout",
     "output_type": "stream",
     "text": [
      "Not sure about the climat in Delhi\n",
      "Not sure about the climat in Pune\n",
      "Its Raining in Mumbai\n",
      "Not sure about the climat in Hyderabad\n",
      "Not sure about the climat in Bangalore\n"
     ]
    }
   ],
   "source": [
    "cities = ['Delhi','Pune','Mumbai','Hyderabad','Bangalore']\n",
    "for city in cities:\n",
    "    if(city == 'pune'):\n",
    "        print('Its cloudy in pune')\n",
    "    elif(city == 'Mumbai'):\n",
    "        print('Its Raining in Mumbai')\n",
    "    else:\n",
    "        print('Not sure about the climat in',city)\n"
   ]
  },
  {
   "cell_type": "code",
   "execution_count": 7,
   "id": "863e440e",
   "metadata": {},
   "outputs": [
    {
     "name": "stdout",
     "output_type": "stream",
     "text": [
      "sum of 5  and  10 is 15\n"
     ]
    }
   ],
   "source": [
    "def sum(arg1,arg2):\n",
    "    print('sum of',arg1,\" and \", arg2,'is', arg1 + arg2)\n",
    "\n",
    "sum(5,10)\n"
   ]
  },
  {
   "cell_type": "code",
   "execution_count": 9,
   "id": "a12b55cd",
   "metadata": {},
   "outputs": [
    {
     "name": "stdout",
     "output_type": "stream",
     "text": [
      "output is 324\n",
      "output is 27\n"
     ]
    }
   ],
   "source": [
    "def func1(number):\n",
    "    if(number <= 10):\n",
    "        return number ** 3\n",
    "    else:\n",
    "        return number ** 2\n",
    "    \n",
    "print('output is', func1(18))\n",
    "print('output is', func1(3))"
   ]
  },
  {
   "cell_type": "code",
   "execution_count": 10,
   "id": "1b46e88c",
   "metadata": {},
   "outputs": [],
   "source": [
    "d1 = {'A':'Alpha','B':'Bita','C':'Gamma'}"
   ]
  },
  {
   "cell_type": "code",
   "execution_count": 11,
   "id": "123c9226",
   "metadata": {},
   "outputs": [
    {
     "data": {
      "text/plain": [
       "dict"
      ]
     },
     "execution_count": 11,
     "metadata": {},
     "output_type": "execute_result"
    }
   ],
   "source": [
    "type(d1)"
   ]
  },
  {
   "cell_type": "code",
   "execution_count": 19,
   "id": "6e9347a8",
   "metadata": {},
   "outputs": [],
   "source": [
    "L1 = list(d1.items())"
   ]
  },
  {
   "cell_type": "code",
   "execution_count": 14,
   "id": "8bae2f96",
   "metadata": {},
   "outputs": [
    {
     "data": {
      "text/plain": [
       "['A', 'B', 'C']"
      ]
     },
     "execution_count": 14,
     "metadata": {},
     "output_type": "execute_result"
    }
   ],
   "source": [
    "L1"
   ]
  },
  {
   "cell_type": "code",
   "execution_count": 15,
   "id": "ff13151b",
   "metadata": {},
   "outputs": [],
   "source": [
    "L2 = []"
   ]
  },
  {
   "cell_type": "code",
   "execution_count": 17,
   "id": "34420047",
   "metadata": {},
   "outputs": [
    {
     "name": "stdout",
     "output_type": "stream",
     "text": [
      "A\n",
      "B\n",
      "C\n"
     ]
    }
   ],
   "source": [
    "for data in d1:\n",
    "    print(data)"
   ]
  },
  {
   "cell_type": "code",
   "execution_count": 20,
   "id": "8eb78a1c",
   "metadata": {},
   "outputs": [
    {
     "name": "stdout",
     "output_type": "stream",
     "text": [
      "Alpha\n",
      "Bita\n",
      "Gamma\n"
     ]
    }
   ],
   "source": [
    "for data in d1:\n",
    "    print(d1[data])"
   ]
  },
  {
   "cell_type": "code",
   "execution_count": 26,
   "id": "80d37cb0",
   "metadata": {},
   "outputs": [
    {
     "name": "stdout",
     "output_type": "stream",
     "text": [
      "['A', 'Alpha', 'B', 'Bita', 'C', 'Gamma']\n"
     ]
    }
   ],
   "source": [
    "for data in d1:\n",
    "    L2.append(data)\n",
    "    L2.append(d1[data])\n",
    "print(L2)\n",
    "\n",
    "L2.clear()\n"
   ]
  },
  {
   "cell_type": "code",
   "execution_count": 27,
   "id": "9c91ec28",
   "metadata": {},
   "outputs": [
    {
     "data": {
      "text/plain": [
       "dict_items([('A', 'Alpha'), ('B', 'Bita'), ('C', 'Gamma')])"
      ]
     },
     "execution_count": 27,
     "metadata": {},
     "output_type": "execute_result"
    }
   ],
   "source": [
    "d1.items()\n"
   ]
  },
  {
   "cell_type": "code",
   "execution_count": 28,
   "id": "07e4fe55",
   "metadata": {},
   "outputs": [
    {
     "data": {
      "text/plain": [
       "[('A', 'Alpha'), ('B', 'Bita'), ('C', 'Gamma')]"
      ]
     },
     "execution_count": 28,
     "metadata": {},
     "output_type": "execute_result"
    }
   ],
   "source": [
    "list(d1.items())"
   ]
  },
  {
   "cell_type": "code",
   "execution_count": 29,
   "id": "2ed3d063",
   "metadata": {},
   "outputs": [
    {
     "data": {
      "text/plain": [
       "('A', 'Alpha')"
      ]
     },
     "execution_count": 29,
     "metadata": {},
     "output_type": "execute_result"
    }
   ],
   "source": [
    "list(d1.items())[0]"
   ]
  },
  {
   "cell_type": "code",
   "execution_count": 30,
   "id": "8bfaac47",
   "metadata": {},
   "outputs": [
    {
     "data": {
      "text/plain": [
       "'A'"
      ]
     },
     "execution_count": 30,
     "metadata": {},
     "output_type": "execute_result"
    }
   ],
   "source": [
    "list(d1.items())[0][0]"
   ]
  },
  {
   "cell_type": "code",
   "execution_count": 33,
   "id": "8c0329b0",
   "metadata": {},
   "outputs": [
    {
     "data": {
      "text/plain": [
       "array([[1, 2, 3, 4],\n",
       "       [5, 6, 7, 8]])"
      ]
     },
     "execution_count": 33,
     "metadata": {},
     "output_type": "execute_result"
    }
   ],
   "source": [
    "import numpy as np\n",
    "\n",
    "arr = np.arange(1,9).reshape(2,4)\n",
    "arr"
   ]
  },
  {
   "cell_type": "code",
   "execution_count": 43,
   "id": "aae2cc0a",
   "metadata": {},
   "outputs": [
    {
     "data": {
      "text/plain": [
       "array([[  1,   2,   3,   4,   5,   6,   7,   8,   9,  10],\n",
       "       [ 11,  12,  13,  14,  15,  16,  17,  18,  19,  20],\n",
       "       [ 21,  22,  23,  24,  25,  26,  27,  28,  29,  30],\n",
       "       [ 31,  32,  33,  34,  35,  36,  37,  38,  39,  40],\n",
       "       [ 41,  42,  43,  44,  45,  46,  47,  48,  49,  50],\n",
       "       [ 51,  52,  53,  54,  55,  56,  57,  58,  59,  60],\n",
       "       [ 61,  62,  63,  64,  65,  66,  67,  68,  69,  70],\n",
       "       [ 71,  72,  73,  74,  75,  76,  77,  78,  79,  80],\n",
       "       [ 81,  82,  83,  84,  85,  86,  87,  88,  89,  90],\n",
       "       [ 91,  92,  93,  94,  95,  96,  97,  98,  99, 100]])"
      ]
     },
     "execution_count": 43,
     "metadata": {},
     "output_type": "execute_result"
    }
   ],
   "source": [
    "b = np.arange(1,101).reshape(10,10)\n",
    "b"
   ]
  },
  {
   "cell_type": "code",
   "execution_count": 46,
   "id": "7d3160bd",
   "metadata": {},
   "outputs": [
    {
     "name": "stdout",
     "output_type": "stream",
     "text": [
      "2\n",
      "12\n",
      "22\n",
      "32\n",
      "42\n",
      "52\n",
      "62\n",
      "72\n",
      "82\n",
      "92\n"
     ]
    }
   ],
   "source": [
    "for i in b:\n",
    "    print(i[1])"
   ]
  },
  {
   "cell_type": "code",
   "execution_count": 47,
   "id": "047a3d19",
   "metadata": {},
   "outputs": [
    {
     "data": {
      "text/plain": [
       "array([ 2, 12, 22, 32, 42, 52, 62, 72, 82, 92])"
      ]
     },
     "execution_count": 47,
     "metadata": {},
     "output_type": "execute_result"
    }
   ],
   "source": [
    "b[:,1]"
   ]
  },
  {
   "cell_type": "code",
   "execution_count": 49,
   "id": "2ead1071",
   "metadata": {},
   "outputs": [
    {
     "data": {
      "text/plain": [
       "array([[ 2,  3,  4,  5],\n",
       "       [12, 13, 14, 15],\n",
       "       [22, 23, 24, 25],\n",
       "       [32, 33, 34, 35],\n",
       "       [42, 43, 44, 45],\n",
       "       [52, 53, 54, 55],\n",
       "       [62, 63, 64, 65],\n",
       "       [72, 73, 74, 75],\n",
       "       [82, 83, 84, 85],\n",
       "       [92, 93, 94, 95]])"
      ]
     },
     "execution_count": 49,
     "metadata": {},
     "output_type": "execute_result"
    }
   ],
   "source": [
    "b[:,1:5]"
   ]
  },
  {
   "cell_type": "code",
   "execution_count": 51,
   "id": "cc4f2cf9",
   "metadata": {},
   "outputs": [
    {
     "data": {
      "text/plain": [
       "array([ 6, 20, 16, 33,  8])"
      ]
     },
     "execution_count": 51,
     "metadata": {},
     "output_type": "execute_result"
    }
   ],
   "source": [
    "np.random.randint(1,51,size = 5)\n"
   ]
  },
  {
   "cell_type": "code",
   "execution_count": 52,
   "id": "49b6259f",
   "metadata": {},
   "outputs": [
    {
     "data": {
      "text/plain": [
       "array([27, 49, 19,  8,  5])"
      ]
     },
     "execution_count": 52,
     "metadata": {},
     "output_type": "execute_result"
    }
   ],
   "source": [
    "np.random.randint(1,51,5)"
   ]
  },
  {
   "cell_type": "code",
   "execution_count": 53,
   "id": "bcc6864f",
   "metadata": {},
   "outputs": [
    {
     "data": {
      "text/plain": [
       "array([45, 48,  1,  4,  4])"
      ]
     },
     "execution_count": 53,
     "metadata": {},
     "output_type": "execute_result"
    }
   ],
   "source": [
    "np.random.seed(0)\n",
    "np.random.randint(1,51,5)"
   ]
  },
  {
   "cell_type": "code",
   "execution_count": 54,
   "id": "3bf7657c",
   "metadata": {},
   "outputs": [
    {
     "data": {
      "text/plain": [
       "array([ 0.37025538,  1.04053075, -1.51698273, -0.86627621, -0.05503512,\n",
       "       -0.10731045,  1.36546718, -0.09769572, -2.42595457, -0.4530558 ])"
      ]
     },
     "execution_count": 54,
     "metadata": {},
     "output_type": "execute_result"
    }
   ],
   "source": [
    "np.random.randn(10)\n"
   ]
  },
  {
   "cell_type": "code",
   "execution_count": null,
   "id": "58a9d184",
   "metadata": {},
   "outputs": [],
   "source": []
  }
 ],
 "metadata": {
  "kernelspec": {
   "display_name": "Python 3",
   "language": "python",
   "name": "python3"
  },
  "language_info": {
   "codemirror_mode": {
    "name": "ipython",
    "version": 3
   },
   "file_extension": ".py",
   "mimetype": "text/x-python",
   "name": "python",
   "nbconvert_exporter": "python",
   "pygments_lexer": "ipython3",
   "version": "3.8.8"
  }
 },
 "nbformat": 4,
 "nbformat_minor": 5
}
